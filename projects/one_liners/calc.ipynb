{
 "cells": [
  {
   "cell_type": "code",
   "execution_count": 1,
   "metadata": {},
   "outputs": [
    {
     "name": "stdout",
     "output_type": "stream",
     "text": [
      "Output:  36\n"
     ]
    }
   ],
   "source": [
    "x = input(\"Input an expression: \")\n",
    "print(\"Output: \",eval(x))"
   ]
  }
 ],
 "metadata": {
  "interpreter": {
   "hash": "6066184e1aa427624f0ae889597d012321960d0d1906496caae846833fdbecd3"
  },
  "kernelspec": {
   "display_name": "Python 3.9.7 64-bit ('automate': conda)",
   "language": "python",
   "name": "python3"
  },
  "language_info": {
   "codemirror_mode": {
    "name": "ipython",
    "version": 3
   },
   "file_extension": ".py",
   "mimetype": "text/x-python",
   "name": "python",
   "nbconvert_exporter": "python",
   "pygments_lexer": "ipython3",
   "version": "3.9.7"
  },
  "orig_nbformat": 4
 },
 "nbformat": 4,
 "nbformat_minor": 2
}
