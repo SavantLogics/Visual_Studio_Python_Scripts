{
 "cells": [
  {
   "cell_type": "code",
   "execution_count": 1,
   "metadata": {},
   "outputs": [],
   "source": [
    "import numpy as np\n",
    "import pandas as pd \n",
    "import plotly.express as px\n"
   ]
  },
  {
   "cell_type": "code",
   "execution_count": 2,
   "metadata": {},
   "outputs": [],
   "source": [
    "import  plotly.graph_objs as go "
   ]
  },
  {
   "cell_type": "code",
   "execution_count": 3,
   "metadata": {},
   "outputs": [],
   "source": [
    "two_dice_average = [3, 3.6]\n",
    "five_dice_average = [4.1, 4, 3.5, 3.7, 3.3]\n",
    "ten_dice_average = [3.4, 3.5, 3.9, 2.3, 3.4, 4.1, 3.3, 2.8, 4, 3.1]"
   ]
  },
  {
   "cell_type": "code",
   "execution_count": 4,
   "metadata": {},
   "outputs": [],
   "source": [
    "df_two = pd.DataFrame(two_dice_average)\n",
    "df_five = pd.DataFrame(five_dice_average)\n",
    "df_ten  = pd.DataFrame(ten_dice_average)"
   ]
  },
  {
   "cell_type": "code",
   "execution_count": 5,
   "metadata": {},
   "outputs": [
    {
     "data": {
      "text/plain": [
       "array([[<AxesSubplot:title={'center':'0'}>]], dtype=object)"
      ]
     },
     "execution_count": 5,
     "metadata": {},
     "output_type": "execute_result"
    }
   ],
   "source": [
    "df_ten.hist()"
   ]
  }
 ],
 "metadata": {
  "interpreter": {
   "hash": "6066184e1aa427624f0ae889597d012321960d0d1906496caae846833fdbecd3"
  },
  "kernelspec": {
   "display_name": "Python 3.9.7 64-bit ('automate': conda)",
   "language": "python",
   "name": "python3"
  },
  "language_info": {
   "codemirror_mode": {
    "name": "ipython",
    "version": 3
   },
   "file_extension": ".py",
   "mimetype": "text/x-python",
   "name": "python",
   "nbconvert_exporter": "python",
   "pygments_lexer": "ipython3",
   "version": "3.9.7"
  },
  "orig_nbformat": 4
 },
 "nbformat": 4,
 "nbformat_minor": 2
}
