{
 "cells": [
  {
   "cell_type": "code",
   "execution_count": 6,
   "metadata": {},
   "outputs": [],
   "source": [
    "# Install the necessary packages\n",
    "# !pip install PyPDF2 openpyxl\n",
    "\n",
    "import PyPDF2\n",
    "from openpyxl import Workbook"
   ]
  },
  {
   "cell_type": "code",
   "execution_count": 7,
   "metadata": {},
   "outputs": [],
   "source": [
    "def extract_text_from_pdf(pdf_file):\n",
    "    with open(pdf_file, 'rb') as file:\n",
    "        # Initialize PDF reader using PdfReader.\n",
    "        reader = PyPDF2.PdfReader(file)\n",
    "        text = []\n",
    "\n",
    "        # Iterate through all pages and extract text.\n",
    "        for page in reader.pages:\n",
    "            text.append(page.extract_text())\n",
    "\n",
    "    return text"
   ]
  },
  {
   "cell_type": "code",
   "execution_count": 8,
   "metadata": {},
   "outputs": [],
   "source": [
    "from openpyxl import Workbook\n",
    "\n",
    "def export_to_excel(data, excel_file):\n",
    "    wb = Workbook()  # Initialize an Excel workbook.\n",
    "\n",
    "    for idx, pdf_text in enumerate(data, 1):\n",
    "        # For the first PDF, use the default sheet.\n",
    "        if idx == 1:\n",
    "            ws = wb.active\n",
    "            ws.title = f\"PDF {idx}\"\n",
    "        # For other PDFs, create a new sheet.\n",
    "        else:\n",
    "            ws = wb.create_sheet(title=f\"PDF {idx}\")\n",
    "\n",
    "        # Append the extracted text to the Excel sheet.\n",
    "        for row, content in enumerate(pdf_text, 1):\n",
    "            ws.append([content])\n",
    "\n",
    "    wb.save(excel_file)  # Save the Excel workbook."
   ]
  },
  {
   "cell_type": "code",
   "execution_count": 9,
   "metadata": {},
   "outputs": [],
   "source": [
    "def pdf_to_excel(pdf_files, excel_file):\n",
    "    all_data = [extract_text_from_pdf(pdf_file) for pdf_file in pdf_files]  # Extract text from each PDF.\n",
    "    export_to_excel(all_data, excel_file)  # Export the extracted data to Excel."
   ]
  },
  {
   "cell_type": "code",
   "execution_count": 10,
   "metadata": {},
   "outputs": [],
   "source": [
    "pdf_files = ['27_examples_of_key_performance_indicators.pdf', 'ai_ethics_recommendation.pdf', 'artificial_intelligence_ethics_framework_for_the_intelligence_community.pdf', 'creating_an_it_strategic_plan__a_step-by-step_guide_for_cios_and_it_leaders.pdf', 'iso_8000.pdf', 'it_kpis_-_the_12_it_kpi_examples_you_need_to_track.pdf', 'it_strategic_planning__managing_change_in_the_realm_of_digital_transformation.pdf', 'ITStrategicplan_BostonCollege.pdf', 'Wk1_Business_Continuity_Strategy_Example.pdf', 'Wk1_Procurement.pdf', 'Wk1_Quality.pdf', 'Wk1_Risk_Assessment_Example.pdf', 'wk3_iso_9001_and_related_standards.pdf', 'wk3_val_it_framework_-_cio_wiki.pdf', 'wk4_ethics_of_artificial_intelligence.pdf']\n",
    "output_excel_file = 'midterm_resources_secondary.xlsx'\n",
    "\n",
    "pdf_to_excel(pdf_files, output_excel_file)\n"
   ]
  }
 ],
 "metadata": {
  "kernelspec": {
   "display_name": "Python 3",
   "language": "python",
   "name": "python3"
  },
  "language_info": {
   "codemirror_mode": {
    "name": "ipython",
    "version": 3
   },
   "file_extension": ".py",
   "mimetype": "text/x-python",
   "name": "python",
   "nbconvert_exporter": "python",
   "pygments_lexer": "ipython3",
   "version": "3.10.11"
  }
 },
 "nbformat": 4,
 "nbformat_minor": 2
}
