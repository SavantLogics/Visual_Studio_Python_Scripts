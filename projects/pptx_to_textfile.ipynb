{
 "cells": [
  {
   "cell_type": "code",
   "execution_count": 1,
   "metadata": {},
   "outputs": [],
   "source": [
    "### Installing the necessary libraries \n",
    "# !pip install python-pptx openpyxl\n",
    "\n",
    "# Importing the Presentation class from the python-pptx module to handle PowerPoint operations.\n",
    "from pptx import Presentation\n",
    "\n",
    "# Importing the Workbook class from the openpyxl module to handle Excel operations.\n",
    "from openpyxl import Workbook"
   ]
  },
  {
   "cell_type": "markdown",
   "metadata": {},
   "source": [
    "1. Read the content from the PowerPoint.\n",
    "2. Export the content to an Excel sheet."
   ]
  },
  {
   "cell_type": "code",
   "execution_count": 2,
   "metadata": {},
   "outputs": [],
   "source": [
    "# Create a function to extract text from a PowerPoint:\n",
    "# Function to extract text from a PowerPoint file.\n",
    "def extract_text_from_ppt(ppt_file):\n",
    "    # Load the PowerPoint file into a Presentation object.\n",
    "    presentation = Presentation(ppt_file)\n",
    "    slides_text = []  # Initialize an empty list to store text from each slide.\n",
    "\n",
    "    # Loop through each slide in the presentation.\n",
    "    for slide in presentation.slides:\n",
    "        slide_text = ''  # Initialize an empty string to store text from the current slide.\n",
    "\n",
    "        # Loop through each shape (element) in the slide.\n",
    "        for shape in slide.shapes:\n",
    "            # Check if the shape has a text attribute (i.e., it contains text).\n",
    "            if hasattr(shape, \"text\"):\n",
    "                # Append the shape's text to the slide_text string.\n",
    "                slide_text += shape.text + '\\n'\n",
    "        # Append the text from the current slide to the slides_text list.\n",
    "        slides_text.append(slide_text)\n",
    "\n",
    "    return slides_text  # Return the list containing text from all slides."
   ]
  },
  {
   "cell_type": "code",
   "execution_count": 3,
   "metadata": {},
   "outputs": [],
   "source": [
    "# Function to export the extracted text into an Excel file.\n",
    "def export_to_excel(data, excel_file):\n",
    "    # Create a new Excel workbook.\n",
    "    wb = Workbook()\n",
    "    \n",
    "    # Loop through each set of slide texts (from different PowerPoints).\n",
    "    for idx, slides_text in enumerate(data, 1):\n",
    "        # If it's the first PowerPoint, use the already created default sheet.\n",
    "        if idx == 1:\n",
    "            ws = wb.active\n",
    "            ws.title = f\"PowerPoint {idx}\"\n",
    "        # For subsequent PowerPoints, create new sheets.\n",
    "        else:\n",
    "            ws = wb.create_sheet(title=f\"PowerPoint {idx}\")\n",
    "        \n",
    "        # Loop through each slide's text.\n",
    "        for row_idx, slide_text in enumerate(slides_text, 1):\n",
    "            # Insert the slide text as a new row in the Excel sheet.\n",
    "            ws.append([slide_text])\n",
    "\n",
    "    # Save the filled Excel workbook to the specified file.\n",
    "    wb.save(excel_file)"
   ]
  },
  {
   "cell_type": "code",
   "execution_count": 4,
   "metadata": {},
   "outputs": [],
   "source": [
    "# Function to convert text from multiple PowerPoint files into separate sheets of an Excel file.\n",
    "def ppt_to_excel(ppt_files, excel_file):\n",
    "    # Extract text from each PowerPoint and store it in a list.\n",
    "    all_data = [extract_text_from_ppt(ppt_file) for ppt_file in ppt_files]\n",
    "    # Export the extracted data to the Excel file.\n",
    "    export_to_excel(all_data, excel_file)"
   ]
  },
  {
   "cell_type": "code",
   "execution_count": 7,
   "metadata": {},
   "outputs": [],
   "source": [
    "# List of PowerPoint files to process.\n",
    "ppt_files = ['Wk1_Risk_Mgmt.pptx', 'Wk2_Regulatory_Env.pptx', 'Wk3_Compliance Privacy Governance.pptx', 'Wk4_AI_Ethics.pptx', 'Wk5_Cybersecurity.pptx', 'Wk7_Data_Quality.pptx', 'Wk8_Strategic_Planning_IT.pptx']\n",
    "# Name of the output Excel file.\n",
    "output_excel_file = 'midterm_output.xlsx'\n",
    "\n",
    "# Convert the text from the PowerPoint files into the Excel file.\n",
    "ppt_to_excel(ppt_files, output_excel_file)"
   ]
  }
 ],
 "metadata": {
  "kernelspec": {
   "display_name": "Python 3",
   "language": "python",
   "name": "python3"
  },
  "language_info": {
   "codemirror_mode": {
    "name": "ipython",
    "version": 3
   },
   "file_extension": ".py",
   "mimetype": "text/x-python",
   "name": "python",
   "nbconvert_exporter": "python",
   "pygments_lexer": "ipython3",
   "version": "3.10.11"
  }
 },
 "nbformat": 4,
 "nbformat_minor": 2
}
