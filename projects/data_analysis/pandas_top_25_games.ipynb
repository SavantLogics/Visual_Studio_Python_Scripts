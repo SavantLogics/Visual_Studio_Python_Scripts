{
 "cells": [
  {
   "cell_type": "code",
   "execution_count": 1,
   "metadata": {},
   "outputs": [],
   "source": [
    "import pandas as pd"
   ]
  },
  {
   "cell_type": "code",
   "execution_count": 2,
   "metadata": {},
   "outputs": [],
   "source": [
    "df = pd.read_csv(\"~/Github/csv/top_25_games.csv\")"
   ]
  },
  {
   "cell_type": "markdown",
   "metadata": {},
   "source": [
    "## Verify the data imported correctly"
   ]
  },
  {
   "cell_type": "code",
   "execution_count": 3,
   "metadata": {},
   "outputs": [
    {
     "name": "stdout",
     "output_type": "stream",
     "text": [
      "<class 'pandas.core.frame.DataFrame'>\n",
      "RangeIndex: 25 entries, 0 to 24\n",
      "Data columns (total 6 columns):\n",
      " #   Column        Non-Null Count  Dtype  \n",
      "---  ------        --------------  -----  \n",
      " 0   name          25 non-null     object \n",
      " 1   platform      25 non-null     object \n",
      " 2   release_date  25 non-null     object \n",
      " 3   summary       25 non-null     object \n",
      " 4   meta_score    25 non-null     int64  \n",
      " 5   user_review   25 non-null     float64\n",
      "dtypes: float64(1), int64(1), object(4)\n",
      "memory usage: 1.3+ KB\n"
     ]
    }
   ],
   "source": [
    "df.info()"
   ]
  },
  {
   "cell_type": "code",
   "execution_count": 4,
   "metadata": {},
   "outputs": [
    {
     "data": {
      "text/html": [
       "<div>\n",
       "<style scoped>\n",
       "    .dataframe tbody tr th:only-of-type {\n",
       "        vertical-align: middle;\n",
       "    }\n",
       "\n",
       "    .dataframe tbody tr th {\n",
       "        vertical-align: top;\n",
       "    }\n",
       "\n",
       "    .dataframe thead th {\n",
       "        text-align: right;\n",
       "    }\n",
       "</style>\n",
       "<table border=\"1\" class=\"dataframe\">\n",
       "  <thead>\n",
       "    <tr style=\"text-align: right;\">\n",
       "      <th></th>\n",
       "      <th>name</th>\n",
       "      <th>platform</th>\n",
       "      <th>release_date</th>\n",
       "      <th>summary</th>\n",
       "      <th>meta_score</th>\n",
       "      <th>user_review</th>\n",
       "    </tr>\n",
       "  </thead>\n",
       "  <tbody>\n",
       "    <tr>\n",
       "      <th>0</th>\n",
       "      <td>The Legend of Zelda: Ocarina of Time</td>\n",
       "      <td>Nintendo 64</td>\n",
       "      <td>23-Nov-98</td>\n",
       "      <td>As a young boy, Link is tricked by Ganondorf, ...</td>\n",
       "      <td>99</td>\n",
       "      <td>9.1</td>\n",
       "    </tr>\n",
       "    <tr>\n",
       "      <th>1</th>\n",
       "      <td>Tony Hawk's Pro Skater 2</td>\n",
       "      <td>PlayStation</td>\n",
       "      <td>20-Sep-00</td>\n",
       "      <td>As most major publishers' development efforts ...</td>\n",
       "      <td>98</td>\n",
       "      <td>7.4</td>\n",
       "    </tr>\n",
       "    <tr>\n",
       "      <th>2</th>\n",
       "      <td>Grand Theft Auto IV</td>\n",
       "      <td>PlayStation 3</td>\n",
       "      <td>29-Apr-08</td>\n",
       "      <td>[Metacritic's 2008 PS3 Game of the Year; Also ...</td>\n",
       "      <td>98</td>\n",
       "      <td>7.7</td>\n",
       "    </tr>\n",
       "    <tr>\n",
       "      <th>3</th>\n",
       "      <td>SoulCalibur</td>\n",
       "      <td>Dreamcast</td>\n",
       "      <td>08-Sep-99</td>\n",
       "      <td>This is a tale of souls and swords, transcendi...</td>\n",
       "      <td>98</td>\n",
       "      <td>8.4</td>\n",
       "    </tr>\n",
       "    <tr>\n",
       "      <th>4</th>\n",
       "      <td>Grand Theft Auto IV</td>\n",
       "      <td>Xbox 360</td>\n",
       "      <td>29-Apr-08</td>\n",
       "      <td>[Metacritic's 2008 Xbox 360 Game of the Year; ...</td>\n",
       "      <td>98</td>\n",
       "      <td>7.9</td>\n",
       "    </tr>\n",
       "  </tbody>\n",
       "</table>\n",
       "</div>"
      ],
      "text/plain": [
       "                                   name        platform release_date  \\\n",
       "0  The Legend of Zelda: Ocarina of Time     Nintendo 64    23-Nov-98   \n",
       "1              Tony Hawk's Pro Skater 2     PlayStation    20-Sep-00   \n",
       "2                   Grand Theft Auto IV   PlayStation 3    29-Apr-08   \n",
       "3                           SoulCalibur       Dreamcast    08-Sep-99   \n",
       "4                   Grand Theft Auto IV        Xbox 360    29-Apr-08   \n",
       "\n",
       "                                             summary  meta_score  user_review  \n",
       "0  As a young boy, Link is tricked by Ganondorf, ...          99          9.1  \n",
       "1  As most major publishers' development efforts ...          98          7.4  \n",
       "2  [Metacritic's 2008 PS3 Game of the Year; Also ...          98          7.7  \n",
       "3  This is a tale of souls and swords, transcendi...          98          8.4  \n",
       "4  [Metacritic's 2008 Xbox 360 Game of the Year; ...          98          7.9  "
      ]
     },
     "execution_count": 4,
     "metadata": {},
     "output_type": "execute_result"
    }
   ],
   "source": [
    "df.head()"
   ]
  },
  {
   "cell_type": "markdown",
   "metadata": {},
   "source": [
    "## Check for missing values "
   ]
  },
  {
   "cell_type": "code",
   "execution_count": 5,
   "metadata": {},
   "outputs": [
    {
     "data": {
      "text/plain": [
       "name            0\n",
       "platform        0\n",
       "release_date    0\n",
       "summary         0\n",
       "meta_score      0\n",
       "user_review     0\n",
       "dtype: int64"
      ]
     },
     "execution_count": 5,
     "metadata": {},
     "output_type": "execute_result"
    }
   ],
   "source": [
    "df.isna().sum()"
   ]
  },
  {
   "cell_type": "markdown",
   "metadata": {},
   "source": [
    "## Change \"release_date\" object into a pandas date"
   ]
  },
  {
   "cell_type": "code",
   "execution_count": 6,
   "metadata": {},
   "outputs": [
    {
     "data": {
      "text/plain": [
       "0   1998-11-23\n",
       "1   2000-09-20\n",
       "2   2008-04-29\n",
       "3   1999-09-08\n",
       "4   2008-04-29\n",
       "Name: release_date, dtype: datetime64[ns]"
      ]
     },
     "execution_count": 6,
     "metadata": {},
     "output_type": "execute_result"
    }
   ],
   "source": [
    "pd.to_datetime(df['release_date'], dayfirst=True).head()"
   ]
  },
  {
   "cell_type": "code",
   "execution_count": 7,
   "metadata": {},
   "outputs": [
    {
     "name": "stdout",
     "output_type": "stream",
     "text": [
      "<class 'pandas.core.frame.DataFrame'>\n",
      "RangeIndex: 25 entries, 0 to 24\n",
      "Data columns (total 6 columns):\n",
      " #   Column        Non-Null Count  Dtype         \n",
      "---  ------        --------------  -----         \n",
      " 0   name          25 non-null     object        \n",
      " 1   platform      25 non-null     object        \n",
      " 2   release_date  25 non-null     datetime64[ns]\n",
      " 3   summary       25 non-null     object        \n",
      " 4   meta_score    25 non-null     int64         \n",
      " 5   user_review   25 non-null     float64       \n",
      "dtypes: datetime64[ns](1), float64(1), int64(1), object(3)\n",
      "memory usage: 1.3+ KB\n"
     ]
    }
   ],
   "source": [
    "df['release_date'] = pd.to_datetime(df['release_date'], dayfirst=True)\n",
    "df.info()"
   ]
  },
  {
   "cell_type": "code",
   "execution_count": 8,
   "metadata": {},
   "outputs": [
    {
     "name": "stdout",
     "output_type": "stream",
     "text": [
      "<class 'pandas.core.frame.DataFrame'>\n",
      "RangeIndex: 25 entries, 0 to 24\n",
      "Data columns (total 6 columns):\n",
      " #   Column        Non-Null Count  Dtype         \n",
      "---  ------        --------------  -----         \n",
      " 0   name          25 non-null     object        \n",
      " 1   platform      25 non-null     category      \n",
      " 2   release_date  25 non-null     datetime64[ns]\n",
      " 3   summary       25 non-null     object        \n",
      " 4   meta_score    25 non-null     int64         \n",
      " 5   user_review   25 non-null     float64       \n",
      "dtypes: category(1), datetime64[ns](1), float64(1), int64(1), object(2)\n",
      "memory usage: 1.8+ KB\n"
     ]
    }
   ],
   "source": [
    "# Use dimension tables containing the distinct values and storing the primary \n",
    "# observations as integer keys referencing the dimension table.\n",
    "# Basically make an object value into a pandas category value to represent integers.\n",
    "df['platform'] = df['platform'].astype('category')\n",
    "df.info()"
   ]
  },
  {
   "cell_type": "code",
   "execution_count": 9,
   "metadata": {},
   "outputs": [
    {
     "data": {
      "text/plain": [
       "platform\n",
       " Dreamcast        3\n",
       " GameCube         1\n",
       " Nintendo 64      2\n",
       " PC               2\n",
       " PlayStation      1\n",
       " PlayStation 2    2\n",
       " PlayStation 3    2\n",
       " PlayStation 4    2\n",
       " Switch           3\n",
       " Wii              2\n",
       " Xbox             1\n",
       " Xbox 360         2\n",
       " Xbox One         2\n",
       "dtype: int64"
      ]
     },
     "execution_count": 9,
     "metadata": {},
     "output_type": "execute_result"
    }
   ],
   "source": [
    "## Group the data by platform \n",
    "df.groupby(by='platform').size()"
   ]
  },
  {
   "cell_type": "code",
   "execution_count": 10,
   "metadata": {},
   "outputs": [
    {
     "data": {
      "text/plain": [
       "<AxesSubplot:xlabel='platform'>"
      ]
     },
     "execution_count": 10,
     "metadata": {},
     "output_type": "execute_result"
    },
    {
     "data": {
      "image/png": "[encoded data removed]",
      "text/plain": [
       "<Figure size 432x288 with 1 Axes>"
      ]
     },
     "metadata": {
      "needs_background": "light"
     },
     "output_type": "display_data"
    }
   ],
   "source": [
    "df.groupby(by='platform').size().plot.bar(x='platform')"
   ]
  },
  {
   "cell_type": "code",
   "execution_count": 11,
   "metadata": {},
   "outputs": [
    {
     "data": {
      "text/plain": [
       "<AxesSubplot:ylabel='Frequency'>"
      ]
     },
     "execution_count": 11,
     "metadata": {},
     "output_type": "execute_result"
    },
    {
     "data": {
      "image/png": "[encoded data removed]",
      "text/plain": [
       "<Figure size 432x288 with 1 Axes>"
      ]
     },
     "metadata": {
      "needs_background": "light"
     },
     "output_type": "display_data"
    }
   ],
   "source": [
    "# Make a histogram from an object column\n",
    "df['platform'].cat.codes.plot.hist()"
   ]
  },
  {
   "cell_type": "code",
   "execution_count": 28,
   "metadata": {},
   "outputs": [
    {
     "data": {
      "text/html": [
       "<div>\n",
       "<style scoped>\n",
       "    .dataframe tbody tr th:only-of-type {\n",
       "        vertical-align: middle;\n",
       "    }\n",
       "\n",
       "    .dataframe tbody tr th {\n",
       "        vertical-align: top;\n",
       "    }\n",
       "\n",
       "    .dataframe thead th {\n",
       "        text-align: right;\n",
       "    }\n",
       "</style>\n",
       "<table border=\"1\" class=\"dataframe\">\n",
       "  <thead>\n",
       "    <tr style=\"text-align: right;\">\n",
       "      <th></th>\n",
       "      <th>name</th>\n",
       "      <th>platform</th>\n",
       "      <th>release_date</th>\n",
       "      <th>summary</th>\n",
       "      <th>meta_score</th>\n",
       "      <th>user_review</th>\n",
       "    </tr>\n",
       "  </thead>\n",
       "  <tbody>\n",
       "    <tr>\n",
       "      <th>7</th>\n",
       "      <td>Red Dead Redemption 2</td>\n",
       "      <td>Xbox One</td>\n",
       "      <td>2018-10-26</td>\n",
       "      <td>Developed by the creators of Grand Theft Auto ...</td>\n",
       "      <td>97</td>\n",
       "      <td>8.0</td>\n",
       "    </tr>\n",
       "    <tr>\n",
       "      <th>8</th>\n",
       "      <td>Grand Theft Auto V</td>\n",
       "      <td>Xbox One</td>\n",
       "      <td>2014-11-18</td>\n",
       "      <td>Grand Theft Auto 5 melds storytelling and game...</td>\n",
       "      <td>97</td>\n",
       "      <td>7.9</td>\n",
       "    </tr>\n",
       "    <tr>\n",
       "      <th>4</th>\n",
       "      <td>Grand Theft Auto IV</td>\n",
       "      <td>Xbox 360</td>\n",
       "      <td>2008-04-29</td>\n",
       "      <td>[Metacritic's 2008 Xbox 360 Game of the Year; ...</td>\n",
       "      <td>98</td>\n",
       "      <td>7.9</td>\n",
       "    </tr>\n",
       "    <tr>\n",
       "      <th>11</th>\n",
       "      <td>Grand Theft Auto V</td>\n",
       "      <td>Xbox 360</td>\n",
       "      <td>2013-09-17</td>\n",
       "      <td>Los Santos is a sprawling sun-soaked metropoli...</td>\n",
       "      <td>97</td>\n",
       "      <td>8.3</td>\n",
       "    </tr>\n",
       "    <tr>\n",
       "      <th>21</th>\n",
       "      <td>Halo: Combat Evolved</td>\n",
       "      <td>Xbox</td>\n",
       "      <td>2001-11-14</td>\n",
       "      <td>Enter the mysterious world of Halo, an alien p...</td>\n",
       "      <td>97</td>\n",
       "      <td>8.7</td>\n",
       "    </tr>\n",
       "    <tr>\n",
       "      <th>5</th>\n",
       "      <td>Super Mario Galaxy</td>\n",
       "      <td>Wii</td>\n",
       "      <td>2007-11-12</td>\n",
       "      <td>[Metacritic's 2007 Wii Game of the Year] The u...</td>\n",
       "      <td>97</td>\n",
       "      <td>9.1</td>\n",
       "    </tr>\n",
       "    <tr>\n",
       "      <th>6</th>\n",
       "      <td>Super Mario Galaxy 2</td>\n",
       "      <td>Wii</td>\n",
       "      <td>2010-05-23</td>\n",
       "      <td>Super Mario Galaxy 2, the sequel to the galaxy...</td>\n",
       "      <td>97</td>\n",
       "      <td>9.1</td>\n",
       "    </tr>\n",
       "    <tr>\n",
       "      <th>20</th>\n",
       "      <td>Super Mario Odyssey</td>\n",
       "      <td>Switch</td>\n",
       "      <td>2017-10-27</td>\n",
       "      <td>New Evolution of Mario Sandbox-Style Gameplay....</td>\n",
       "      <td>97</td>\n",
       "      <td>8.9</td>\n",
       "    </tr>\n",
       "    <tr>\n",
       "      <th>13</th>\n",
       "      <td>The Legend of Zelda: Breath of the Wild</td>\n",
       "      <td>Switch</td>\n",
       "      <td>2017-03-03</td>\n",
       "      <td>Forget everything you know about The Legend of...</td>\n",
       "      <td>97</td>\n",
       "      <td>8.7</td>\n",
       "    </tr>\n",
       "    <tr>\n",
       "      <th>22</th>\n",
       "      <td>The House in Fata Morgana - Dreams of the Reve...</td>\n",
       "      <td>Switch</td>\n",
       "      <td>2021-04-09</td>\n",
       "      <td>A gothic suspense tale set in a cursed mansion...</td>\n",
       "      <td>97</td>\n",
       "      <td>8.2</td>\n",
       "    </tr>\n",
       "    <tr>\n",
       "      <th>17</th>\n",
       "      <td>Grand Theft Auto V</td>\n",
       "      <td>PlayStation 4</td>\n",
       "      <td>2014-11-18</td>\n",
       "      <td>The sprawling sun-soaked metropolis of Los San...</td>\n",
       "      <td>97</td>\n",
       "      <td>8.4</td>\n",
       "    </tr>\n",
       "    <tr>\n",
       "      <th>16</th>\n",
       "      <td>Red Dead Redemption 2</td>\n",
       "      <td>PlayStation 4</td>\n",
       "      <td>2018-10-26</td>\n",
       "      <td>Developed by the creators of Grand Theft Auto ...</td>\n",
       "      <td>97</td>\n",
       "      <td>8.5</td>\n",
       "    </tr>\n",
       "    <tr>\n",
       "      <th>9</th>\n",
       "      <td>Grand Theft Auto V</td>\n",
       "      <td>PlayStation 3</td>\n",
       "      <td>2013-09-17</td>\n",
       "      <td>Los Santos is a vast, sun-soaked metropolis fu...</td>\n",
       "      <td>97</td>\n",
       "      <td>8.3</td>\n",
       "    </tr>\n",
       "    <tr>\n",
       "      <th>2</th>\n",
       "      <td>Grand Theft Auto IV</td>\n",
       "      <td>PlayStation 3</td>\n",
       "      <td>2008-04-29</td>\n",
       "      <td>[Metacritic's 2008 PS3 Game of the Year; Also ...</td>\n",
       "      <td>98</td>\n",
       "      <td>7.7</td>\n",
       "    </tr>\n",
       "    <tr>\n",
       "      <th>14</th>\n",
       "      <td>Tony Hawk's Pro Skater 3</td>\n",
       "      <td>PlayStation 2</td>\n",
       "      <td>2001-10-28</td>\n",
       "      <td>Challenge up to four friends in online competi...</td>\n",
       "      <td>97</td>\n",
       "      <td>7.5</td>\n",
       "    </tr>\n",
       "    <tr>\n",
       "      <th>19</th>\n",
       "      <td>Grand Theft Auto III</td>\n",
       "      <td>PlayStation 2</td>\n",
       "      <td>2001-10-22</td>\n",
       "      <td>Players are put at the heart of their very own...</td>\n",
       "      <td>97</td>\n",
       "      <td>8.4</td>\n",
       "    </tr>\n",
       "    <tr>\n",
       "      <th>1</th>\n",
       "      <td>Tony Hawk's Pro Skater 2</td>\n",
       "      <td>PlayStation</td>\n",
       "      <td>2000-09-20</td>\n",
       "      <td>As most major publishers' development efforts ...</td>\n",
       "      <td>98</td>\n",
       "      <td>7.4</td>\n",
       "    </tr>\n",
       "    <tr>\n",
       "      <th>10</th>\n",
       "      <td>Disco Elysium: The Final Cut</td>\n",
       "      <td>PC</td>\n",
       "      <td>2021-03-30</td>\n",
       "      <td>Disco Elysium - The Final Cut is the definitiv...</td>\n",
       "      <td>97</td>\n",
       "      <td>8.3</td>\n",
       "    </tr>\n",
       "    <tr>\n",
       "      <th>24</th>\n",
       "      <td>Half-Life 2</td>\n",
       "      <td>PC</td>\n",
       "      <td>2004-11-16</td>\n",
       "      <td>[Metacritic's 2004 PC Game of the Year] By tak...</td>\n",
       "      <td>96</td>\n",
       "      <td>9.2</td>\n",
       "    </tr>\n",
       "    <tr>\n",
       "      <th>0</th>\n",
       "      <td>The Legend of Zelda: Ocarina of Time</td>\n",
       "      <td>Nintendo 64</td>\n",
       "      <td>1998-11-23</td>\n",
       "      <td>As a young boy, Link is tricked by Ganondorf, ...</td>\n",
       "      <td>99</td>\n",
       "      <td>9.1</td>\n",
       "    </tr>\n",
       "    <tr>\n",
       "      <th>15</th>\n",
       "      <td>Perfect Dark</td>\n",
       "      <td>Nintendo 64</td>\n",
       "      <td>2000-05-22</td>\n",
       "      <td>Step into the Dark... As Carrington Institute'...</td>\n",
       "      <td>97</td>\n",
       "      <td>8.8</td>\n",
       "    </tr>\n",
       "    <tr>\n",
       "      <th>18</th>\n",
       "      <td>Metroid Prime</td>\n",
       "      <td>GameCube</td>\n",
       "      <td>2002-11-17</td>\n",
       "      <td>Samus returns in a new mission to unravel the ...</td>\n",
       "      <td>97</td>\n",
       "      <td>8.6</td>\n",
       "    </tr>\n",
       "    <tr>\n",
       "      <th>3</th>\n",
       "      <td>SoulCalibur</td>\n",
       "      <td>Dreamcast</td>\n",
       "      <td>1999-09-08</td>\n",
       "      <td>This is a tale of souls and swords, transcendi...</td>\n",
       "      <td>98</td>\n",
       "      <td>8.4</td>\n",
       "    </tr>\n",
       "    <tr>\n",
       "      <th>23</th>\n",
       "      <td>NFL 2K1</td>\n",
       "      <td>Dreamcast</td>\n",
       "      <td>2000-09-07</td>\n",
       "      <td>In the end, NFL 2K1 is a deeper, more refined ...</td>\n",
       "      <td>97</td>\n",
       "      <td>6.2</td>\n",
       "    </tr>\n",
       "    <tr>\n",
       "      <th>12</th>\n",
       "      <td>Tony Hawk's Pro Skater 2</td>\n",
       "      <td>Dreamcast</td>\n",
       "      <td>2000-11-06</td>\n",
       "      <td>Hawk's back - with new technology, new pros an...</td>\n",
       "      <td>97</td>\n",
       "      <td>6.2</td>\n",
       "    </tr>\n",
       "  </tbody>\n",
       "</table>\n",
       "</div>"
      ],
      "text/plain": [
       "                                                 name        platform  \\\n",
       "7                               Red Dead Redemption 2        Xbox One   \n",
       "8                                  Grand Theft Auto V        Xbox One   \n",
       "4                                 Grand Theft Auto IV        Xbox 360   \n",
       "11                                 Grand Theft Auto V        Xbox 360   \n",
       "21                               Halo: Combat Evolved            Xbox   \n",
       "5                                  Super Mario Galaxy             Wii   \n",
       "6                                Super Mario Galaxy 2             Wii   \n",
       "20                                Super Mario Odyssey          Switch   \n",
       "13            The Legend of Zelda: Breath of the Wild          Switch   \n",
       "22  The House in Fata Morgana - Dreams of the Reve...          Switch   \n",
       "17                                 Grand Theft Auto V   PlayStation 4   \n",
       "16                              Red Dead Redemption 2   PlayStation 4   \n",
       "9                                  Grand Theft Auto V   PlayStation 3   \n",
       "2                                 Grand Theft Auto IV   PlayStation 3   \n",
       "14                           Tony Hawk's Pro Skater 3   PlayStation 2   \n",
       "19                               Grand Theft Auto III   PlayStation 2   \n",
       "1                            Tony Hawk's Pro Skater 2     PlayStation   \n",
       "10                       Disco Elysium: The Final Cut              PC   \n",
       "24                                        Half-Life 2              PC   \n",
       "0                The Legend of Zelda: Ocarina of Time     Nintendo 64   \n",
       "15                                       Perfect Dark     Nintendo 64   \n",
       "18                                      Metroid Prime        GameCube   \n",
       "3                                         SoulCalibur       Dreamcast   \n",
       "23                                            NFL 2K1       Dreamcast   \n",
       "12                           Tony Hawk's Pro Skater 2       Dreamcast   \n",
       "\n",
       "   release_date                                            summary  \\\n",
       "7    2018-10-26  Developed by the creators of Grand Theft Auto ...   \n",
       "8    2014-11-18  Grand Theft Auto 5 melds storytelling and game...   \n",
       "4    2008-04-29  [Metacritic's 2008 Xbox 360 Game of the Year; ...   \n",
       "11   2013-09-17  Los Santos is a sprawling sun-soaked metropoli...   \n",
       "21   2001-11-14  Enter the mysterious world of Halo, an alien p...   \n",
       "5    2007-11-12  [Metacritic's 2007 Wii Game of the Year] The u...   \n",
       "6    2010-05-23  Super Mario Galaxy 2, the sequel to the galaxy...   \n",
       "20   2017-10-27  New Evolution of Mario Sandbox-Style Gameplay....   \n",
       "13   2017-03-03  Forget everything you know about The Legend of...   \n",
       "22   2021-04-09  A gothic suspense tale set in a cursed mansion...   \n",
       "17   2014-11-18  The sprawling sun-soaked metropolis of Los San...   \n",
       "16   2018-10-26  Developed by the creators of Grand Theft Auto ...   \n",
       "9    2013-09-17  Los Santos is a vast, sun-soaked metropolis fu...   \n",
       "2    2008-04-29  [Metacritic's 2008 PS3 Game of the Year; Also ...   \n",
       "14   2001-10-28  Challenge up to four friends in online competi...   \n",
       "19   2001-10-22  Players are put at the heart of their very own...   \n",
       "1    2000-09-20  As most major publishers' development efforts ...   \n",
       "10   2021-03-30  Disco Elysium - The Final Cut is the definitiv...   \n",
       "24   2004-11-16  [Metacritic's 2004 PC Game of the Year] By tak...   \n",
       "0    1998-11-23  As a young boy, Link is tricked by Ganondorf, ...   \n",
       "15   2000-05-22  Step into the Dark... As Carrington Institute'...   \n",
       "18   2002-11-17  Samus returns in a new mission to unravel the ...   \n",
       "3    1999-09-08  This is a tale of souls and swords, transcendi...   \n",
       "23   2000-09-07  In the end, NFL 2K1 is a deeper, more refined ...   \n",
       "12   2000-11-06  Hawk's back - with new technology, new pros an...   \n",
       "\n",
       "    meta_score  user_review  \n",
       "7           97          8.0  \n",
       "8           97          7.9  \n",
       "4           98          7.9  \n",
       "11          97          8.3  \n",
       "21          97          8.7  \n",
       "5           97          9.1  \n",
       "6           97          9.1  \n",
       "20          97          8.9  \n",
       "13          97          8.7  \n",
       "22          97          8.2  \n",
       "17          97          8.4  \n",
       "16          97          8.5  \n",
       "9           97          8.3  \n",
       "2           98          7.7  \n",
       "14          97          7.5  \n",
       "19          97          8.4  \n",
       "1           98          7.4  \n",
       "10          97          8.3  \n",
       "24          96          9.2  \n",
       "0           99          9.1  \n",
       "15          97          8.8  \n",
       "18          97          8.6  \n",
       "3           98          8.4  \n",
       "23          97          6.2  \n",
       "12          97          6.2  "
      ]
     },
     "execution_count": 28,
     "metadata": {},
     "output_type": "execute_result"
    }
   ],
   "source": [
    "# Sort it by platform\n",
    "df.sort_values(by=['platform'], ascending=False).head(25)"
   ]
  }
 ],
 "metadata": {
  "interpreter": {
   "hash": "3463eb64cfedb64a96af999c91d305d1d093527ea74b5f621e1e83b4db00f443"
  },
  "kernelspec": {
   "display_name": "Python 3.9.12 ('DataAnalysis')",
   "language": "python",
   "name": "python3"
  },
  "language_info": {
   "codemirror_mode": {
    "name": "ipython",
    "version": 3
   },
   "file_extension": ".py",
   "mimetype": "text/x-python",
   "name": "python",
   "nbconvert_exporter": "python",
   "pygments_lexer": "ipython3",
   "version": "3.9.13"
  },
  "orig_nbformat": 4
 },
 "nbformat": 4,
 "nbformat_minor": 2
}
