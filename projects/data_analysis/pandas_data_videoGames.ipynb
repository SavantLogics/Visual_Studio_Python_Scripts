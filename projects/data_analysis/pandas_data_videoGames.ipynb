{
 "cells": [
  {
   "cell_type": "code",
   "execution_count": 1,
   "metadata": {},
   "outputs": [],
   "source": [
    "import pandas as pd \n",
    "import numpy as np\n",
    "import matplotlib as mpl\n",
    "import matplotlib.pyplot as plt\n",
    "from scipy import stats\n",
    "\n",
    "df = pd.read_csv('~/Documents/csvs/all_games.csv')"
   ]
  },
  {
   "cell_type": "markdown",
   "metadata": {},
   "source": [
    "## Make sure the data was imported correctly"
   ]
  },
  {
   "cell_type": "code",
   "execution_count": 2,
   "metadata": {},
   "outputs": [
    {
     "name": "stdout",
     "output_type": "stream",
     "text": [
      "<class 'pandas.core.frame.DataFrame'>\n",
      "RangeIndex: 18800 entries, 0 to 18799\n",
      "Data columns (total 7 columns):\n",
      " #   Column        Non-Null Count  Dtype  \n",
      "---  ------        --------------  -----  \n",
      " 0   Unnamed: 0    18800 non-null  int64  \n",
      " 1   name          18800 non-null  object \n",
      " 2   platform      18800 non-null  object \n",
      " 3   release_date  18800 non-null  object \n",
      " 4   summary       18686 non-null  object \n",
      " 5   meta_score    18800 non-null  int64  \n",
      " 6   user_review   18800 non-null  float64\n",
      "dtypes: float64(1), int64(2), object(4)\n",
      "memory usage: 1.0+ MB\n"
     ]
    }
   ],
   "source": [
    "df.info()"
   ]
  },
  {
   "cell_type": "code",
   "execution_count": 3,
   "metadata": {},
   "outputs": [
    {
     "data": {
      "text/html": [
       "<div>\n",
       "<style scoped>\n",
       "    .dataframe tbody tr th:only-of-type {\n",
       "        vertical-align: middle;\n",
       "    }\n",
       "\n",
       "    .dataframe tbody tr th {\n",
       "        vertical-align: top;\n",
       "    }\n",
       "\n",
       "    .dataframe thead th {\n",
       "        text-align: right;\n",
       "    }\n",
       "</style>\n",
       "<table border=\"1\" class=\"dataframe\">\n",
       "  <thead>\n",
       "    <tr style=\"text-align: right;\">\n",
       "      <th></th>\n",
       "      <th>Unnamed: 0</th>\n",
       "      <th>name</th>\n",
       "      <th>platform</th>\n",
       "      <th>release_date</th>\n",
       "      <th>summary</th>\n",
       "      <th>meta_score</th>\n",
       "      <th>user_review</th>\n",
       "    </tr>\n",
       "  </thead>\n",
       "  <tbody>\n",
       "    <tr>\n",
       "      <th>0</th>\n",
       "      <td>0</td>\n",
       "      <td>The Legend of Zelda: Ocarina of Time</td>\n",
       "      <td>Nintendo 64</td>\n",
       "      <td>November 23, 1998</td>\n",
       "      <td>As a young boy, Link is tricked by Ganondorf, ...</td>\n",
       "      <td>99</td>\n",
       "      <td>9.1</td>\n",
       "    </tr>\n",
       "    <tr>\n",
       "      <th>1</th>\n",
       "      <td>1</td>\n",
       "      <td>Tony Hawk's Pro Skater 2</td>\n",
       "      <td>PlayStation</td>\n",
       "      <td>September 20, 2000</td>\n",
       "      <td>As most major publishers' development efforts ...</td>\n",
       "      <td>98</td>\n",
       "      <td>7.4</td>\n",
       "    </tr>\n",
       "    <tr>\n",
       "      <th>2</th>\n",
       "      <td>2</td>\n",
       "      <td>Grand Theft Auto IV</td>\n",
       "      <td>PlayStation 3</td>\n",
       "      <td>April 29, 2008</td>\n",
       "      <td>[Metacritic's 2008 PS3 Game of the Year; Also ...</td>\n",
       "      <td>98</td>\n",
       "      <td>7.7</td>\n",
       "    </tr>\n",
       "    <tr>\n",
       "      <th>3</th>\n",
       "      <td>3</td>\n",
       "      <td>SoulCalibur</td>\n",
       "      <td>Dreamcast</td>\n",
       "      <td>September 8, 1999</td>\n",
       "      <td>This is a tale of souls and swords, transcendi...</td>\n",
       "      <td>98</td>\n",
       "      <td>8.4</td>\n",
       "    </tr>\n",
       "    <tr>\n",
       "      <th>4</th>\n",
       "      <td>4</td>\n",
       "      <td>Grand Theft Auto IV</td>\n",
       "      <td>Xbox 360</td>\n",
       "      <td>April 29, 2008</td>\n",
       "      <td>[Metacritic's 2008 Xbox 360 Game of the Year; ...</td>\n",
       "      <td>98</td>\n",
       "      <td>7.9</td>\n",
       "    </tr>\n",
       "    <tr>\n",
       "      <th>...</th>\n",
       "      <td>...</td>\n",
       "      <td>...</td>\n",
       "      <td>...</td>\n",
       "      <td>...</td>\n",
       "      <td>...</td>\n",
       "      <td>...</td>\n",
       "      <td>...</td>\n",
       "    </tr>\n",
       "    <tr>\n",
       "      <th>18795</th>\n",
       "      <td>18795</td>\n",
       "      <td>Fast &amp; Furious: Showdown</td>\n",
       "      <td>Xbox 360</td>\n",
       "      <td>May 21, 2013</td>\n",
       "      <td>Fast &amp; Furious: Showdown takes some of the fra...</td>\n",
       "      <td>22</td>\n",
       "      <td>1.3</td>\n",
       "    </tr>\n",
       "    <tr>\n",
       "      <th>18796</th>\n",
       "      <td>18796</td>\n",
       "      <td>Drake of the 99 Dragons</td>\n",
       "      <td>Xbox</td>\n",
       "      <td>November 3, 2003</td>\n",
       "      <td>Drake is out for revenge in a supernatural Hon...</td>\n",
       "      <td>22</td>\n",
       "      <td>1.7</td>\n",
       "    </tr>\n",
       "    <tr>\n",
       "      <th>18797</th>\n",
       "      <td>18797</td>\n",
       "      <td>Afro Samurai 2: Revenge of Kuma Volume One</td>\n",
       "      <td>PlayStation 4</td>\n",
       "      <td>September 22, 2015</td>\n",
       "      <td>Head out on a journey of redemption, driven by...</td>\n",
       "      <td>21</td>\n",
       "      <td>2.9</td>\n",
       "    </tr>\n",
       "    <tr>\n",
       "      <th>18798</th>\n",
       "      <td>18798</td>\n",
       "      <td>Infestation: Survivor Stories (The War Z)</td>\n",
       "      <td>PC</td>\n",
       "      <td>October 15, 2012</td>\n",
       "      <td>(Formerly known as \"The War Z\") It has been 5 ...</td>\n",
       "      <td>20</td>\n",
       "      <td>1.7</td>\n",
       "    </tr>\n",
       "    <tr>\n",
       "      <th>18799</th>\n",
       "      <td>18799</td>\n",
       "      <td>Leisure Suit Larry: Box Office Bust</td>\n",
       "      <td>PC</td>\n",
       "      <td>March 31, 2009</td>\n",
       "      <td>The Leisure Suit Larry: Box Office Bust video ...</td>\n",
       "      <td>20</td>\n",
       "      <td>2.0</td>\n",
       "    </tr>\n",
       "  </tbody>\n",
       "</table>\n",
       "<p>18800 rows × 7 columns</p>\n",
       "</div>"
      ],
      "text/plain": [
       "       Unnamed: 0                                        name        platform  \\\n",
       "0               0        The Legend of Zelda: Ocarina of Time     Nintendo 64   \n",
       "1               1                    Tony Hawk's Pro Skater 2     PlayStation   \n",
       "2               2                         Grand Theft Auto IV   PlayStation 3   \n",
       "3               3                                 SoulCalibur       Dreamcast   \n",
       "4               4                         Grand Theft Auto IV        Xbox 360   \n",
       "...           ...                                         ...             ...   \n",
       "18795       18795                    Fast & Furious: Showdown        Xbox 360   \n",
       "18796       18796                     Drake of the 99 Dragons            Xbox   \n",
       "18797       18797  Afro Samurai 2: Revenge of Kuma Volume One   PlayStation 4   \n",
       "18798       18798   Infestation: Survivor Stories (The War Z)              PC   \n",
       "18799       18799         Leisure Suit Larry: Box Office Bust              PC   \n",
       "\n",
       "             release_date                                            summary  \\\n",
       "0       November 23, 1998  As a young boy, Link is tricked by Ganondorf, ...   \n",
       "1      September 20, 2000  As most major publishers' development efforts ...   \n",
       "2          April 29, 2008  [Metacritic's 2008 PS3 Game of the Year; Also ...   \n",
       "3       September 8, 1999  This is a tale of souls and swords, transcendi...   \n",
       "4          April 29, 2008  [Metacritic's 2008 Xbox 360 Game of the Year; ...   \n",
       "...                   ...                                                ...   \n",
       "18795        May 21, 2013  Fast & Furious: Showdown takes some of the fra...   \n",
       "18796    November 3, 2003  Drake is out for revenge in a supernatural Hon...   \n",
       "18797  September 22, 2015  Head out on a journey of redemption, driven by...   \n",
       "18798    October 15, 2012  (Formerly known as \"The War Z\") It has been 5 ...   \n",
       "18799      March 31, 2009  The Leisure Suit Larry: Box Office Bust video ...   \n",
       "\n",
       "       meta_score  user_review  \n",
       "0              99          9.1  \n",
       "1              98          7.4  \n",
       "2              98          7.7  \n",
       "3              98          8.4  \n",
       "4              98          7.9  \n",
       "...           ...          ...  \n",
       "18795          22          1.3  \n",
       "18796          22          1.7  \n",
       "18797          21          2.9  \n",
       "18798          20          1.7  \n",
       "18799          20          2.0  \n",
       "\n",
       "[18800 rows x 7 columns]"
      ]
     },
     "execution_count": 3,
     "metadata": {},
     "output_type": "execute_result"
    }
   ],
   "source": [
    "df"
   ]
  },
  {
   "cell_type": "code",
   "execution_count": 21,
   "metadata": {},
   "outputs": [
    {
     "data": {
      "text/html": [
       "<div>\n",
       "<style scoped>\n",
       "    .dataframe tbody tr th:only-of-type {\n",
       "        vertical-align: middle;\n",
       "    }\n",
       "\n",
       "    .dataframe tbody tr th {\n",
       "        vertical-align: top;\n",
       "    }\n",
       "\n",
       "    .dataframe thead th {\n",
       "        text-align: right;\n",
       "    }\n",
       "</style>\n",
       "<table border=\"1\" class=\"dataframe\">\n",
       "  <thead>\n",
       "    <tr style=\"text-align: right;\">\n",
       "      <th></th>\n",
       "      <th>name</th>\n",
       "      <th>platform</th>\n",
       "      <th>release_date</th>\n",
       "      <th>summary</th>\n",
       "      <th>meta_score</th>\n",
       "      <th>user_review</th>\n",
       "    </tr>\n",
       "  </thead>\n",
       "  <tbody>\n",
       "    <tr>\n",
       "      <th>0</th>\n",
       "      <td>The Legend of Zelda: Ocarina of Time</td>\n",
       "      <td>Nintendo 64</td>\n",
       "      <td>November 23, 1998</td>\n",
       "      <td>As a young boy, Link is tricked by Ganondorf, ...</td>\n",
       "      <td>99</td>\n",
       "      <td>9.1</td>\n",
       "    </tr>\n",
       "    <tr>\n",
       "      <th>1</th>\n",
       "      <td>Tony Hawk's Pro Skater 2</td>\n",
       "      <td>PlayStation</td>\n",
       "      <td>September 20, 2000</td>\n",
       "      <td>As most major publishers' development efforts ...</td>\n",
       "      <td>98</td>\n",
       "      <td>7.4</td>\n",
       "    </tr>\n",
       "    <tr>\n",
       "      <th>2</th>\n",
       "      <td>Grand Theft Auto IV</td>\n",
       "      <td>PlayStation 3</td>\n",
       "      <td>April 29, 2008</td>\n",
       "      <td>[Metacritic's 2008 PS3 Game of the Year; Also ...</td>\n",
       "      <td>98</td>\n",
       "      <td>7.7</td>\n",
       "    </tr>\n",
       "    <tr>\n",
       "      <th>3</th>\n",
       "      <td>SoulCalibur</td>\n",
       "      <td>Dreamcast</td>\n",
       "      <td>September 8, 1999</td>\n",
       "      <td>This is a tale of souls and swords, transcendi...</td>\n",
       "      <td>98</td>\n",
       "      <td>8.4</td>\n",
       "    </tr>\n",
       "    <tr>\n",
       "      <th>4</th>\n",
       "      <td>Grand Theft Auto IV</td>\n",
       "      <td>Xbox 360</td>\n",
       "      <td>April 29, 2008</td>\n",
       "      <td>[Metacritic's 2008 Xbox 360 Game of the Year; ...</td>\n",
       "      <td>98</td>\n",
       "      <td>7.9</td>\n",
       "    </tr>\n",
       "  </tbody>\n",
       "</table>\n",
       "</div>"
      ],
      "text/plain": [
       "                                   name        platform        release_date  \\\n",
       "0  The Legend of Zelda: Ocarina of Time     Nintendo 64   November 23, 1998   \n",
       "1              Tony Hawk's Pro Skater 2     PlayStation  September 20, 2000   \n",
       "2                   Grand Theft Auto IV   PlayStation 3      April 29, 2008   \n",
       "3                           SoulCalibur       Dreamcast   September 8, 1999   \n",
       "4                   Grand Theft Auto IV        Xbox 360      April 29, 2008   \n",
       "\n",
       "                                             summary  meta_score  user_review  \n",
       "0  As a young boy, Link is tricked by Ganondorf, ...          99          9.1  \n",
       "1  As most major publishers' development efforts ...          98          7.4  \n",
       "2  [Metacritic's 2008 PS3 Game of the Year; Also ...          98          7.7  \n",
       "3  This is a tale of souls and swords, transcendi...          98          8.4  \n",
       "4  [Metacritic's 2008 Xbox 360 Game of the Year; ...          98          7.9  "
      ]
     },
     "execution_count": 21,
     "metadata": {},
     "output_type": "execute_result"
    }
   ],
   "source": [
    "# Drop unused column\n",
    "\n",
    "# df = df.drop(columns=\"Unnamed: 0\")\n",
    "df.head()"
   ]
  },
  {
   "cell_type": "code",
   "execution_count": 4,
   "metadata": {},
   "outputs": [
    {
     "data": {
      "text/plain": [
       "70.6488829787234"
      ]
     },
     "execution_count": 4,
     "metadata": {},
     "output_type": "execute_result"
    }
   ],
   "source": [
    "# Get the mean of the meta score. \n",
    "\n",
    "df['meta_score'].mean()"
   ]
  },
  {
   "cell_type": "code",
   "execution_count": 5,
   "metadata": {},
   "outputs": [
    {
     "data": {
      "text/plain": [
       "72.0"
      ]
     },
     "execution_count": 5,
     "metadata": {},
     "output_type": "execute_result"
    }
   ],
   "source": [
    "# Get the median of the meta score. The value such that one-half of the data lies above and below.\n",
    "\n",
    "df['meta_score'].median()"
   ]
  },
  {
   "cell_type": "code",
   "execution_count": 6,
   "metadata": {},
   "outputs": [
    {
     "data": {
      "text/plain": [
       "70.6488829787234"
      ]
     },
     "execution_count": 6,
     "metadata": {},
     "output_type": "execute_result"
    }
   ],
   "source": [
    "# Get the trimmed mean of the meta score. The average of all values after dropping a fixed \n",
    "# number of extreme values.\n",
    "\n",
    "stats.tmean(df['meta_score'])"
   ]
  },
  {
   "cell_type": "code",
   "execution_count": 7,
   "metadata": {},
   "outputs": [
    {
     "data": {
      "text/plain": [
       "20"
      ]
     },
     "execution_count": 7,
     "metadata": {},
     "output_type": "execute_result"
    }
   ],
   "source": [
    "# Get the trimmed mean of the meta score. This function finds the miminum value of an \n",
    "# array a along the specified   axis, but only considering values greater than a specified lower limit.\n",
    "\n",
    "stats.tmin(df['meta_score'])"
   ]
  },
  {
   "cell_type": "code",
   "execution_count": 8,
   "metadata": {},
   "outputs": [
    {
     "data": {
      "text/plain": [
       "99"
      ]
     },
     "execution_count": 8,
     "metadata": {},
     "output_type": "execute_result"
    }
   ],
   "source": [
    "# Get the trimmed mean of the meta score. This function computes the maximum value \n",
    "# of an array along a given axis, while ignoring values larger than a specified upper limit.\n",
    "\n",
    "stats.tmax(df['meta_score'])"
   ]
  },
  {
   "cell_type": "code",
   "execution_count": 9,
   "metadata": {},
   "outputs": [
    {
     "data": {
      "text/plain": [
       "71.58869680851063"
      ]
     },
     "execution_count": 9,
     "metadata": {},
     "output_type": "execute_result"
    }
   ],
   "source": [
    "# Get the trimmed mean of the meta score. Return mean of array after trimming distribution \n",
    "# from both tails.\n",
    "\n",
    "stats.trim_mean(df['meta_score'], 0.1)"
   ]
  },
  {
   "cell_type": "code",
   "execution_count": 10,
   "metadata": {},
   "outputs": [
    {
     "data": {
      "text/plain": [
       "72.76417238681854"
      ]
     },
     "execution_count": 10,
     "metadata": {},
     "output_type": "execute_result"
    }
   ],
   "source": [
    "# Get the weighted mean\n",
    "\n",
    "np.average(df['meta_score'], weights=df['meta_score'])"
   ]
  },
  {
   "cell_type": "code",
   "execution_count": 11,
   "metadata": {},
   "outputs": [
    {
     "data": {
      "text/plain": [
       "12.225006477233462"
      ]
     },
     "execution_count": 11,
     "metadata": {},
     "output_type": "execute_result"
    }
   ],
   "source": [
    "# Get the standard deviation\n",
    "\n",
    "df['meta_score'].std()"
   ]
  },
  {
   "cell_type": "code",
   "execution_count": 12,
   "metadata": {},
   "outputs": [
    {
     "data": {
      "text/plain": [
       "0.05    47.0\n",
       "0.25    64.0\n",
       "0.50    72.0\n",
       "0.75    80.0\n",
       "0.95    88.0\n",
       "Name: meta_score, dtype: float64"
      ]
     },
     "execution_count": 12,
     "metadata": {},
     "output_type": "execute_result"
    }
   ],
   "source": [
    "df['meta_score'].quantile([0.05, .25, .5, .75, .95])"
   ]
  },
  {
   "cell_type": "code",
   "execution_count": 13,
   "metadata": {},
   "outputs": [
    {
     "data": {
      "text/plain": [
       "<AxesSubplot:title={'center':'Metacritic Scores'}, xlabel='meta score', ylabel='amount of games'>"
      ]
     },
     "execution_count": 13,
     "metadata": {},
     "output_type": "execute_result"
    },
    {
     "data": {
      "image/png": "[encoded data removed]",
      "text/plain": [
       "<Figure size 432x288 with 1 Axes>"
      ]
     },
     "metadata": {
      "needs_background": "light"
     },
     "output_type": "display_data"
    }
   ],
   "source": [
    "# Plot as a histogram\n",
    "\n",
    "hist_df = df['meta_score'].plot(kind='hist')\n",
    "hist_df.set_xlabel('meta score')\n",
    "hist_df.set_ylabel('amount of games')\n",
    "hist_df.set_title('Metacritic Scores')\n",
    "hist_df.set_facecolor('white')\n",
    "hist_df"
   ]
  },
  {
   "cell_type": "code",
   "execution_count": 22,
   "metadata": {},
   "outputs": [
    {
     "data": {
      "text/html": [
       "<div>\n",
       "<style scoped>\n",
       "    .dataframe tbody tr th:only-of-type {\n",
       "        vertical-align: middle;\n",
       "    }\n",
       "\n",
       "    .dataframe tbody tr th {\n",
       "        vertical-align: top;\n",
       "    }\n",
       "\n",
       "    .dataframe thead th {\n",
       "        text-align: right;\n",
       "    }\n",
       "</style>\n",
       "<table border=\"1\" class=\"dataframe\">\n",
       "  <thead>\n",
       "    <tr style=\"text-align: right;\">\n",
       "      <th></th>\n",
       "      <th>name</th>\n",
       "      <th>platform</th>\n",
       "      <th>release_date</th>\n",
       "      <th>summary</th>\n",
       "      <th>meta_score</th>\n",
       "      <th>user_review</th>\n",
       "    </tr>\n",
       "  </thead>\n",
       "  <tbody>\n",
       "    <tr>\n",
       "      <th>0</th>\n",
       "      <td>The Legend of Zelda: Ocarina of Time</td>\n",
       "      <td>Nintendo 64</td>\n",
       "      <td>November 23, 1998</td>\n",
       "      <td>As a young boy, Link is tricked by Ganondorf, ...</td>\n",
       "      <td>99</td>\n",
       "      <td>9.1</td>\n",
       "    </tr>\n",
       "    <tr>\n",
       "      <th>1</th>\n",
       "      <td>Tony Hawk's Pro Skater 2</td>\n",
       "      <td>PlayStation</td>\n",
       "      <td>September 20, 2000</td>\n",
       "      <td>As most major publishers' development efforts ...</td>\n",
       "      <td>98</td>\n",
       "      <td>7.4</td>\n",
       "    </tr>\n",
       "    <tr>\n",
       "      <th>2</th>\n",
       "      <td>Grand Theft Auto IV</td>\n",
       "      <td>PlayStation 3</td>\n",
       "      <td>April 29, 2008</td>\n",
       "      <td>[Metacritic's 2008 PS3 Game of the Year; Also ...</td>\n",
       "      <td>98</td>\n",
       "      <td>7.7</td>\n",
       "    </tr>\n",
       "    <tr>\n",
       "      <th>3</th>\n",
       "      <td>SoulCalibur</td>\n",
       "      <td>Dreamcast</td>\n",
       "      <td>September 8, 1999</td>\n",
       "      <td>This is a tale of souls and swords, transcendi...</td>\n",
       "      <td>98</td>\n",
       "      <td>8.4</td>\n",
       "    </tr>\n",
       "    <tr>\n",
       "      <th>4</th>\n",
       "      <td>Grand Theft Auto IV</td>\n",
       "      <td>Xbox 360</td>\n",
       "      <td>April 29, 2008</td>\n",
       "      <td>[Metacritic's 2008 Xbox 360 Game of the Year; ...</td>\n",
       "      <td>98</td>\n",
       "      <td>7.9</td>\n",
       "    </tr>\n",
       "  </tbody>\n",
       "</table>\n",
       "</div>"
      ],
      "text/plain": [
       "                                   name        platform        release_date  \\\n",
       "0  The Legend of Zelda: Ocarina of Time     Nintendo 64   November 23, 1998   \n",
       "1              Tony Hawk's Pro Skater 2     PlayStation  September 20, 2000   \n",
       "2                   Grand Theft Auto IV   PlayStation 3      April 29, 2008   \n",
       "3                           SoulCalibur       Dreamcast   September 8, 1999   \n",
       "4                   Grand Theft Auto IV        Xbox 360      April 29, 2008   \n",
       "\n",
       "                                             summary  meta_score  user_review  \n",
       "0  As a young boy, Link is tricked by Ganondorf, ...          99          9.1  \n",
       "1  As most major publishers' development efforts ...          98          7.4  \n",
       "2  [Metacritic's 2008 PS3 Game of the Year; Also ...          98          7.7  \n",
       "3  This is a tale of souls and swords, transcendi...          98          8.4  \n",
       "4  [Metacritic's 2008 Xbox 360 Game of the Year; ...          98          7.9  "
      ]
     },
     "execution_count": 22,
     "metadata": {},
     "output_type": "execute_result"
    }
   ],
   "source": [
    "df.head()"
   ]
  },
  {
   "cell_type": "code",
   "execution_count": 23,
   "metadata": {},
   "outputs": [
    {
     "data": {
      "text/html": [
       "<div>\n",
       "<style scoped>\n",
       "    .dataframe tbody tr th:only-of-type {\n",
       "        vertical-align: middle;\n",
       "    }\n",
       "\n",
       "    .dataframe tbody tr th {\n",
       "        vertical-align: top;\n",
       "    }\n",
       "\n",
       "    .dataframe thead th {\n",
       "        text-align: right;\n",
       "    }\n",
       "</style>\n",
       "<table border=\"1\" class=\"dataframe\">\n",
       "  <thead>\n",
       "    <tr style=\"text-align: right;\">\n",
       "      <th></th>\n",
       "      <th>name</th>\n",
       "      <th>platform</th>\n",
       "      <th>release_date</th>\n",
       "      <th>summary</th>\n",
       "      <th>meta_score</th>\n",
       "      <th>user_review</th>\n",
       "    </tr>\n",
       "  </thead>\n",
       "  <tbody>\n",
       "    <tr>\n",
       "      <th>679</th>\n",
       "      <td>Synth Riders</td>\n",
       "      <td>PlayStation 4</td>\n",
       "      <td>August 10, 2021</td>\n",
       "      <td>Synth Riders is your freestyle dancing VR rhyt...</td>\n",
       "      <td>89</td>\n",
       "      <td>0.0</td>\n",
       "    </tr>\n",
       "    <tr>\n",
       "      <th>963</th>\n",
       "      <td>Tiger Woods PGA Tour 2005</td>\n",
       "      <td>GameCube</td>\n",
       "      <td>September 20, 2004</td>\n",
       "      <td>Challenge professional golfer Tiger Woods to c...</td>\n",
       "      <td>88</td>\n",
       "      <td>0.0</td>\n",
       "    </tr>\n",
       "    <tr>\n",
       "      <th>1277</th>\n",
       "      <td>NASCAR 2005: Chase for the Cup</td>\n",
       "      <td>Xbox</td>\n",
       "      <td>August 31, 2004</td>\n",
       "      <td>Do you have what it takes to be a top NASCAR d...</td>\n",
       "      <td>86</td>\n",
       "      <td>0.0</td>\n",
       "    </tr>\n",
       "    <tr>\n",
       "      <th>1472</th>\n",
       "      <td>Moto Racer Advance</td>\n",
       "      <td>Game Boy Advance</td>\n",
       "      <td>December 5, 2002</td>\n",
       "      <td>NaN</td>\n",
       "      <td>86</td>\n",
       "      <td>0.0</td>\n",
       "    </tr>\n",
       "    <tr>\n",
       "      <th>2098</th>\n",
       "      <td>Mushihimesama</td>\n",
       "      <td>Switch</td>\n",
       "      <td>June 15, 2021</td>\n",
       "      <td>Mushihimesama (Bug Princess in English) is a v...</td>\n",
       "      <td>84</td>\n",
       "      <td>0.0</td>\n",
       "    </tr>\n",
       "    <tr>\n",
       "      <th>...</th>\n",
       "      <td>...</td>\n",
       "      <td>...</td>\n",
       "      <td>...</td>\n",
       "      <td>...</td>\n",
       "      <td>...</td>\n",
       "      <td>...</td>\n",
       "    </tr>\n",
       "    <tr>\n",
       "      <th>18594</th>\n",
       "      <td>Air Conflicts: Aces of World War II</td>\n",
       "      <td>PSP</td>\n",
       "      <td>April 14, 2009</td>\n",
       "      <td>Air Conflicts is an arcade flight simulator ga...</td>\n",
       "      <td>36</td>\n",
       "      <td>0.0</td>\n",
       "    </tr>\n",
       "    <tr>\n",
       "      <th>18639</th>\n",
       "      <td>King of Clubs</td>\n",
       "      <td>Wii</td>\n",
       "      <td>August 4, 2008</td>\n",
       "      <td>Never the same game twice, this absorbing and ...</td>\n",
       "      <td>35</td>\n",
       "      <td>0.0</td>\n",
       "    </tr>\n",
       "    <tr>\n",
       "      <th>18700</th>\n",
       "      <td>Jenga World Tour</td>\n",
       "      <td>DS</td>\n",
       "      <td>November 13, 2007</td>\n",
       "      <td>Jenga is based on the world famous wooden bloc...</td>\n",
       "      <td>32</td>\n",
       "      <td>0.0</td>\n",
       "    </tr>\n",
       "    <tr>\n",
       "      <th>18715</th>\n",
       "      <td>Dream Chronicles</td>\n",
       "      <td>PlayStation 3</td>\n",
       "      <td>November 23, 2010</td>\n",
       "      <td>Unlock the secrets of the beautiful and myster...</td>\n",
       "      <td>31</td>\n",
       "      <td>0.0</td>\n",
       "    </tr>\n",
       "    <tr>\n",
       "      <th>18717</th>\n",
       "      <td>Smash 'N' Survive</td>\n",
       "      <td>PlayStation 3</td>\n",
       "      <td>February 22, 2012</td>\n",
       "      <td>NaN</td>\n",
       "      <td>31</td>\n",
       "      <td>0.0</td>\n",
       "    </tr>\n",
       "  </tbody>\n",
       "</table>\n",
       "<p>1365 rows × 6 columns</p>\n",
       "</div>"
      ],
      "text/plain": [
       "                                      name           platform  \\\n",
       "679                           Synth Riders      PlayStation 4   \n",
       "963              Tiger Woods PGA Tour 2005           GameCube   \n",
       "1277        NASCAR 2005: Chase for the Cup               Xbox   \n",
       "1472                    Moto Racer Advance   Game Boy Advance   \n",
       "2098                         Mushihimesama             Switch   \n",
       "...                                    ...                ...   \n",
       "18594  Air Conflicts: Aces of World War II                PSP   \n",
       "18639                        King of Clubs                Wii   \n",
       "18700                     Jenga World Tour                 DS   \n",
       "18715                     Dream Chronicles      PlayStation 3   \n",
       "18717                    Smash 'N' Survive      PlayStation 3   \n",
       "\n",
       "             release_date                                            summary  \\\n",
       "679       August 10, 2021  Synth Riders is your freestyle dancing VR rhyt...   \n",
       "963    September 20, 2004  Challenge professional golfer Tiger Woods to c...   \n",
       "1277      August 31, 2004  Do you have what it takes to be a top NASCAR d...   \n",
       "1472     December 5, 2002                                                NaN   \n",
       "2098        June 15, 2021  Mushihimesama (Bug Princess in English) is a v...   \n",
       "...                   ...                                                ...   \n",
       "18594      April 14, 2009  Air Conflicts is an arcade flight simulator ga...   \n",
       "18639      August 4, 2008  Never the same game twice, this absorbing and ...   \n",
       "18700   November 13, 2007  Jenga is based on the world famous wooden bloc...   \n",
       "18715   November 23, 2010  Unlock the secrets of the beautiful and myster...   \n",
       "18717   February 22, 2012                                                NaN   \n",
       "\n",
       "       meta_score  user_review  \n",
       "679            89          0.0  \n",
       "963            88          0.0  \n",
       "1277           86          0.0  \n",
       "1472           86          0.0  \n",
       "2098           84          0.0  \n",
       "...           ...          ...  \n",
       "18594          36          0.0  \n",
       "18639          35          0.0  \n",
       "18700          32          0.0  \n",
       "18715          31          0.0  \n",
       "18717          31          0.0  \n",
       "\n",
       "[1365 rows x 6 columns]"
      ]
     },
     "execution_count": 23,
     "metadata": {},
     "output_type": "execute_result"
    }
   ],
   "source": [
    "# Check the user_review column for zero\n",
    "\n",
    "df.loc[df['user_review'] == 0]"
   ]
  },
  {
   "cell_type": "code",
   "execution_count": 24,
   "metadata": {},
   "outputs": [
    {
     "data": {
      "text/plain": [
       "0.0    1365\n",
       "7.7     727\n",
       "7.8     701\n",
       "7.5     682\n",
       "7.6     673\n",
       "       ... \n",
       "1.3       2\n",
       "9.4       1\n",
       "0.9       1\n",
       "0.2       1\n",
       "0.7       1\n",
       "Name: user_review, Length: 94, dtype: int64"
      ]
     },
     "execution_count": 24,
     "metadata": {},
     "output_type": "execute_result"
    }
   ],
   "source": [
    "# Get the most used values from \"user_review\" column\n",
    "df['user_review'].value_counts()"
   ]
  },
  {
   "cell_type": "code",
   "execution_count": 26,
   "metadata": {},
   "outputs": [
    {
     "data": {
      "text/plain": [
       "6.483265957446809"
      ]
     },
     "execution_count": 26,
     "metadata": {},
     "output_type": "execute_result"
    }
   ],
   "source": [
    "# Get the mean of the user_review. \n",
    "\n",
    "df['user_review'].mean()"
   ]
  },
  {
   "cell_type": "code",
   "execution_count": 27,
   "metadata": {},
   "outputs": [
    {
     "data": {
      "text/plain": [
       "7.2"
      ]
     },
     "execution_count": 27,
     "metadata": {},
     "output_type": "execute_result"
    }
   ],
   "source": [
    "# Get the median of the user_review. \n",
    "\n",
    "df['user_review'].median()"
   ]
  },
  {
   "cell_type": "code",
   "execution_count": 28,
   "metadata": {},
   "outputs": [
    {
     "data": {
      "text/plain": [
       "6.483265957446809"
      ]
     },
     "execution_count": 28,
     "metadata": {},
     "output_type": "execute_result"
    }
   ],
   "source": [
    "# Get the trimmed mean of the user_review. The average of all values after dropping a fixed \n",
    "# number of extreme values.\n",
    "\n",
    "stats.tmean(df['user_review'])"
   ]
  },
  {
   "cell_type": "code",
   "execution_count": 29,
   "metadata": {},
   "outputs": [
    {
     "data": {
      "text/plain": [
       "0.0"
      ]
     },
     "execution_count": 29,
     "metadata": {},
     "output_type": "execute_result"
    }
   ],
   "source": [
    "# Get the trimmed mean of the user_review. This function finds the miminum value of an \n",
    "# array a along the specified   axis, but only considering values greater than a specified lower limit.\n",
    "\n",
    "stats.tmin(df['user_review'])"
   ]
  },
  {
   "cell_type": "code",
   "execution_count": 30,
   "metadata": {},
   "outputs": [
    {
     "data": {
      "text/plain": [
       "9.7"
      ]
     },
     "execution_count": 30,
     "metadata": {},
     "output_type": "execute_result"
    }
   ],
   "source": [
    "# Get the trimmed mean of the meta score. This function computes the maximum value \n",
    "# of an array along a given axis, while ignoring values larger than a specified upper limit.\n",
    "\n",
    "stats.tmax(df['user_review'])"
   ]
  },
  {
   "cell_type": "code",
   "execution_count": 31,
   "metadata": {},
   "outputs": [
    {
     "data": {
      "text/plain": [
       "6.925984042553192"
      ]
     },
     "execution_count": 31,
     "metadata": {},
     "output_type": "execute_result"
    }
   ],
   "source": [
    "# Get the trimmed mean of the user_review. Return mean of array after trimming distribution \n",
    "# from both tails.\n",
    "\n",
    "stats.trim_mean(df['user_review'], 0.1)"
   ]
  },
  {
   "cell_type": "code",
   "execution_count": 32,
   "metadata": {},
   "outputs": [
    {
     "data": {
      "text/plain": [
       "7.252129623400341"
      ]
     },
     "execution_count": 32,
     "metadata": {},
     "output_type": "execute_result"
    }
   ],
   "source": [
    "# Get the weighted mean\n",
    "\n",
    "np.average(df['user_review'], weights=df['user_review'])"
   ]
  },
  {
   "cell_type": "code",
   "execution_count": 33,
   "metadata": {},
   "outputs": [
    {
     "data": {
      "text/plain": [
       "2.2327142207746093"
      ]
     },
     "execution_count": 33,
     "metadata": {},
     "output_type": "execute_result"
    }
   ],
   "source": [
    "# Get the standard deviation\n",
    "\n",
    "df['user_review'].std()"
   ]
  },
  {
   "cell_type": "code",
   "execution_count": 34,
   "metadata": {},
   "outputs": [
    {
     "data": {
      "text/plain": [
       "0.05    0.0\n",
       "0.25    6.0\n",
       "0.50    7.2\n",
       "0.75    7.9\n",
       "0.95    8.6\n",
       "Name: user_review, dtype: float64"
      ]
     },
     "execution_count": 34,
     "metadata": {},
     "output_type": "execute_result"
    }
   ],
   "source": [
    "# Get the quantile\n",
    "\n",
    "df['user_review'].quantile([0.05, .25, .5, .75, .95])"
   ]
  },
  {
   "cell_type": "code",
   "execution_count": 35,
   "metadata": {},
   "outputs": [
    {
     "data": {
      "text/plain": [
       "<AxesSubplot:ylabel='Frequency'>"
      ]
     },
     "execution_count": 35,
     "metadata": {},
     "output_type": "execute_result"
    },
    {
     "data": {
      "image/png": "[encoded data removed]",
      "text/plain": [
       "<Figure size 432x288 with 1 Axes>"
      ]
     },
     "metadata": {
      "needs_background": "light"
     },
     "output_type": "display_data"
    }
   ],
   "source": [
    "# Plot as a histogram\n",
    "\n",
    "df['user_review'].plot(kind='hist')"
   ]
  },
  {
   "cell_type": "code",
   "execution_count": 36,
   "metadata": {},
   "outputs": [
    {
     "data": {
      "text/plain": [
       "<AxesSubplot:ylabel='Frequency'>"
      ]
     },
     "execution_count": 36,
     "metadata": {},
     "output_type": "execute_result"
    },
    {
     "data": {
      "image/png": "[encoded data removed]",
      "text/plain": [
       "<Figure size 432x288 with 1 Axes>"
      ]
     },
     "metadata": {
      "needs_background": "light"
     },
     "output_type": "display_data"
    }
   ],
   "source": [
    "# Plot meta_score\n",
    "\n",
    "df['meta_score'].plot(kind='hist')"
   ]
  }
 ],
 "metadata": {
  "interpreter": {
   "hash": "3463eb64cfedb64a96af999c91d305d1d093527ea74b5f621e1e83b4db00f443"
  },
  "kernelspec": {
   "display_name": "Python 3.9.13 ('DataAnalysis')",
   "language": "python",
   "name": "python3"
  },
  "language_info": {
   "codemirror_mode": {
    "name": "ipython",
    "version": 3
   },
   "file_extension": ".py",
   "mimetype": "text/x-python",
   "name": "python",
   "nbconvert_exporter": "python",
   "pygments_lexer": "ipython3",
   "version": "3.9.13"
  }
 },
 "nbformat": 4,
 "nbformat_minor": 2
}
