{
 "cells": [
  {
   "cell_type": "code",
   "execution_count": 1,
   "metadata": {},
   "outputs": [],
   "source": [
    "from array import array "
   ]
  },
  {
   "cell_type": "code",
   "execution_count": 11,
   "metadata": {},
   "outputs": [
    {
     "name": "stdout",
     "output_type": "stream",
     "text": [
      "90 , 70 , 50 , 80 , 60 , 85 , "
     ]
    }
   ],
   "source": [
    "def main():\n",
    "    # Create an integer array \n",
    "    arrays = array('i',[90, 70, 50, 80, 60, 85])\n",
    "    # Length of array\n",
    "    length = len(arrays)\n",
    "\n",
    "    for i in range(0, length):\n",
    "        print(arrays[i], \",\", end=\" \")\n",
    "\n",
    "if __name__ == \"__main__\":\n",
    "        main()"
   ]
  },
  {
   "cell_type": "code",
   "execution_count": 8,
   "metadata": {},
   "outputs": [
    {
     "name": "stdout",
     "output_type": "stream",
     "text": [
      "90 ,70 ,50 ,80 ,60 ,85 ,None\n"
     ]
    }
   ],
   "source": [
    "print(main())"
   ]
  }
 ],
 "metadata": {
  "kernelspec": {
   "display_name": "Python 3.10.5 ('streamlit')",
   "language": "python",
   "name": "python3"
  },
  "language_info": {
   "codemirror_mode": {
    "name": "ipython",
    "version": 3
   },
   "file_extension": ".py",
   "mimetype": "text/x-python",
   "name": "python",
   "nbconvert_exporter": "python",
   "pygments_lexer": "ipython3",
   "version": "3.10.5"
  },
  "orig_nbformat": 4,
  "vscode": {
   "interpreter": {
    "hash": "ae22e9992d6ecb6eb8211a605befe3ac3ff1d2da8d07420ee844d432999b2a2f"
   }
  }
 },
 "nbformat": 4,
 "nbformat_minor": 2
}
