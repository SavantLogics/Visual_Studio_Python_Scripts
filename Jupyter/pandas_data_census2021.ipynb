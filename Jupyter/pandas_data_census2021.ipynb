{
 "cells": [
  {
   "cell_type": "markdown",
   "source": [],
   "metadata": {}
  },
  {
   "cell_type": "markdown",
   "source": [
    "# Cleaning and Tidying Data in Pandas\r\n",
    "\r\n",
    "## Tips and Tricks"
   ],
   "metadata": {}
  },
  {
   "cell_type": "code",
   "execution_count": 20,
   "source": [
    "import pandas as pd \r\n",
    "\r\n",
    "df = pd.read_csv('C:\\\\Users\\\\r0dne\\\\Downloads\\\\CSVs\\\\us2021census.csv')"
   ],
   "outputs": [],
   "metadata": {}
  },
  {
   "cell_type": "code",
   "execution_count": 21,
   "source": [
    "df"
   ],
   "outputs": [
    {
     "output_type": "execute_result",
     "data": {
      "text/html": [
       "<div>\n",
       "<style scoped>\n",
       "    .dataframe tbody tr th:only-of-type {\n",
       "        vertical-align: middle;\n",
       "    }\n",
       "\n",
       "    .dataframe tbody tr th {\n",
       "        vertical-align: top;\n",
       "    }\n",
       "\n",
       "    .dataframe thead th {\n",
       "        text-align: right;\n",
       "    }\n",
       "</style>\n",
       "<table border=\"1\" class=\"dataframe\">\n",
       "  <thead>\n",
       "    <tr style=\"text-align: right;\">\n",
       "      <th></th>\n",
       "      <th>City</th>\n",
       "      <th>State</th>\n",
       "      <th>Type</th>\n",
       "      <th>Counties</th>\n",
       "      <th>Population</th>\n",
       "      <th>Latitude</th>\n",
       "      <th>Longitude</th>\n",
       "    </tr>\n",
       "  </thead>\n",
       "  <tbody>\n",
       "    <tr>\n",
       "      <th>0</th>\n",
       "      <td>New York</td>\n",
       "      <td>NY</td>\n",
       "      <td>City</td>\n",
       "      <td>Bronx;Richmond;New York;Kings;Queens</td>\n",
       "      <td>8804190</td>\n",
       "      <td>40.714</td>\n",
       "      <td>-74.007</td>\n",
       "    </tr>\n",
       "    <tr>\n",
       "      <th>1</th>\n",
       "      <td>Los Angeles</td>\n",
       "      <td>CA</td>\n",
       "      <td>City</td>\n",
       "      <td>Los Angeles</td>\n",
       "      <td>3898747</td>\n",
       "      <td>34.052</td>\n",
       "      <td>-118.243</td>\n",
       "    </tr>\n",
       "    <tr>\n",
       "      <th>2</th>\n",
       "      <td>Chicago</td>\n",
       "      <td>IL</td>\n",
       "      <td>City</td>\n",
       "      <td>Cook;DuPage</td>\n",
       "      <td>2746388</td>\n",
       "      <td>41.882</td>\n",
       "      <td>-87.628</td>\n",
       "    </tr>\n",
       "    <tr>\n",
       "      <th>3</th>\n",
       "      <td>Houston</td>\n",
       "      <td>TX</td>\n",
       "      <td>City</td>\n",
       "      <td>Harris;Fort Bend;Montgomery</td>\n",
       "      <td>2304580</td>\n",
       "      <td>29.760</td>\n",
       "      <td>-95.363</td>\n",
       "    </tr>\n",
       "    <tr>\n",
       "      <th>4</th>\n",
       "      <td>Phoenix</td>\n",
       "      <td>AZ</td>\n",
       "      <td>City</td>\n",
       "      <td>Maricopa</td>\n",
       "      <td>1608139</td>\n",
       "      <td>33.448</td>\n",
       "      <td>-112.074</td>\n",
       "    </tr>\n",
       "    <tr>\n",
       "      <th>...</th>\n",
       "      <td>...</td>\n",
       "      <td>...</td>\n",
       "      <td>...</td>\n",
       "      <td>...</td>\n",
       "      <td>...</td>\n",
       "      <td>...</td>\n",
       "      <td>...</td>\n",
       "    </tr>\n",
       "    <tr>\n",
       "      <th>21392</th>\n",
       "      <td>Hoot Owl</td>\n",
       "      <td>OK</td>\n",
       "      <td>Town</td>\n",
       "      <td>Mayes</td>\n",
       "      <td>0</td>\n",
       "      <td>36.360</td>\n",
       "      <td>-95.121</td>\n",
       "    </tr>\n",
       "    <tr>\n",
       "      <th>21393</th>\n",
       "      <td>Lakeside</td>\n",
       "      <td>MO</td>\n",
       "      <td>City</td>\n",
       "      <td>Miller</td>\n",
       "      <td>0</td>\n",
       "      <td>38.202</td>\n",
       "      <td>-92.629</td>\n",
       "    </tr>\n",
       "    <tr>\n",
       "      <th>21394</th>\n",
       "      <td>Mustang</td>\n",
       "      <td>TX</td>\n",
       "      <td>Town</td>\n",
       "      <td>Navarro</td>\n",
       "      <td>0</td>\n",
       "      <td>32.012</td>\n",
       "      <td>-96.432</td>\n",
       "    </tr>\n",
       "    <tr>\n",
       "      <th>21395</th>\n",
       "      <td>South Park View</td>\n",
       "      <td>KY</td>\n",
       "      <td>City</td>\n",
       "      <td>Jefferson</td>\n",
       "      <td>0</td>\n",
       "      <td>38.119</td>\n",
       "      <td>-85.719</td>\n",
       "    </tr>\n",
       "    <tr>\n",
       "      <th>21396</th>\n",
       "      <td>Spencer Mountain</td>\n",
       "      <td>NC</td>\n",
       "      <td>Town</td>\n",
       "      <td>Gaston</td>\n",
       "      <td>0</td>\n",
       "      <td>35.309</td>\n",
       "      <td>-81.113</td>\n",
       "    </tr>\n",
       "  </tbody>\n",
       "</table>\n",
       "<p>21397 rows × 7 columns</p>\n",
       "</div>"
      ],
      "text/plain": [
       "                   City State  Type                              Counties  \\\n",
       "0              New York    NY  City  Bronx;Richmond;New York;Kings;Queens   \n",
       "1           Los Angeles    CA  City                           Los Angeles   \n",
       "2               Chicago    IL  City                           Cook;DuPage   \n",
       "3               Houston    TX  City           Harris;Fort Bend;Montgomery   \n",
       "4               Phoenix    AZ  City                              Maricopa   \n",
       "...                 ...   ...   ...                                   ...   \n",
       "21392          Hoot Owl    OK  Town                                 Mayes   \n",
       "21393          Lakeside    MO  City                                Miller   \n",
       "21394           Mustang    TX  Town                               Navarro   \n",
       "21395   South Park View    KY  City                             Jefferson   \n",
       "21396  Spencer Mountain    NC  Town                                Gaston   \n",
       "\n",
       "       Population  Latitude  Longitude  \n",
       "0         8804190    40.714    -74.007  \n",
       "1         3898747    34.052   -118.243  \n",
       "2         2746388    41.882    -87.628  \n",
       "3         2304580    29.760    -95.363  \n",
       "4         1608139    33.448   -112.074  \n",
       "...           ...       ...        ...  \n",
       "21392           0    36.360    -95.121  \n",
       "21393           0    38.202    -92.629  \n",
       "21394           0    32.012    -96.432  \n",
       "21395           0    38.119    -85.719  \n",
       "21396           0    35.309    -81.113  \n",
       "\n",
       "[21397 rows x 7 columns]"
      ]
     },
     "metadata": {},
     "execution_count": 21
    }
   ],
   "metadata": {}
  },
  {
   "cell_type": "code",
   "execution_count": 22,
   "source": [
    "# Using the loc and iloc to find multiple columns and / or rows. Or subset of rows or columns\r\n",
    "\r\n",
    "df.loc[df['Type'] == 'City', ['Counties', 'Population']]"
   ],
   "outputs": [
    {
     "output_type": "execute_result",
     "data": {
      "text/html": [
       "<div>\n",
       "<style scoped>\n",
       "    .dataframe tbody tr th:only-of-type {\n",
       "        vertical-align: middle;\n",
       "    }\n",
       "\n",
       "    .dataframe tbody tr th {\n",
       "        vertical-align: top;\n",
       "    }\n",
       "\n",
       "    .dataframe thead th {\n",
       "        text-align: right;\n",
       "    }\n",
       "</style>\n",
       "<table border=\"1\" class=\"dataframe\">\n",
       "  <thead>\n",
       "    <tr style=\"text-align: right;\">\n",
       "      <th></th>\n",
       "      <th>Counties</th>\n",
       "      <th>Population</th>\n",
       "    </tr>\n",
       "  </thead>\n",
       "  <tbody>\n",
       "    <tr>\n",
       "      <th>0</th>\n",
       "      <td>Bronx;Richmond;New York;Kings;Queens</td>\n",
       "      <td>8804190</td>\n",
       "    </tr>\n",
       "    <tr>\n",
       "      <th>1</th>\n",
       "      <td>Los Angeles</td>\n",
       "      <td>3898747</td>\n",
       "    </tr>\n",
       "    <tr>\n",
       "      <th>2</th>\n",
       "      <td>Cook;DuPage</td>\n",
       "      <td>2746388</td>\n",
       "    </tr>\n",
       "    <tr>\n",
       "      <th>3</th>\n",
       "      <td>Harris;Fort Bend;Montgomery</td>\n",
       "      <td>2304580</td>\n",
       "    </tr>\n",
       "    <tr>\n",
       "      <th>4</th>\n",
       "      <td>Maricopa</td>\n",
       "      <td>1608139</td>\n",
       "    </tr>\n",
       "    <tr>\n",
       "      <th>...</th>\n",
       "      <td>...</td>\n",
       "      <td>...</td>\n",
       "    </tr>\n",
       "    <tr>\n",
       "      <th>21375</th>\n",
       "      <td>Fremont</td>\n",
       "      <td>4</td>\n",
       "    </tr>\n",
       "    <tr>\n",
       "      <th>21379</th>\n",
       "      <td>Baker;Grant</td>\n",
       "      <td>3</td>\n",
       "    </tr>\n",
       "    <tr>\n",
       "      <th>21387</th>\n",
       "      <td>McLean</td>\n",
       "      <td>1</td>\n",
       "    </tr>\n",
       "    <tr>\n",
       "      <th>21393</th>\n",
       "      <td>Miller</td>\n",
       "      <td>0</td>\n",
       "    </tr>\n",
       "    <tr>\n",
       "      <th>21395</th>\n",
       "      <td>Jefferson</td>\n",
       "      <td>0</td>\n",
       "    </tr>\n",
       "  </tbody>\n",
       "</table>\n",
       "<p>10156 rows × 2 columns</p>\n",
       "</div>"
      ],
      "text/plain": [
       "                                   Counties  Population\n",
       "0      Bronx;Richmond;New York;Kings;Queens     8804190\n",
       "1                               Los Angeles     3898747\n",
       "2                               Cook;DuPage     2746388\n",
       "3               Harris;Fort Bend;Montgomery     2304580\n",
       "4                                  Maricopa     1608139\n",
       "...                                     ...         ...\n",
       "21375                               Fremont           4\n",
       "21379                           Baker;Grant           3\n",
       "21387                                McLean           1\n",
       "21393                                Miller           0\n",
       "21395                             Jefferson           0\n",
       "\n",
       "[10156 rows x 2 columns]"
      ]
     },
     "metadata": {},
     "execution_count": 22
    }
   ],
   "metadata": {}
  },
  {
   "cell_type": "code",
   "execution_count": 23,
   "source": [
    "df.head()"
   ],
   "outputs": [
    {
     "output_type": "execute_result",
     "data": {
      "text/html": [
       "<div>\n",
       "<style scoped>\n",
       "    .dataframe tbody tr th:only-of-type {\n",
       "        vertical-align: middle;\n",
       "    }\n",
       "\n",
       "    .dataframe tbody tr th {\n",
       "        vertical-align: top;\n",
       "    }\n",
       "\n",
       "    .dataframe thead th {\n",
       "        text-align: right;\n",
       "    }\n",
       "</style>\n",
       "<table border=\"1\" class=\"dataframe\">\n",
       "  <thead>\n",
       "    <tr style=\"text-align: right;\">\n",
       "      <th></th>\n",
       "      <th>City</th>\n",
       "      <th>State</th>\n",
       "      <th>Type</th>\n",
       "      <th>Counties</th>\n",
       "      <th>Population</th>\n",
       "      <th>Latitude</th>\n",
       "      <th>Longitude</th>\n",
       "    </tr>\n",
       "  </thead>\n",
       "  <tbody>\n",
       "    <tr>\n",
       "      <th>0</th>\n",
       "      <td>New York</td>\n",
       "      <td>NY</td>\n",
       "      <td>City</td>\n",
       "      <td>Bronx;Richmond;New York;Kings;Queens</td>\n",
       "      <td>8804190</td>\n",
       "      <td>40.714</td>\n",
       "      <td>-74.007</td>\n",
       "    </tr>\n",
       "    <tr>\n",
       "      <th>1</th>\n",
       "      <td>Los Angeles</td>\n",
       "      <td>CA</td>\n",
       "      <td>City</td>\n",
       "      <td>Los Angeles</td>\n",
       "      <td>3898747</td>\n",
       "      <td>34.052</td>\n",
       "      <td>-118.243</td>\n",
       "    </tr>\n",
       "    <tr>\n",
       "      <th>2</th>\n",
       "      <td>Chicago</td>\n",
       "      <td>IL</td>\n",
       "      <td>City</td>\n",
       "      <td>Cook;DuPage</td>\n",
       "      <td>2746388</td>\n",
       "      <td>41.882</td>\n",
       "      <td>-87.628</td>\n",
       "    </tr>\n",
       "    <tr>\n",
       "      <th>3</th>\n",
       "      <td>Houston</td>\n",
       "      <td>TX</td>\n",
       "      <td>City</td>\n",
       "      <td>Harris;Fort Bend;Montgomery</td>\n",
       "      <td>2304580</td>\n",
       "      <td>29.760</td>\n",
       "      <td>-95.363</td>\n",
       "    </tr>\n",
       "    <tr>\n",
       "      <th>4</th>\n",
       "      <td>Phoenix</td>\n",
       "      <td>AZ</td>\n",
       "      <td>City</td>\n",
       "      <td>Maricopa</td>\n",
       "      <td>1608139</td>\n",
       "      <td>33.448</td>\n",
       "      <td>-112.074</td>\n",
       "    </tr>\n",
       "  </tbody>\n",
       "</table>\n",
       "</div>"
      ],
      "text/plain": [
       "          City State  Type                              Counties  Population  \\\n",
       "0     New York    NY  City  Bronx;Richmond;New York;Kings;Queens     8804190   \n",
       "1  Los Angeles    CA  City                           Los Angeles     3898747   \n",
       "2      Chicago    IL  City                           Cook;DuPage     2746388   \n",
       "3      Houston    TX  City           Harris;Fort Bend;Montgomery     2304580   \n",
       "4      Phoenix    AZ  City                              Maricopa     1608139   \n",
       "\n",
       "   Latitude  Longitude  \n",
       "0    40.714    -74.007  \n",
       "1    34.052   -118.243  \n",
       "2    41.882    -87.628  \n",
       "3    29.760    -95.363  \n",
       "4    33.448   -112.074  "
      ]
     },
     "metadata": {},
     "execution_count": 23
    }
   ],
   "metadata": {}
  },
  {
   "cell_type": "code",
   "execution_count": 24,
   "source": [
    "# Find out what type the header columns\r\n",
    "df.columns"
   ],
   "outputs": [
    {
     "output_type": "execute_result",
     "data": {
      "text/plain": [
       "Index(['City', 'State', 'Type', 'Counties', 'Population', 'Latitude',\n",
       "       'Longitude'],\n",
       "      dtype='object')"
      ]
     },
     "metadata": {},
     "execution_count": 24
    }
   ],
   "metadata": {}
  },
  {
   "cell_type": "code",
   "execution_count": 25,
   "source": [
    "# Find out what the info in the arrays\r\n",
    "df.values"
   ],
   "outputs": [
    {
     "output_type": "execute_result",
     "data": {
      "text/plain": [
       "array([['New York', 'NY', 'City', ..., 8804190, 40.714, -74.007],\n",
       "       ['Los Angeles', 'CA', 'City', ..., 3898747, 34.052, -118.243],\n",
       "       ['Chicago', 'IL', 'City', ..., 2746388, 41.882, -87.628],\n",
       "       ...,\n",
       "       ['Mustang', 'TX', 'Town', ..., 0, 32.012, -96.432],\n",
       "       ['South Park View', 'KY', 'City', ..., 0, 38.119, -85.719],\n",
       "       ['Spencer Mountain', 'NC', 'Town', ..., 0, 35.309, -81.113]],\n",
       "      dtype=object)"
      ]
     },
     "metadata": {},
     "execution_count": 25
    }
   ],
   "metadata": {}
  },
  {
   "cell_type": "code",
   "execution_count": 26,
   "source": [
    "type(df)"
   ],
   "outputs": [
    {
     "output_type": "execute_result",
     "data": {
      "text/plain": [
       "pandas.core.frame.DataFrame"
      ]
     },
     "metadata": {},
     "execution_count": 26
    }
   ],
   "metadata": {}
  },
  {
   "cell_type": "code",
   "execution_count": 27,
   "source": [
    "# Read and count rows and columns\r\n",
    "df.shape"
   ],
   "outputs": [
    {
     "output_type": "execute_result",
     "data": {
      "text/plain": [
       "(21397, 7)"
      ]
     },
     "metadata": {},
     "execution_count": 27
    }
   ],
   "metadata": {}
  },
  {
   "cell_type": "code",
   "execution_count": 28,
   "source": [
    "# Find out type and info \r\n",
    "df.info()"
   ],
   "outputs": [
    {
     "output_type": "stream",
     "name": "stdout",
     "text": [
      "<class 'pandas.core.frame.DataFrame'>\n",
      "RangeIndex: 21397 entries, 0 to 21396\n",
      "Data columns (total 7 columns):\n",
      " #   Column      Non-Null Count  Dtype  \n",
      "---  ------      --------------  -----  \n",
      " 0   City        21397 non-null  object \n",
      " 1   State       21397 non-null  object \n",
      " 2   Type        21397 non-null  object \n",
      " 3   Counties    21397 non-null  object \n",
      " 4   Population  21397 non-null  int64  \n",
      " 5   Latitude    21397 non-null  float64\n",
      " 6   Longitude   21397 non-null  float64\n",
      "dtypes: float64(2), int64(1), object(4)\n",
      "memory usage: 1.1+ MB\n"
     ]
    }
   ],
   "metadata": {}
  },
  {
   "cell_type": "code",
   "execution_count": 29,
   "source": [
    "# What to find a single column\r\n",
    "df['Type']"
   ],
   "outputs": [
    {
     "output_type": "execute_result",
     "data": {
      "text/plain": [
       "0        City\n",
       "1        City\n",
       "2        City\n",
       "3        City\n",
       "4        City\n",
       "         ... \n",
       "21392    Town\n",
       "21393    City\n",
       "21394    Town\n",
       "21395    City\n",
       "21396    Town\n",
       "Name: Type, Length: 21397, dtype: object"
      ]
     },
     "metadata": {},
     "execution_count": 29
    }
   ],
   "metadata": {}
  },
  {
   "cell_type": "code",
   "execution_count": 30,
   "source": [
    "type_df = df['Type']"
   ],
   "outputs": [],
   "metadata": {}
  },
  {
   "cell_type": "code",
   "execution_count": 31,
   "source": [
    "type_df.head()"
   ],
   "outputs": [
    {
     "output_type": "execute_result",
     "data": {
      "text/plain": [
       "0    City\n",
       "1    City\n",
       "2    City\n",
       "3    City\n",
       "4    City\n",
       "Name: Type, dtype: object"
      ]
     },
     "metadata": {},
     "execution_count": 31
    }
   ],
   "metadata": {}
  },
  {
   "cell_type": "code",
   "execution_count": 32,
   "source": [
    "# Multiple columns use two sets of square brackets [[]]\r\n",
    " \r\n",
    "subset = df[['City', 'State', 'Population']] "
   ],
   "outputs": [],
   "metadata": {}
  },
  {
   "cell_type": "code",
   "execution_count": 33,
   "source": [
    "subset"
   ],
   "outputs": [
    {
     "output_type": "execute_result",
     "data": {
      "text/html": [
       "<div>\n",
       "<style scoped>\n",
       "    .dataframe tbody tr th:only-of-type {\n",
       "        vertical-align: middle;\n",
       "    }\n",
       "\n",
       "    .dataframe tbody tr th {\n",
       "        vertical-align: top;\n",
       "    }\n",
       "\n",
       "    .dataframe thead th {\n",
       "        text-align: right;\n",
       "    }\n",
       "</style>\n",
       "<table border=\"1\" class=\"dataframe\">\n",
       "  <thead>\n",
       "    <tr style=\"text-align: right;\">\n",
       "      <th></th>\n",
       "      <th>City</th>\n",
       "      <th>State</th>\n",
       "      <th>Population</th>\n",
       "    </tr>\n",
       "  </thead>\n",
       "  <tbody>\n",
       "    <tr>\n",
       "      <th>0</th>\n",
       "      <td>New York</td>\n",
       "      <td>NY</td>\n",
       "      <td>8804190</td>\n",
       "    </tr>\n",
       "    <tr>\n",
       "      <th>1</th>\n",
       "      <td>Los Angeles</td>\n",
       "      <td>CA</td>\n",
       "      <td>3898747</td>\n",
       "    </tr>\n",
       "    <tr>\n",
       "      <th>2</th>\n",
       "      <td>Chicago</td>\n",
       "      <td>IL</td>\n",
       "      <td>2746388</td>\n",
       "    </tr>\n",
       "    <tr>\n",
       "      <th>3</th>\n",
       "      <td>Houston</td>\n",
       "      <td>TX</td>\n",
       "      <td>2304580</td>\n",
       "    </tr>\n",
       "    <tr>\n",
       "      <th>4</th>\n",
       "      <td>Phoenix</td>\n",
       "      <td>AZ</td>\n",
       "      <td>1608139</td>\n",
       "    </tr>\n",
       "    <tr>\n",
       "      <th>...</th>\n",
       "      <td>...</td>\n",
       "      <td>...</td>\n",
       "      <td>...</td>\n",
       "    </tr>\n",
       "    <tr>\n",
       "      <th>21392</th>\n",
       "      <td>Hoot Owl</td>\n",
       "      <td>OK</td>\n",
       "      <td>0</td>\n",
       "    </tr>\n",
       "    <tr>\n",
       "      <th>21393</th>\n",
       "      <td>Lakeside</td>\n",
       "      <td>MO</td>\n",
       "      <td>0</td>\n",
       "    </tr>\n",
       "    <tr>\n",
       "      <th>21394</th>\n",
       "      <td>Mustang</td>\n",
       "      <td>TX</td>\n",
       "      <td>0</td>\n",
       "    </tr>\n",
       "    <tr>\n",
       "      <th>21395</th>\n",
       "      <td>South Park View</td>\n",
       "      <td>KY</td>\n",
       "      <td>0</td>\n",
       "    </tr>\n",
       "    <tr>\n",
       "      <th>21396</th>\n",
       "      <td>Spencer Mountain</td>\n",
       "      <td>NC</td>\n",
       "      <td>0</td>\n",
       "    </tr>\n",
       "  </tbody>\n",
       "</table>\n",
       "<p>21397 rows × 3 columns</p>\n",
       "</div>"
      ],
      "text/plain": [
       "                   City State  Population\n",
       "0              New York    NY     8804190\n",
       "1           Los Angeles    CA     3898747\n",
       "2               Chicago    IL     2746388\n",
       "3               Houston    TX     2304580\n",
       "4               Phoenix    AZ     1608139\n",
       "...                 ...   ...         ...\n",
       "21392          Hoot Owl    OK           0\n",
       "21393          Lakeside    MO           0\n",
       "21394           Mustang    TX           0\n",
       "21395   South Park View    KY           0\n",
       "21396  Spencer Mountain    NC           0\n",
       "\n",
       "[21397 rows x 3 columns]"
      ]
     },
     "metadata": {},
     "execution_count": 33
    }
   ],
   "metadata": {}
  },
  {
   "cell_type": "code",
   "execution_count": 34,
   "source": [
    "# Check what version you are using\r\n",
    "pd.__version__"
   ],
   "outputs": [
    {
     "output_type": "execute_result",
     "data": {
      "text/plain": [
       "'1.3.3'"
      ]
     },
     "metadata": {},
     "execution_count": 34
    }
   ],
   "metadata": {}
  },
  {
   "cell_type": "code",
   "execution_count": 35,
   "source": [
    "# Finding the most populated counties in California \r\n",
    "df.loc[df['State'] == 'CA', ['Counties', 'City', 'Population']] "
   ],
   "outputs": [
    {
     "output_type": "execute_result",
     "data": {
      "text/html": [
       "<div>\n",
       "<style scoped>\n",
       "    .dataframe tbody tr th:only-of-type {\n",
       "        vertical-align: middle;\n",
       "    }\n",
       "\n",
       "    .dataframe tbody tr th {\n",
       "        vertical-align: top;\n",
       "    }\n",
       "\n",
       "    .dataframe thead th {\n",
       "        text-align: right;\n",
       "    }\n",
       "</style>\n",
       "<table border=\"1\" class=\"dataframe\">\n",
       "  <thead>\n",
       "    <tr style=\"text-align: right;\">\n",
       "      <th></th>\n",
       "      <th>Counties</th>\n",
       "      <th>City</th>\n",
       "      <th>Population</th>\n",
       "    </tr>\n",
       "  </thead>\n",
       "  <tbody>\n",
       "    <tr>\n",
       "      <th>1</th>\n",
       "      <td>Los Angeles</td>\n",
       "      <td>Los Angeles</td>\n",
       "      <td>3898747</td>\n",
       "    </tr>\n",
       "    <tr>\n",
       "      <th>7</th>\n",
       "      <td>San Diego</td>\n",
       "      <td>San Diego</td>\n",
       "      <td>1386932</td>\n",
       "    </tr>\n",
       "    <tr>\n",
       "      <th>9</th>\n",
       "      <td>Santa Clara</td>\n",
       "      <td>San Jose</td>\n",
       "      <td>1013240</td>\n",
       "    </tr>\n",
       "    <tr>\n",
       "      <th>16</th>\n",
       "      <td>San Francisco</td>\n",
       "      <td>San Francisco</td>\n",
       "      <td>873965</td>\n",
       "    </tr>\n",
       "    <tr>\n",
       "      <th>33</th>\n",
       "      <td>Fresno</td>\n",
       "      <td>Fresno</td>\n",
       "      <td>542107</td>\n",
       "    </tr>\n",
       "    <tr>\n",
       "      <th>...</th>\n",
       "      <td>...</td>\n",
       "      <td>...</td>\n",
       "      <td>...</td>\n",
       "    </tr>\n",
       "    <tr>\n",
       "      <th>16624</th>\n",
       "      <td>Monterey</td>\n",
       "      <td>Sand City</td>\n",
       "      <td>325</td>\n",
       "    </tr>\n",
       "    <tr>\n",
       "      <th>16833</th>\n",
       "      <td>Humboldt</td>\n",
       "      <td>Trinidad</td>\n",
       "      <td>307</td>\n",
       "    </tr>\n",
       "    <tr>\n",
       "      <th>17381</th>\n",
       "      <td>Los Angeles</td>\n",
       "      <td>Industry</td>\n",
       "      <td>264</td>\n",
       "    </tr>\n",
       "    <tr>\n",
       "      <th>17968</th>\n",
       "      <td>Los Angeles</td>\n",
       "      <td>Vernon</td>\n",
       "      <td>222</td>\n",
       "    </tr>\n",
       "    <tr>\n",
       "      <th>18310</th>\n",
       "      <td>Amador</td>\n",
       "      <td>Amador City</td>\n",
       "      <td>200</td>\n",
       "    </tr>\n",
       "  </tbody>\n",
       "</table>\n",
       "<p>482 rows × 3 columns</p>\n",
       "</div>"
      ],
      "text/plain": [
       "            Counties           City  Population\n",
       "1        Los Angeles    Los Angeles     3898747\n",
       "7          San Diego      San Diego     1386932\n",
       "9        Santa Clara       San Jose     1013240\n",
       "16     San Francisco  San Francisco      873965\n",
       "33            Fresno         Fresno      542107\n",
       "...              ...            ...         ...\n",
       "16624       Monterey      Sand City         325\n",
       "16833       Humboldt       Trinidad         307\n",
       "17381    Los Angeles       Industry         264\n",
       "17968    Los Angeles         Vernon         222\n",
       "18310         Amador    Amador City         200\n",
       "\n",
       "[482 rows x 3 columns]"
      ]
     },
     "metadata": {},
     "execution_count": 35
    }
   ],
   "metadata": {}
  },
  {
   "cell_type": "code",
   "execution_count": null,
   "source": [],
   "outputs": [],
   "metadata": {}
  }
 ],
 "metadata": {
  "orig_nbformat": 4,
  "language_info": {
   "name": "python",
   "version": "3.9.7",
   "mimetype": "text/x-python",
   "codemirror_mode": {
    "name": "ipython",
    "version": 3
   },
   "pygments_lexer": "ipython3",
   "nbconvert_exporter": "python",
   "file_extension": ".py"
  },
  "kernelspec": {
   "name": "python3",
   "display_name": "Python 3.9.7 64-bit ('automate': conda)"
  },
  "interpreter": {
   "hash": "6066184e1aa427624f0ae889597d012321960d0d1906496caae846833fdbecd3"
  }
 },
 "nbformat": 4,
 "nbformat_minor": 2
}