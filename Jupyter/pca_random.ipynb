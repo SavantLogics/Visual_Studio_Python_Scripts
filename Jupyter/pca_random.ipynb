{
 "cells": [
  {
   "cell_type": "code",
   "execution_count": 3,
   "metadata": {},
   "outputs": [],
   "source": [
    "import pandas as pd\n",
    "import numpy as np\n",
    "import random as rd\n",
    "import matplotlib.pyplot as plt\n",
    "from sklearn import preprocessing\n",
    "from sklearn.decomposition import PCA"
   ]
  },
  {
   "cell_type": "markdown",
   "metadata": {},
   "source": [
    "### Create a range of 100 genes and a range of 5 wt and ko "
   ]
  },
  {
   "cell_type": "code",
   "execution_count": 4,
   "metadata": {},
   "outputs": [],
   "source": [
    "genes = ['gene' + str(i) for i in range(1,101)]\n",
    "wt = ['wt' + str(i) for i in range(1,6)]\n",
    "ko = ['ko' + str(i) for i in range(1,6)]"
   ]
  },
  {
   "cell_type": "markdown",
   "metadata": {},
   "source": [
    "### Make the columns wt and ko\n",
    "### Make the index genes "
   ]
  },
  {
   "cell_type": "code",
   "execution_count": 5,
   "metadata": {},
   "outputs": [],
   "source": [
    "data = pd.DataFrame(columns=[*wt, *ko], index=genes)"
   ]
  },
  {
   "cell_type": "code",
   "execution_count": 6,
   "metadata": {},
   "outputs": [],
   "source": [
    "for gene in data.index:\n",
    "    data.loc[gene, 'wt1' : 'wt5'] = np.random.poisson(lam=rd.randrange(10,1000), size=5)\n",
    "    data.loc[gene, 'ko1' : 'ko5'] = np.random.poisson(lam=rd.randrange(10,1000), size=5)"
   ]
  },
  {
   "cell_type": "code",
   "execution_count": 7,
   "metadata": {},
   "outputs": [
    {
     "name": "stdout",
     "output_type": "stream",
     "text": [
      "       wt1  wt2  wt3  wt4  wt5  ko1  ko2  ko3  ko4  ko5\n",
      "gene1  198  208  172  183  179  903  918  943  904  917\n",
      "gene2  641  587  656  601  614  648  594  681  641  618\n",
      "gene3  646  627  596  647  636  575  583  580  534  566\n",
      "gene4   20   21   16   15   18  458  451  456  434  476\n",
      "gene5  381  437  410  433  419  775  737  725  772  726\n"
     ]
    }
   ],
   "source": [
    "print(data.head())"
   ]
  },
  {
   "cell_type": "code",
   "execution_count": 8,
   "metadata": {},
   "outputs": [
    {
     "name": "stdout",
     "output_type": "stream",
     "text": [
      "(100, 10)\n"
     ]
    }
   ],
   "source": [
    "print(data.shape)"
   ]
  },
  {
   "cell_type": "code",
   "execution_count": 9,
   "metadata": {},
   "outputs": [
    {
     "data": {
      "text/html": [
       "<div>\n",
       "<style scoped>\n",
       "    .dataframe tbody tr th:only-of-type {\n",
       "        vertical-align: middle;\n",
       "    }\n",
       "\n",
       "    .dataframe tbody tr th {\n",
       "        vertical-align: top;\n",
       "    }\n",
       "\n",
       "    .dataframe thead th {\n",
       "        text-align: right;\n",
       "    }\n",
       "</style>\n",
       "<table border=\"1\" class=\"dataframe\">\n",
       "  <thead>\n",
       "    <tr style=\"text-align: right;\">\n",
       "      <th></th>\n",
       "      <th>wt1</th>\n",
       "      <th>wt2</th>\n",
       "      <th>wt3</th>\n",
       "      <th>wt4</th>\n",
       "      <th>wt5</th>\n",
       "      <th>ko1</th>\n",
       "      <th>ko2</th>\n",
       "      <th>ko3</th>\n",
       "      <th>ko4</th>\n",
       "      <th>ko5</th>\n",
       "    </tr>\n",
       "  </thead>\n",
       "  <tbody>\n",
       "    <tr>\n",
       "      <th>gene1</th>\n",
       "      <td>198</td>\n",
       "      <td>208</td>\n",
       "      <td>172</td>\n",
       "      <td>183</td>\n",
       "      <td>179</td>\n",
       "      <td>903</td>\n",
       "      <td>918</td>\n",
       "      <td>943</td>\n",
       "      <td>904</td>\n",
       "      <td>917</td>\n",
       "    </tr>\n",
       "    <tr>\n",
       "      <th>gene2</th>\n",
       "      <td>641</td>\n",
       "      <td>587</td>\n",
       "      <td>656</td>\n",
       "      <td>601</td>\n",
       "      <td>614</td>\n",
       "      <td>648</td>\n",
       "      <td>594</td>\n",
       "      <td>681</td>\n",
       "      <td>641</td>\n",
       "      <td>618</td>\n",
       "    </tr>\n",
       "    <tr>\n",
       "      <th>gene3</th>\n",
       "      <td>646</td>\n",
       "      <td>627</td>\n",
       "      <td>596</td>\n",
       "      <td>647</td>\n",
       "      <td>636</td>\n",
       "      <td>575</td>\n",
       "      <td>583</td>\n",
       "      <td>580</td>\n",
       "      <td>534</td>\n",
       "      <td>566</td>\n",
       "    </tr>\n",
       "    <tr>\n",
       "      <th>gene4</th>\n",
       "      <td>20</td>\n",
       "      <td>21</td>\n",
       "      <td>16</td>\n",
       "      <td>15</td>\n",
       "      <td>18</td>\n",
       "      <td>458</td>\n",
       "      <td>451</td>\n",
       "      <td>456</td>\n",
       "      <td>434</td>\n",
       "      <td>476</td>\n",
       "    </tr>\n",
       "    <tr>\n",
       "      <th>gene5</th>\n",
       "      <td>381</td>\n",
       "      <td>437</td>\n",
       "      <td>410</td>\n",
       "      <td>433</td>\n",
       "      <td>419</td>\n",
       "      <td>775</td>\n",
       "      <td>737</td>\n",
       "      <td>725</td>\n",
       "      <td>772</td>\n",
       "      <td>726</td>\n",
       "    </tr>\n",
       "    <tr>\n",
       "      <th>...</th>\n",
       "      <td>...</td>\n",
       "      <td>...</td>\n",
       "      <td>...</td>\n",
       "      <td>...</td>\n",
       "      <td>...</td>\n",
       "      <td>...</td>\n",
       "      <td>...</td>\n",
       "      <td>...</td>\n",
       "      <td>...</td>\n",
       "      <td>...</td>\n",
       "    </tr>\n",
       "    <tr>\n",
       "      <th>gene96</th>\n",
       "      <td>165</td>\n",
       "      <td>160</td>\n",
       "      <td>143</td>\n",
       "      <td>156</td>\n",
       "      <td>154</td>\n",
       "      <td>422</td>\n",
       "      <td>418</td>\n",
       "      <td>405</td>\n",
       "      <td>379</td>\n",
       "      <td>422</td>\n",
       "    </tr>\n",
       "    <tr>\n",
       "      <th>gene97</th>\n",
       "      <td>411</td>\n",
       "      <td>440</td>\n",
       "      <td>439</td>\n",
       "      <td>443</td>\n",
       "      <td>445</td>\n",
       "      <td>418</td>\n",
       "      <td>370</td>\n",
       "      <td>396</td>\n",
       "      <td>386</td>\n",
       "      <td>339</td>\n",
       "    </tr>\n",
       "    <tr>\n",
       "      <th>gene98</th>\n",
       "      <td>451</td>\n",
       "      <td>445</td>\n",
       "      <td>451</td>\n",
       "      <td>395</td>\n",
       "      <td>421</td>\n",
       "      <td>621</td>\n",
       "      <td>662</td>\n",
       "      <td>667</td>\n",
       "      <td>618</td>\n",
       "      <td>655</td>\n",
       "    </tr>\n",
       "    <tr>\n",
       "      <th>gene99</th>\n",
       "      <td>234</td>\n",
       "      <td>182</td>\n",
       "      <td>193</td>\n",
       "      <td>188</td>\n",
       "      <td>203</td>\n",
       "      <td>297</td>\n",
       "      <td>338</td>\n",
       "      <td>313</td>\n",
       "      <td>333</td>\n",
       "      <td>310</td>\n",
       "    </tr>\n",
       "    <tr>\n",
       "      <th>gene100</th>\n",
       "      <td>792</td>\n",
       "      <td>787</td>\n",
       "      <td>836</td>\n",
       "      <td>833</td>\n",
       "      <td>803</td>\n",
       "      <td>589</td>\n",
       "      <td>626</td>\n",
       "      <td>563</td>\n",
       "      <td>579</td>\n",
       "      <td>550</td>\n",
       "    </tr>\n",
       "  </tbody>\n",
       "</table>\n",
       "<p>100 rows × 10 columns</p>\n",
       "</div>"
      ],
      "text/plain": [
       "         wt1  wt2  wt3  wt4  wt5  ko1  ko2  ko3  ko4  ko5\n",
       "gene1    198  208  172  183  179  903  918  943  904  917\n",
       "gene2    641  587  656  601  614  648  594  681  641  618\n",
       "gene3    646  627  596  647  636  575  583  580  534  566\n",
       "gene4     20   21   16   15   18  458  451  456  434  476\n",
       "gene5    381  437  410  433  419  775  737  725  772  726\n",
       "...      ...  ...  ...  ...  ...  ...  ...  ...  ...  ...\n",
       "gene96   165  160  143  156  154  422  418  405  379  422\n",
       "gene97   411  440  439  443  445  418  370  396  386  339\n",
       "gene98   451  445  451  395  421  621  662  667  618  655\n",
       "gene99   234  182  193  188  203  297  338  313  333  310\n",
       "gene100  792  787  836  833  803  589  626  563  579  550\n",
       "\n",
       "[100 rows x 10 columns]"
      ]
     },
     "execution_count": 9,
     "metadata": {},
     "output_type": "execute_result"
    }
   ],
   "source": [
    "data"
   ]
  },
  {
   "cell_type": "code",
   "execution_count": 10,
   "metadata": {},
   "outputs": [],
   "source": [
    "scaled_data = preprocessing.scale(data.T)"
   ]
  },
  {
   "cell_type": "code",
   "execution_count": 11,
   "metadata": {},
   "outputs": [],
   "source": [
    "pca = PCA()\n",
    "pca.fit(scaled_data)\n",
    "pca_data = pca.transform(scaled_data)"
   ]
  },
  {
   "cell_type": "code",
   "execution_count": 12,
   "metadata": {},
   "outputs": [],
   "source": [
    "per_var = np.round(pca.explained_variance_ratio_* 100, decimals=1)\n",
    "labels = ['PC' + str(x) for x in range(1, len(per_var)+1)]"
   ]
  },
  {
   "cell_type": "code",
   "execution_count": 13,
   "metadata": {},
   "outputs": [],
   "source": [
    "plt.bar(x=range(1, len(per_var)+1), height=per_var, tick_label=labels)\n",
    "plt.ylabel('Percentage of Explainded Variance')\n",
    "plt.xlabel('Principal Component')\n",
    "plt.title('Scree Plot')\n",
    "plt.show()"
   ]
  }
 ],
 "metadata": {
  "interpreter": {
   "hash": "6066184e1aa427624f0ae889597d012321960d0d1906496caae846833fdbecd3"
  },
  "kernelspec": {
   "display_name": "Python 3.9.7 64-bit ('automate': conda)",
   "name": "python3"
  },
  "language_info": {
   "codemirror_mode": {
    "name": "ipython",
    "version": 3
   },
   "file_extension": ".py",
   "mimetype": "text/x-python",
   "name": "python",
   "nbconvert_exporter": "python",
   "pygments_lexer": "ipython3",
   "version": "3.9.7"
  },
  "orig_nbformat": 4
 },
 "nbformat": 4,
 "nbformat_minor": 2
}
