{
 "cells": [
  {
   "cell_type": "code",
   "execution_count": 25,
   "source": [
    "import pandas as pd \r\n",
    "import numpy as np\r\n",
    "import matplotlib as mpl\r\n",
    "import matplotlib.pyplot as plt\r\n",
    "from scipy import stats\r\n",
    "\r\n",
    "df = pd.read_csv('C:\\\\Users\\\\r0dne\\\\Downloads\\\\CSVs\\\\all_games.csv')"
   ],
   "outputs": [],
   "metadata": {}
  },
  {
   "cell_type": "code",
   "execution_count": 26,
   "source": [
    "df"
   ],
   "outputs": [
    {
     "output_type": "execute_result",
     "data": {
      "text/html": [
       "<div>\n",
       "<style scoped>\n",
       "    .dataframe tbody tr th:only-of-type {\n",
       "        vertical-align: middle;\n",
       "    }\n",
       "\n",
       "    .dataframe tbody tr th {\n",
       "        vertical-align: top;\n",
       "    }\n",
       "\n",
       "    .dataframe thead th {\n",
       "        text-align: right;\n",
       "    }\n",
       "</style>\n",
       "<table border=\"1\" class=\"dataframe\">\n",
       "  <thead>\n",
       "    <tr style=\"text-align: right;\">\n",
       "      <th></th>\n",
       "      <th>name</th>\n",
       "      <th>platform</th>\n",
       "      <th>release_date</th>\n",
       "      <th>summary</th>\n",
       "      <th>meta_score</th>\n",
       "      <th>user_review</th>\n",
       "    </tr>\n",
       "  </thead>\n",
       "  <tbody>\n",
       "    <tr>\n",
       "      <th>0</th>\n",
       "      <td>The Legend of Zelda: Ocarina of Time</td>\n",
       "      <td>Nintendo 64</td>\n",
       "      <td>November 23, 1998</td>\n",
       "      <td>As a young boy, Link is tricked by Ganondorf, ...</td>\n",
       "      <td>99</td>\n",
       "      <td>9.1</td>\n",
       "    </tr>\n",
       "    <tr>\n",
       "      <th>1</th>\n",
       "      <td>Tony Hawk's Pro Skater 2</td>\n",
       "      <td>PlayStation</td>\n",
       "      <td>September 20, 2000</td>\n",
       "      <td>As most major publishers' development efforts ...</td>\n",
       "      <td>98</td>\n",
       "      <td>7.4</td>\n",
       "    </tr>\n",
       "    <tr>\n",
       "      <th>2</th>\n",
       "      <td>Grand Theft Auto IV</td>\n",
       "      <td>PlayStation 3</td>\n",
       "      <td>April 29, 2008</td>\n",
       "      <td>[Metacritic's 2008 PS3 Game of the Year; Also ...</td>\n",
       "      <td>98</td>\n",
       "      <td>7.7</td>\n",
       "    </tr>\n",
       "    <tr>\n",
       "      <th>3</th>\n",
       "      <td>SoulCalibur</td>\n",
       "      <td>Dreamcast</td>\n",
       "      <td>September 8, 1999</td>\n",
       "      <td>This is a tale of souls and swords, transcendi...</td>\n",
       "      <td>98</td>\n",
       "      <td>8.4</td>\n",
       "    </tr>\n",
       "    <tr>\n",
       "      <th>4</th>\n",
       "      <td>Grand Theft Auto IV</td>\n",
       "      <td>Xbox 360</td>\n",
       "      <td>April 29, 2008</td>\n",
       "      <td>[Metacritic's 2008 Xbox 360 Game of the Year; ...</td>\n",
       "      <td>98</td>\n",
       "      <td>7.9</td>\n",
       "    </tr>\n",
       "    <tr>\n",
       "      <th>...</th>\n",
       "      <td>...</td>\n",
       "      <td>...</td>\n",
       "      <td>...</td>\n",
       "      <td>...</td>\n",
       "      <td>...</td>\n",
       "      <td>...</td>\n",
       "    </tr>\n",
       "    <tr>\n",
       "      <th>18795</th>\n",
       "      <td>Fast &amp; Furious: Showdown</td>\n",
       "      <td>Xbox 360</td>\n",
       "      <td>May 21, 2013</td>\n",
       "      <td>Fast &amp; Furious: Showdown takes some of the fra...</td>\n",
       "      <td>22</td>\n",
       "      <td>1.3</td>\n",
       "    </tr>\n",
       "    <tr>\n",
       "      <th>18796</th>\n",
       "      <td>Drake of the 99 Dragons</td>\n",
       "      <td>Xbox</td>\n",
       "      <td>November 3, 2003</td>\n",
       "      <td>Drake is out for revenge in a supernatural Hon...</td>\n",
       "      <td>22</td>\n",
       "      <td>1.7</td>\n",
       "    </tr>\n",
       "    <tr>\n",
       "      <th>18797</th>\n",
       "      <td>Afro Samurai 2: Revenge of Kuma Volume One</td>\n",
       "      <td>PlayStation 4</td>\n",
       "      <td>September 22, 2015</td>\n",
       "      <td>Head out on a journey of redemption, driven by...</td>\n",
       "      <td>21</td>\n",
       "      <td>2.9</td>\n",
       "    </tr>\n",
       "    <tr>\n",
       "      <th>18798</th>\n",
       "      <td>Infestation: Survivor Stories (The War Z)</td>\n",
       "      <td>PC</td>\n",
       "      <td>October 15, 2012</td>\n",
       "      <td>(Formerly known as \"The War Z\") It has been 5 ...</td>\n",
       "      <td>20</td>\n",
       "      <td>1.7</td>\n",
       "    </tr>\n",
       "    <tr>\n",
       "      <th>18799</th>\n",
       "      <td>Leisure Suit Larry: Box Office Bust</td>\n",
       "      <td>PC</td>\n",
       "      <td>March 31, 2009</td>\n",
       "      <td>The Leisure Suit Larry: Box Office Bust video ...</td>\n",
       "      <td>20</td>\n",
       "      <td>2.0</td>\n",
       "    </tr>\n",
       "  </tbody>\n",
       "</table>\n",
       "<p>18800 rows × 6 columns</p>\n",
       "</div>"
      ],
      "text/plain": [
       "                                             name        platform  \\\n",
       "0            The Legend of Zelda: Ocarina of Time     Nintendo 64   \n",
       "1                        Tony Hawk's Pro Skater 2     PlayStation   \n",
       "2                             Grand Theft Auto IV   PlayStation 3   \n",
       "3                                     SoulCalibur       Dreamcast   \n",
       "4                             Grand Theft Auto IV        Xbox 360   \n",
       "...                                           ...             ...   \n",
       "18795                    Fast & Furious: Showdown        Xbox 360   \n",
       "18796                     Drake of the 99 Dragons            Xbox   \n",
       "18797  Afro Samurai 2: Revenge of Kuma Volume One   PlayStation 4   \n",
       "18798   Infestation: Survivor Stories (The War Z)              PC   \n",
       "18799         Leisure Suit Larry: Box Office Bust              PC   \n",
       "\n",
       "             release_date                                            summary  \\\n",
       "0       November 23, 1998  As a young boy, Link is tricked by Ganondorf, ...   \n",
       "1      September 20, 2000  As most major publishers' development efforts ...   \n",
       "2          April 29, 2008  [Metacritic's 2008 PS3 Game of the Year; Also ...   \n",
       "3       September 8, 1999  This is a tale of souls and swords, transcendi...   \n",
       "4          April 29, 2008  [Metacritic's 2008 Xbox 360 Game of the Year; ...   \n",
       "...                   ...                                                ...   \n",
       "18795        May 21, 2013  Fast & Furious: Showdown takes some of the fra...   \n",
       "18796    November 3, 2003  Drake is out for revenge in a supernatural Hon...   \n",
       "18797  September 22, 2015  Head out on a journey of redemption, driven by...   \n",
       "18798    October 15, 2012  (Formerly known as \"The War Z\") It has been 5 ...   \n",
       "18799      March 31, 2009  The Leisure Suit Larry: Box Office Bust video ...   \n",
       "\n",
       "       meta_score user_review  \n",
       "0              99         9.1  \n",
       "1              98         7.4  \n",
       "2              98         7.7  \n",
       "3              98         8.4  \n",
       "4              98         7.9  \n",
       "...           ...         ...  \n",
       "18795          22         1.3  \n",
       "18796          22         1.7  \n",
       "18797          21         2.9  \n",
       "18798          20         1.7  \n",
       "18799          20         2.0  \n",
       "\n",
       "[18800 rows x 6 columns]"
      ]
     },
     "metadata": {},
     "execution_count": 26
    }
   ],
   "metadata": {}
  },
  {
   "cell_type": "code",
   "execution_count": 27,
   "source": [
    "df.head()"
   ],
   "outputs": [
    {
     "output_type": "execute_result",
     "data": {
      "text/html": [
       "<div>\n",
       "<style scoped>\n",
       "    .dataframe tbody tr th:only-of-type {\n",
       "        vertical-align: middle;\n",
       "    }\n",
       "\n",
       "    .dataframe tbody tr th {\n",
       "        vertical-align: top;\n",
       "    }\n",
       "\n",
       "    .dataframe thead th {\n",
       "        text-align: right;\n",
       "    }\n",
       "</style>\n",
       "<table border=\"1\" class=\"dataframe\">\n",
       "  <thead>\n",
       "    <tr style=\"text-align: right;\">\n",
       "      <th></th>\n",
       "      <th>name</th>\n",
       "      <th>platform</th>\n",
       "      <th>release_date</th>\n",
       "      <th>summary</th>\n",
       "      <th>meta_score</th>\n",
       "      <th>user_review</th>\n",
       "    </tr>\n",
       "  </thead>\n",
       "  <tbody>\n",
       "    <tr>\n",
       "      <th>0</th>\n",
       "      <td>The Legend of Zelda: Ocarina of Time</td>\n",
       "      <td>Nintendo 64</td>\n",
       "      <td>November 23, 1998</td>\n",
       "      <td>As a young boy, Link is tricked by Ganondorf, ...</td>\n",
       "      <td>99</td>\n",
       "      <td>9.1</td>\n",
       "    </tr>\n",
       "    <tr>\n",
       "      <th>1</th>\n",
       "      <td>Tony Hawk's Pro Skater 2</td>\n",
       "      <td>PlayStation</td>\n",
       "      <td>September 20, 2000</td>\n",
       "      <td>As most major publishers' development efforts ...</td>\n",
       "      <td>98</td>\n",
       "      <td>7.4</td>\n",
       "    </tr>\n",
       "    <tr>\n",
       "      <th>2</th>\n",
       "      <td>Grand Theft Auto IV</td>\n",
       "      <td>PlayStation 3</td>\n",
       "      <td>April 29, 2008</td>\n",
       "      <td>[Metacritic's 2008 PS3 Game of the Year; Also ...</td>\n",
       "      <td>98</td>\n",
       "      <td>7.7</td>\n",
       "    </tr>\n",
       "    <tr>\n",
       "      <th>3</th>\n",
       "      <td>SoulCalibur</td>\n",
       "      <td>Dreamcast</td>\n",
       "      <td>September 8, 1999</td>\n",
       "      <td>This is a tale of souls and swords, transcendi...</td>\n",
       "      <td>98</td>\n",
       "      <td>8.4</td>\n",
       "    </tr>\n",
       "    <tr>\n",
       "      <th>4</th>\n",
       "      <td>Grand Theft Auto IV</td>\n",
       "      <td>Xbox 360</td>\n",
       "      <td>April 29, 2008</td>\n",
       "      <td>[Metacritic's 2008 Xbox 360 Game of the Year; ...</td>\n",
       "      <td>98</td>\n",
       "      <td>7.9</td>\n",
       "    </tr>\n",
       "  </tbody>\n",
       "</table>\n",
       "</div>"
      ],
      "text/plain": [
       "                                   name        platform        release_date  \\\n",
       "0  The Legend of Zelda: Ocarina of Time     Nintendo 64   November 23, 1998   \n",
       "1              Tony Hawk's Pro Skater 2     PlayStation  September 20, 2000   \n",
       "2                   Grand Theft Auto IV   PlayStation 3      April 29, 2008   \n",
       "3                           SoulCalibur       Dreamcast   September 8, 1999   \n",
       "4                   Grand Theft Auto IV        Xbox 360      April 29, 2008   \n",
       "\n",
       "                                             summary  meta_score user_review  \n",
       "0  As a young boy, Link is tricked by Ganondorf, ...          99         9.1  \n",
       "1  As most major publishers' development efforts ...          98         7.4  \n",
       "2  [Metacritic's 2008 PS3 Game of the Year; Also ...          98         7.7  \n",
       "3  This is a tale of souls and swords, transcendi...          98         8.4  \n",
       "4  [Metacritic's 2008 Xbox 360 Game of the Year; ...          98         7.9  "
      ]
     },
     "metadata": {},
     "execution_count": 27
    }
   ],
   "metadata": {}
  },
  {
   "cell_type": "code",
   "execution_count": 28,
   "source": [
    "# Get the mean of the meta score. \r\n",
    "\r\n",
    "df['meta_score'].mean()"
   ],
   "outputs": [
    {
     "output_type": "execute_result",
     "data": {
      "text/plain": [
       "70.6488829787234"
      ]
     },
     "metadata": {},
     "execution_count": 28
    }
   ],
   "metadata": {}
  },
  {
   "cell_type": "code",
   "execution_count": 29,
   "source": [
    "# Get the median of the meta score. The value such that one-half of the data lies above and below.\r\n",
    "\r\n",
    "df['meta_score'].median()"
   ],
   "outputs": [
    {
     "output_type": "execute_result",
     "data": {
      "text/plain": [
       "72.0"
      ]
     },
     "metadata": {},
     "execution_count": 29
    }
   ],
   "metadata": {}
  },
  {
   "cell_type": "code",
   "execution_count": 30,
   "source": [
    "# Get the trimmed mean of the meta score. The average of all values after dropping a fixed \r\n",
    "# number of extreme values.\r\n",
    "\r\n",
    "stats.tmean(df['meta_score'])"
   ],
   "outputs": [
    {
     "output_type": "execute_result",
     "data": {
      "text/plain": [
       "70.6488829787234"
      ]
     },
     "metadata": {},
     "execution_count": 30
    }
   ],
   "metadata": {}
  },
  {
   "cell_type": "code",
   "execution_count": 31,
   "source": [
    "# Get the trimmed mean of the meta score. This function finds the miminum value of an \r\n",
    "# array a along the specified   axis, but only considering values greater than a specified lower limit.\r\n",
    "\r\n",
    "stats.tmin(df['meta_score'])"
   ],
   "outputs": [
    {
     "output_type": "execute_result",
     "data": {
      "text/plain": [
       "20"
      ]
     },
     "metadata": {},
     "execution_count": 31
    }
   ],
   "metadata": {}
  },
  {
   "cell_type": "code",
   "execution_count": 32,
   "source": [
    "# Get the trimmed mean of the meta score. This function computes the maximum value \r\n",
    "# of an array along a given axis, while ignoring values larger than a specified upper limit.\r\n",
    "\r\n",
    "stats.tmax(df['meta_score'])"
   ],
   "outputs": [
    {
     "output_type": "execute_result",
     "data": {
      "text/plain": [
       "99"
      ]
     },
     "metadata": {},
     "execution_count": 32
    }
   ],
   "metadata": {}
  },
  {
   "cell_type": "code",
   "execution_count": 34,
   "source": [
    "# Get the trimmed mean of the meta score. Return mean of array after trimming distribution \r\n",
    "# from both tails.\r\n",
    "\r\n",
    "stats.trim_mean(df['meta_score'], 0.1)"
   ],
   "outputs": [
    {
     "output_type": "execute_result",
     "data": {
      "text/plain": [
       "71.58869680851063"
      ]
     },
     "metadata": {},
     "execution_count": 34
    }
   ],
   "metadata": {}
  },
  {
   "cell_type": "code",
   "execution_count": 35,
   "source": [
    "# Get the weighted mean\r\n",
    "\r\n",
    "np.average(df['meta_score'], weights=df['meta_score'])"
   ],
   "outputs": [
    {
     "output_type": "execute_result",
     "data": {
      "text/plain": [
       "72.76417238681854"
      ]
     },
     "metadata": {},
     "execution_count": 35
    }
   ],
   "metadata": {}
  },
  {
   "cell_type": "code",
   "execution_count": 36,
   "source": [
    "df.head()"
   ],
   "outputs": [
    {
     "output_type": "execute_result",
     "data": {
      "text/html": [
       "<div>\n",
       "<style scoped>\n",
       "    .dataframe tbody tr th:only-of-type {\n",
       "        vertical-align: middle;\n",
       "    }\n",
       "\n",
       "    .dataframe tbody tr th {\n",
       "        vertical-align: top;\n",
       "    }\n",
       "\n",
       "    .dataframe thead th {\n",
       "        text-align: right;\n",
       "    }\n",
       "</style>\n",
       "<table border=\"1\" class=\"dataframe\">\n",
       "  <thead>\n",
       "    <tr style=\"text-align: right;\">\n",
       "      <th></th>\n",
       "      <th>name</th>\n",
       "      <th>platform</th>\n",
       "      <th>release_date</th>\n",
       "      <th>summary</th>\n",
       "      <th>meta_score</th>\n",
       "      <th>user_review</th>\n",
       "    </tr>\n",
       "  </thead>\n",
       "  <tbody>\n",
       "    <tr>\n",
       "      <th>0</th>\n",
       "      <td>The Legend of Zelda: Ocarina of Time</td>\n",
       "      <td>Nintendo 64</td>\n",
       "      <td>November 23, 1998</td>\n",
       "      <td>As a young boy, Link is tricked by Ganondorf, ...</td>\n",
       "      <td>99</td>\n",
       "      <td>9.1</td>\n",
       "    </tr>\n",
       "    <tr>\n",
       "      <th>1</th>\n",
       "      <td>Tony Hawk's Pro Skater 2</td>\n",
       "      <td>PlayStation</td>\n",
       "      <td>September 20, 2000</td>\n",
       "      <td>As most major publishers' development efforts ...</td>\n",
       "      <td>98</td>\n",
       "      <td>7.4</td>\n",
       "    </tr>\n",
       "    <tr>\n",
       "      <th>2</th>\n",
       "      <td>Grand Theft Auto IV</td>\n",
       "      <td>PlayStation 3</td>\n",
       "      <td>April 29, 2008</td>\n",
       "      <td>[Metacritic's 2008 PS3 Game of the Year; Also ...</td>\n",
       "      <td>98</td>\n",
       "      <td>7.7</td>\n",
       "    </tr>\n",
       "    <tr>\n",
       "      <th>3</th>\n",
       "      <td>SoulCalibur</td>\n",
       "      <td>Dreamcast</td>\n",
       "      <td>September 8, 1999</td>\n",
       "      <td>This is a tale of souls and swords, transcendi...</td>\n",
       "      <td>98</td>\n",
       "      <td>8.4</td>\n",
       "    </tr>\n",
       "    <tr>\n",
       "      <th>4</th>\n",
       "      <td>Grand Theft Auto IV</td>\n",
       "      <td>Xbox 360</td>\n",
       "      <td>April 29, 2008</td>\n",
       "      <td>[Metacritic's 2008 Xbox 360 Game of the Year; ...</td>\n",
       "      <td>98</td>\n",
       "      <td>7.9</td>\n",
       "    </tr>\n",
       "  </tbody>\n",
       "</table>\n",
       "</div>"
      ],
      "text/plain": [
       "                                   name        platform        release_date  \\\n",
       "0  The Legend of Zelda: Ocarina of Time     Nintendo 64   November 23, 1998   \n",
       "1              Tony Hawk's Pro Skater 2     PlayStation  September 20, 2000   \n",
       "2                   Grand Theft Auto IV   PlayStation 3      April 29, 2008   \n",
       "3                           SoulCalibur       Dreamcast   September 8, 1999   \n",
       "4                   Grand Theft Auto IV        Xbox 360      April 29, 2008   \n",
       "\n",
       "                                             summary  meta_score user_review  \n",
       "0  As a young boy, Link is tricked by Ganondorf, ...          99         9.1  \n",
       "1  As most major publishers' development efforts ...          98         7.4  \n",
       "2  [Metacritic's 2008 PS3 Game of the Year; Also ...          98         7.7  \n",
       "3  This is a tale of souls and swords, transcendi...          98         8.4  \n",
       "4  [Metacritic's 2008 Xbox 360 Game of the Year; ...          98         7.9  "
      ]
     },
     "metadata": {},
     "execution_count": 36
    }
   ],
   "metadata": {}
  },
  {
   "cell_type": "code",
   "execution_count": 41,
   "source": [
    "# Get the weighted mean of user review.\r\n",
    "\r\n",
    "type(df['user_review'])\r\n"
   ],
   "outputs": [
    {
     "output_type": "execute_result",
     "data": {
      "text/plain": [
       "pandas.core.series.Series"
      ]
     },
     "metadata": {},
     "execution_count": 41
    }
   ],
   "metadata": {}
  },
  {
   "cell_type": "code",
   "execution_count": 42,
   "source": [
    "df.info('user_review')"
   ],
   "outputs": [
    {
     "output_type": "stream",
     "name": "stdout",
     "text": [
      "<class 'pandas.core.frame.DataFrame'>\n",
      "RangeIndex: 18800 entries, 0 to 18799\n",
      "Data columns (total 6 columns):\n",
      " #   Column        Non-Null Count  Dtype \n",
      "---  ------        --------------  ----- \n",
      " 0   name          18800 non-null  object\n",
      " 1   platform      18800 non-null  object\n",
      " 2   release_date  18800 non-null  object\n",
      " 3   summary       18686 non-null  object\n",
      " 4   meta_score    18800 non-null  int64 \n",
      " 5   user_review   18800 non-null  object\n",
      "dtypes: int64(1), object(5)\n",
      "memory usage: 881.4+ KB\n"
     ]
    }
   ],
   "metadata": {}
  },
  {
   "cell_type": "code",
   "execution_count": 43,
   "source": [
    "# Get the standard deviation\r\n",
    "\r\n",
    "df['meta_score'].std()"
   ],
   "outputs": [
    {
     "output_type": "execute_result",
     "data": {
      "text/plain": [
       "12.22500647723351"
      ]
     },
     "metadata": {},
     "execution_count": 43
    }
   ],
   "metadata": {}
  },
  {
   "cell_type": "code",
   "execution_count": 44,
   "source": [
    "df['meta_score'].quantile([0.05, .25, .5, .75, .95])"
   ],
   "outputs": [
    {
     "output_type": "execute_result",
     "data": {
      "text/plain": [
       "0.05    47.0\n",
       "0.25    64.0\n",
       "0.50    72.0\n",
       "0.75    80.0\n",
       "0.95    88.0\n",
       "Name: meta_score, dtype: float64"
      ]
     },
     "metadata": {},
     "execution_count": 44
    }
   ],
   "metadata": {}
  },
  {
   "cell_type": "code",
   "execution_count": 48,
   "source": [
    "df['meta_score'].plot.box()"
   ],
   "outputs": [
    {
     "output_type": "execute_result",
     "data": {
      "text/plain": [
       "<AxesSubplot:>"
      ]
     },
     "metadata": {},
     "execution_count": 48
    },
    {
     "output_type": "display_data",
     "data": {
      "image/png": "[encoded data removed]",
      "image/svg+xml": "<?xml version=\"1.0\" encoding=\"utf-8\" standalone=\"no\"?>\r\n<!DOCTYPE svg PUBLIC \"-//W3C//DTD SVG 1.1//EN\"\r\n  \"http://www.w3.org/Graphics/SVG/1.1/DTD/svg11.dtd\">\r\n<svg height=\"248.518125pt\" version=\"1.1\" viewBox=\"0 0 375.2875 248.518125\" width=\"375.2875pt\" xmlns=\"http://www.w3.org/2000/svg\" xmlns:xlink=\"http://www.w3.org/1999/xlink\">\r\n <metadata>\r\n  <rdf:RDF xmlns:cc=\"http://creativecommons.org/ns#\" xmlns:dc=\"http://purl.org/dc/elements/1.1/\" xmlns:rdf=\"http://www.w3.org/1999/02/22-rdf-syntax-ns#\">\r\n   <cc:Work>\r\n    <dc:type rdf:resource=\"http://purl.org/dc/dcmitype/StillImage\"/>\r\n    <dc:date>2021-10-27T22:46:41.080947</dc:date>\r\n    <dc:format>image/svg+xml</dc:format>\r\n    <dc:creator>\r\n     <cc:Agent>\r\n      <dc:title>Matplotlib v3.4.2, https://matplotlib.org/</dc:title>\r\n     </cc:Agent>\r\n    </dc:creator>\r\n   </cc:Work>\r\n  </rdf:RDF>\r\n </metadata>\r\n <defs>\r\n  <style type=\"text/css\">*{stroke-linecap:butt;stroke-linejoin:round;}</style>\r\n </defs>\r\n <g id=\"figure_1\">\r\n  <g id=\"patch_1\">\r\n   <path d=\"M 0 248.518125 \r\nL 375.2875 248.518125 \r\nL 375.2875 0 \r\nL 0 0 \r\nz\r\n\"/>\r\n  </g>\r\n  <g id=\"axes_1\">\r\n   <g id=\"patch_2\">\r\n    <path d=\"M 33.2875 224.64 \r\nL 368.0875 224.64 \r\nL 368.0875 7.2 \r\nL 33.2875 7.2 \r\nz\r\n\"/>\r\n   </g>\r\n   <g id=\"matplotlib.axis_1\">\r\n    <g id=\"xtick_1\">\r\n     <g id=\"line2d_1\">\r\n      <defs>\r\n       <path d=\"M 0 0 \r\nL 0 3.5 \r\n\" id=\"m6015b634db\" style=\"stroke:#ffffff;stroke-width:0.8;\"/>\r\n      </defs>\r\n      <g>\r\n       <use style=\"fill:#ffffff;stroke:#ffffff;stroke-width:0.8;\" x=\"200.6875\" xlink:href=\"#m6015b634db\" y=\"224.64\"/>\r\n      </g>\r\n     </g>\r\n     <g id=\"text_1\">\r\n      <!-- meta_score -->\r\n      <g style=\"fill:#ffffff;\" transform=\"translate(171.783594 238.960312)scale(0.1 -0.1)\">\r\n       <defs>\r\n        <path d=\"M 3328 2828 \r\nQ 3544 3216 3844 3400 \r\nQ 4144 3584 4550 3584 \r\nQ 5097 3584 5394 3201 \r\nQ 5691 2819 5691 2113 \r\nL 5691 0 \r\nL 5113 0 \r\nL 5113 2094 \r\nQ 5113 2597 4934 2840 \r\nQ 4756 3084 4391 3084 \r\nQ 3944 3084 3684 2787 \r\nQ 3425 2491 3425 1978 \r\nL 3425 0 \r\nL 2847 0 \r\nL 2847 2094 \r\nQ 2847 2600 2669 2842 \r\nQ 2491 3084 2119 3084 \r\nQ 1678 3084 1418 2786 \r\nQ 1159 2488 1159 1978 \r\nL 1159 0 \r\nL 581 0 \r\nL 581 3500 \r\nL 1159 3500 \r\nL 1159 2956 \r\nQ 1356 3278 1631 3431 \r\nQ 1906 3584 2284 3584 \r\nQ 2666 3584 2933 3390 \r\nQ 3200 3197 3328 2828 \r\nz\r\n\" id=\"DejaVuSans-6d\" transform=\"scale(0.015625)\"/>\r\n        <path d=\"M 3597 1894 \r\nL 3597 1613 \r\nL 953 1613 \r\nQ 991 1019 1311 708 \r\nQ 1631 397 2203 397 \r\nQ 2534 397 2845 478 \r\nQ 3156 559 3463 722 \r\nL 3463 178 \r\nQ 3153 47 2828 -22 \r\nQ 2503 -91 2169 -91 \r\nQ 1331 -91 842 396 \r\nQ 353 884 353 1716 \r\nQ 353 2575 817 3079 \r\nQ 1281 3584 2069 3584 \r\nQ 2775 3584 3186 3129 \r\nQ 3597 2675 3597 1894 \r\nz\r\nM 3022 2063 \r\nQ 3016 2534 2758 2815 \r\nQ 2500 3097 2075 3097 \r\nQ 1594 3097 1305 2825 \r\nQ 1016 2553 972 2059 \r\nL 3022 2063 \r\nz\r\n\" id=\"DejaVuSans-65\" transform=\"scale(0.015625)\"/>\r\n        <path d=\"M 1172 4494 \r\nL 1172 3500 \r\nL 2356 3500 \r\nL 2356 3053 \r\nL 1172 3053 \r\nL 1172 1153 \r\nQ 1172 725 1289 603 \r\nQ 1406 481 1766 481 \r\nL 2356 481 \r\nL 2356 0 \r\nL 1766 0 \r\nQ 1100 0 847 248 \r\nQ 594 497 594 1153 \r\nL 594 3053 \r\nL 172 3053 \r\nL 172 3500 \r\nL 594 3500 \r\nL 594 4494 \r\nL 1172 4494 \r\nz\r\n\" id=\"DejaVuSans-74\" transform=\"scale(0.015625)\"/>\r\n        <path d=\"M 2194 1759 \r\nQ 1497 1759 1228 1600 \r\nQ 959 1441 959 1056 \r\nQ 959 750 1161 570 \r\nQ 1363 391 1709 391 \r\nQ 2188 391 2477 730 \r\nQ 2766 1069 2766 1631 \r\nL 2766 1759 \r\nL 2194 1759 \r\nz\r\nM 3341 1997 \r\nL 3341 0 \r\nL 2766 0 \r\nL 2766 531 \r\nQ 2569 213 2275 61 \r\nQ 1981 -91 1556 -91 \r\nQ 1019 -91 701 211 \r\nQ 384 513 384 1019 \r\nQ 384 1609 779 1909 \r\nQ 1175 2209 1959 2209 \r\nL 2766 2209 \r\nL 2766 2266 \r\nQ 2766 2663 2505 2880 \r\nQ 2244 3097 1772 3097 \r\nQ 1472 3097 1187 3025 \r\nQ 903 2953 641 2809 \r\nL 641 3341 \r\nQ 956 3463 1253 3523 \r\nQ 1550 3584 1831 3584 \r\nQ 2591 3584 2966 3190 \r\nQ 3341 2797 3341 1997 \r\nz\r\n\" id=\"DejaVuSans-61\" transform=\"scale(0.015625)\"/>\r\n        <path d=\"M 3263 -1063 \r\nL 3263 -1509 \r\nL -63 -1509 \r\nL -63 -1063 \r\nL 3263 -1063 \r\nz\r\n\" id=\"DejaVuSans-5f\" transform=\"scale(0.015625)\"/>\r\n        <path d=\"M 2834 3397 \r\nL 2834 2853 \r\nQ 2591 2978 2328 3040 \r\nQ 2066 3103 1784 3103 \r\nQ 1356 3103 1142 2972 \r\nQ 928 2841 928 2578 \r\nQ 928 2378 1081 2264 \r\nQ 1234 2150 1697 2047 \r\nL 1894 2003 \r\nQ 2506 1872 2764 1633 \r\nQ 3022 1394 3022 966 \r\nQ 3022 478 2636 193 \r\nQ 2250 -91 1575 -91 \r\nQ 1294 -91 989 -36 \r\nQ 684 19 347 128 \r\nL 347 722 \r\nQ 666 556 975 473 \r\nQ 1284 391 1588 391 \r\nQ 1994 391 2212 530 \r\nQ 2431 669 2431 922 \r\nQ 2431 1156 2273 1281 \r\nQ 2116 1406 1581 1522 \r\nL 1381 1569 \r\nQ 847 1681 609 1914 \r\nQ 372 2147 372 2553 \r\nQ 372 3047 722 3315 \r\nQ 1072 3584 1716 3584 \r\nQ 2034 3584 2315 3537 \r\nQ 2597 3491 2834 3397 \r\nz\r\n\" id=\"DejaVuSans-73\" transform=\"scale(0.015625)\"/>\r\n        <path d=\"M 3122 3366 \r\nL 3122 2828 \r\nQ 2878 2963 2633 3030 \r\nQ 2388 3097 2138 3097 \r\nQ 1578 3097 1268 2742 \r\nQ 959 2388 959 1747 \r\nQ 959 1106 1268 751 \r\nQ 1578 397 2138 397 \r\nQ 2388 397 2633 464 \r\nQ 2878 531 3122 666 \r\nL 3122 134 \r\nQ 2881 22 2623 -34 \r\nQ 2366 -91 2075 -91 \r\nQ 1284 -91 818 406 \r\nQ 353 903 353 1747 \r\nQ 353 2603 823 3093 \r\nQ 1294 3584 2113 3584 \r\nQ 2378 3584 2631 3529 \r\nQ 2884 3475 3122 3366 \r\nz\r\n\" id=\"DejaVuSans-63\" transform=\"scale(0.015625)\"/>\r\n        <path d=\"M 1959 3097 \r\nQ 1497 3097 1228 2736 \r\nQ 959 2375 959 1747 \r\nQ 959 1119 1226 758 \r\nQ 1494 397 1959 397 \r\nQ 2419 397 2687 759 \r\nQ 2956 1122 2956 1747 \r\nQ 2956 2369 2687 2733 \r\nQ 2419 3097 1959 3097 \r\nz\r\nM 1959 3584 \r\nQ 2709 3584 3137 3096 \r\nQ 3566 2609 3566 1747 \r\nQ 3566 888 3137 398 \r\nQ 2709 -91 1959 -91 \r\nQ 1206 -91 779 398 \r\nQ 353 888 353 1747 \r\nQ 353 2609 779 3096 \r\nQ 1206 3584 1959 3584 \r\nz\r\n\" id=\"DejaVuSans-6f\" transform=\"scale(0.015625)\"/>\r\n        <path d=\"M 2631 2963 \r\nQ 2534 3019 2420 3045 \r\nQ 2306 3072 2169 3072 \r\nQ 1681 3072 1420 2755 \r\nQ 1159 2438 1159 1844 \r\nL 1159 0 \r\nL 581 0 \r\nL 581 3500 \r\nL 1159 3500 \r\nL 1159 2956 \r\nQ 1341 3275 1631 3429 \r\nQ 1922 3584 2338 3584 \r\nQ 2397 3584 2469 3576 \r\nQ 2541 3569 2628 3553 \r\nL 2631 2963 \r\nz\r\n\" id=\"DejaVuSans-72\" transform=\"scale(0.015625)\"/>\r\n       </defs>\r\n       <use xlink:href=\"#DejaVuSans-6d\"/>\r\n       <use x=\"97.412109\" xlink:href=\"#DejaVuSans-65\"/>\r\n       <use x=\"158.935547\" xlink:href=\"#DejaVuSans-74\"/>\r\n       <use x=\"198.144531\" xlink:href=\"#DejaVuSans-61\"/>\r\n       <use x=\"259.423828\" xlink:href=\"#DejaVuSans-5f\"/>\r\n       <use x=\"309.423828\" xlink:href=\"#DejaVuSans-73\"/>\r\n       <use x=\"361.523438\" xlink:href=\"#DejaVuSans-63\"/>\r\n       <use x=\"416.503906\" xlink:href=\"#DejaVuSans-6f\"/>\r\n       <use x=\"477.685547\" xlink:href=\"#DejaVuSans-72\"/>\r\n       <use x=\"516.548828\" xlink:href=\"#DejaVuSans-65\"/>\r\n      </g>\r\n     </g>\r\n    </g>\r\n   </g>\r\n   <g id=\"matplotlib.axis_2\">\r\n    <g id=\"ytick_1\">\r\n     <g id=\"line2d_2\">\r\n      <defs>\r\n       <path d=\"M 0 0 \r\nL -3.5 0 \r\n\" id=\"m33f16d6c03\" style=\"stroke:#ffffff;stroke-width:0.8;\"/>\r\n      </defs>\r\n      <g>\r\n       <use style=\"fill:#ffffff;stroke:#ffffff;stroke-width:0.8;\" x=\"33.2875\" xlink:href=\"#m33f16d6c03\" y=\"214.756364\"/>\r\n      </g>\r\n     </g>\r\n     <g id=\"text_2\">\r\n      <!-- 20 -->\r\n      <g style=\"fill:#ffffff;\" transform=\"translate(13.5625 218.555582)scale(0.1 -0.1)\">\r\n       <defs>\r\n        <path d=\"M 1228 531 \r\nL 3431 531 \r\nL 3431 0 \r\nL 469 0 \r\nL 469 531 \r\nQ 828 903 1448 1529 \r\nQ 2069 2156 2228 2338 \r\nQ 2531 2678 2651 2914 \r\nQ 2772 3150 2772 3378 \r\nQ 2772 3750 2511 3984 \r\nQ 2250 4219 1831 4219 \r\nQ 1534 4219 1204 4116 \r\nQ 875 4013 500 3803 \r\nL 500 4441 \r\nQ 881 4594 1212 4672 \r\nQ 1544 4750 1819 4750 \r\nQ 2544 4750 2975 4387 \r\nQ 3406 4025 3406 3419 \r\nQ 3406 3131 3298 2873 \r\nQ 3191 2616 2906 2266 \r\nQ 2828 2175 2409 1742 \r\nQ 1991 1309 1228 531 \r\nz\r\n\" id=\"DejaVuSans-32\" transform=\"scale(0.015625)\"/>\r\n        <path d=\"M 2034 4250 \r\nQ 1547 4250 1301 3770 \r\nQ 1056 3291 1056 2328 \r\nQ 1056 1369 1301 889 \r\nQ 1547 409 2034 409 \r\nQ 2525 409 2770 889 \r\nQ 3016 1369 3016 2328 \r\nQ 3016 3291 2770 3770 \r\nQ 2525 4250 2034 4250 \r\nz\r\nM 2034 4750 \r\nQ 2819 4750 3233 4129 \r\nQ 3647 3509 3647 2328 \r\nQ 3647 1150 3233 529 \r\nQ 2819 -91 2034 -91 \r\nQ 1250 -91 836 529 \r\nQ 422 1150 422 2328 \r\nQ 422 3509 836 4129 \r\nQ 1250 4750 2034 4750 \r\nz\r\n\" id=\"DejaVuSans-30\" transform=\"scale(0.015625)\"/>\r\n       </defs>\r\n       <use xlink:href=\"#DejaVuSans-32\"/>\r\n       <use x=\"63.623047\" xlink:href=\"#DejaVuSans-30\"/>\r\n      </g>\r\n     </g>\r\n    </g>\r\n    <g id=\"ytick_2\">\r\n     <g id=\"line2d_3\">\r\n      <g>\r\n       <use style=\"fill:#ffffff;stroke:#ffffff;stroke-width:0.8;\" x=\"33.2875\" xlink:href=\"#m33f16d6c03\" y=\"189.734499\"/>\r\n      </g>\r\n     </g>\r\n     <g id=\"text_3\">\r\n      <!-- 30 -->\r\n      <g style=\"fill:#ffffff;\" transform=\"translate(13.5625 193.533718)scale(0.1 -0.1)\">\r\n       <defs>\r\n        <path d=\"M 2597 2516 \r\nQ 3050 2419 3304 2112 \r\nQ 3559 1806 3559 1356 \r\nQ 3559 666 3084 287 \r\nQ 2609 -91 1734 -91 \r\nQ 1441 -91 1130 -33 \r\nQ 819 25 488 141 \r\nL 488 750 \r\nQ 750 597 1062 519 \r\nQ 1375 441 1716 441 \r\nQ 2309 441 2620 675 \r\nQ 2931 909 2931 1356 \r\nQ 2931 1769 2642 2001 \r\nQ 2353 2234 1838 2234 \r\nL 1294 2234 \r\nL 1294 2753 \r\nL 1863 2753 \r\nQ 2328 2753 2575 2939 \r\nQ 2822 3125 2822 3475 \r\nQ 2822 3834 2567 4026 \r\nQ 2313 4219 1838 4219 \r\nQ 1578 4219 1281 4162 \r\nQ 984 4106 628 3988 \r\nL 628 4550 \r\nQ 988 4650 1302 4700 \r\nQ 1616 4750 1894 4750 \r\nQ 2613 4750 3031 4423 \r\nQ 3450 4097 3450 3541 \r\nQ 3450 3153 3228 2886 \r\nQ 3006 2619 2597 2516 \r\nz\r\n\" id=\"DejaVuSans-33\" transform=\"scale(0.015625)\"/>\r\n       </defs>\r\n       <use xlink:href=\"#DejaVuSans-33\"/>\r\n       <use x=\"63.623047\" xlink:href=\"#DejaVuSans-30\"/>\r\n      </g>\r\n     </g>\r\n    </g>\r\n    <g id=\"ytick_3\">\r\n     <g id=\"line2d_4\">\r\n      <g>\r\n       <use style=\"fill:#ffffff;stroke:#ffffff;stroke-width:0.8;\" x=\"33.2875\" xlink:href=\"#m33f16d6c03\" y=\"164.712635\"/>\r\n      </g>\r\n     </g>\r\n     <g id=\"text_4\">\r\n      <!-- 40 -->\r\n      <g style=\"fill:#ffffff;\" transform=\"translate(13.5625 168.511854)scale(0.1 -0.1)\">\r\n       <defs>\r\n        <path d=\"M 2419 4116 \r\nL 825 1625 \r\nL 2419 1625 \r\nL 2419 4116 \r\nz\r\nM 2253 4666 \r\nL 3047 4666 \r\nL 3047 1625 \r\nL 3713 1625 \r\nL 3713 1100 \r\nL 3047 1100 \r\nL 3047 0 \r\nL 2419 0 \r\nL 2419 1100 \r\nL 313 1100 \r\nL 313 1709 \r\nL 2253 4666 \r\nz\r\n\" id=\"DejaVuSans-34\" transform=\"scale(0.015625)\"/>\r\n       </defs>\r\n       <use xlink:href=\"#DejaVuSans-34\"/>\r\n       <use x=\"63.623047\" xlink:href=\"#DejaVuSans-30\"/>\r\n      </g>\r\n     </g>\r\n    </g>\r\n    <g id=\"ytick_4\">\r\n     <g id=\"line2d_5\">\r\n      <g>\r\n       <use style=\"fill:#ffffff;stroke:#ffffff;stroke-width:0.8;\" x=\"33.2875\" xlink:href=\"#m33f16d6c03\" y=\"139.690771\"/>\r\n      </g>\r\n     </g>\r\n     <g id=\"text_5\">\r\n      <!-- 50 -->\r\n      <g style=\"fill:#ffffff;\" transform=\"translate(13.5625 143.48999)scale(0.1 -0.1)\">\r\n       <defs>\r\n        <path d=\"M 691 4666 \r\nL 3169 4666 \r\nL 3169 4134 \r\nL 1269 4134 \r\nL 1269 2991 \r\nQ 1406 3038 1543 3061 \r\nQ 1681 3084 1819 3084 \r\nQ 2600 3084 3056 2656 \r\nQ 3513 2228 3513 1497 \r\nQ 3513 744 3044 326 \r\nQ 2575 -91 1722 -91 \r\nQ 1428 -91 1123 -41 \r\nQ 819 9 494 109 \r\nL 494 744 \r\nQ 775 591 1075 516 \r\nQ 1375 441 1709 441 \r\nQ 2250 441 2565 725 \r\nQ 2881 1009 2881 1497 \r\nQ 2881 1984 2565 2268 \r\nQ 2250 2553 1709 2553 \r\nQ 1456 2553 1204 2497 \r\nQ 953 2441 691 2322 \r\nL 691 4666 \r\nz\r\n\" id=\"DejaVuSans-35\" transform=\"scale(0.015625)\"/>\r\n       </defs>\r\n       <use xlink:href=\"#DejaVuSans-35\"/>\r\n       <use x=\"63.623047\" xlink:href=\"#DejaVuSans-30\"/>\r\n      </g>\r\n     </g>\r\n    </g>\r\n    <g id=\"ytick_5\">\r\n     <g id=\"line2d_6\">\r\n      <g>\r\n       <use style=\"fill:#ffffff;stroke:#ffffff;stroke-width:0.8;\" x=\"33.2875\" xlink:href=\"#m33f16d6c03\" y=\"114.668907\"/>\r\n      </g>\r\n     </g>\r\n     <g id=\"text_6\">\r\n      <!-- 60 -->\r\n      <g style=\"fill:#ffffff;\" transform=\"translate(13.5625 118.468126)scale(0.1 -0.1)\">\r\n       <defs>\r\n        <path d=\"M 2113 2584 \r\nQ 1688 2584 1439 2293 \r\nQ 1191 2003 1191 1497 \r\nQ 1191 994 1439 701 \r\nQ 1688 409 2113 409 \r\nQ 2538 409 2786 701 \r\nQ 3034 994 3034 1497 \r\nQ 3034 2003 2786 2293 \r\nQ 2538 2584 2113 2584 \r\nz\r\nM 3366 4563 \r\nL 3366 3988 \r\nQ 3128 4100 2886 4159 \r\nQ 2644 4219 2406 4219 \r\nQ 1781 4219 1451 3797 \r\nQ 1122 3375 1075 2522 \r\nQ 1259 2794 1537 2939 \r\nQ 1816 3084 2150 3084 \r\nQ 2853 3084 3261 2657 \r\nQ 3669 2231 3669 1497 \r\nQ 3669 778 3244 343 \r\nQ 2819 -91 2113 -91 \r\nQ 1303 -91 875 529 \r\nQ 447 1150 447 2328 \r\nQ 447 3434 972 4092 \r\nQ 1497 4750 2381 4750 \r\nQ 2619 4750 2861 4703 \r\nQ 3103 4656 3366 4563 \r\nz\r\n\" id=\"DejaVuSans-36\" transform=\"scale(0.015625)\"/>\r\n       </defs>\r\n       <use xlink:href=\"#DejaVuSans-36\"/>\r\n       <use x=\"63.623047\" xlink:href=\"#DejaVuSans-30\"/>\r\n      </g>\r\n     </g>\r\n    </g>\r\n    <g id=\"ytick_6\">\r\n     <g id=\"line2d_7\">\r\n      <g>\r\n       <use style=\"fill:#ffffff;stroke:#ffffff;stroke-width:0.8;\" x=\"33.2875\" xlink:href=\"#m33f16d6c03\" y=\"89.647043\"/>\r\n      </g>\r\n     </g>\r\n     <g id=\"text_7\">\r\n      <!-- 70 -->\r\n      <g style=\"fill:#ffffff;\" transform=\"translate(13.5625 93.446261)scale(0.1 -0.1)\">\r\n       <defs>\r\n        <path d=\"M 525 4666 \r\nL 3525 4666 \r\nL 3525 4397 \r\nL 1831 0 \r\nL 1172 0 \r\nL 2766 4134 \r\nL 525 4134 \r\nL 525 4666 \r\nz\r\n\" id=\"DejaVuSans-37\" transform=\"scale(0.015625)\"/>\r\n       </defs>\r\n       <use xlink:href=\"#DejaVuSans-37\"/>\r\n       <use x=\"63.623047\" xlink:href=\"#DejaVuSans-30\"/>\r\n      </g>\r\n     </g>\r\n    </g>\r\n    <g id=\"ytick_7\">\r\n     <g id=\"line2d_8\">\r\n      <g>\r\n       <use style=\"fill:#ffffff;stroke:#ffffff;stroke-width:0.8;\" x=\"33.2875\" xlink:href=\"#m33f16d6c03\" y=\"64.625178\"/>\r\n      </g>\r\n     </g>\r\n     <g id=\"text_8\">\r\n      <!-- 80 -->\r\n      <g style=\"fill:#ffffff;\" transform=\"translate(13.5625 68.424397)scale(0.1 -0.1)\">\r\n       <defs>\r\n        <path d=\"M 2034 2216 \r\nQ 1584 2216 1326 1975 \r\nQ 1069 1734 1069 1313 \r\nQ 1069 891 1326 650 \r\nQ 1584 409 2034 409 \r\nQ 2484 409 2743 651 \r\nQ 3003 894 3003 1313 \r\nQ 3003 1734 2745 1975 \r\nQ 2488 2216 2034 2216 \r\nz\r\nM 1403 2484 \r\nQ 997 2584 770 2862 \r\nQ 544 3141 544 3541 \r\nQ 544 4100 942 4425 \r\nQ 1341 4750 2034 4750 \r\nQ 2731 4750 3128 4425 \r\nQ 3525 4100 3525 3541 \r\nQ 3525 3141 3298 2862 \r\nQ 3072 2584 2669 2484 \r\nQ 3125 2378 3379 2068 \r\nQ 3634 1759 3634 1313 \r\nQ 3634 634 3220 271 \r\nQ 2806 -91 2034 -91 \r\nQ 1263 -91 848 271 \r\nQ 434 634 434 1313 \r\nQ 434 1759 690 2068 \r\nQ 947 2378 1403 2484 \r\nz\r\nM 1172 3481 \r\nQ 1172 3119 1398 2916 \r\nQ 1625 2713 2034 2713 \r\nQ 2441 2713 2670 2916 \r\nQ 2900 3119 2900 3481 \r\nQ 2900 3844 2670 4047 \r\nQ 2441 4250 2034 4250 \r\nQ 1625 4250 1398 4047 \r\nQ 1172 3844 1172 3481 \r\nz\r\n\" id=\"DejaVuSans-38\" transform=\"scale(0.015625)\"/>\r\n       </defs>\r\n       <use xlink:href=\"#DejaVuSans-38\"/>\r\n       <use x=\"63.623047\" xlink:href=\"#DejaVuSans-30\"/>\r\n      </g>\r\n     </g>\r\n    </g>\r\n    <g id=\"ytick_8\">\r\n     <g id=\"line2d_9\">\r\n      <g>\r\n       <use style=\"fill:#ffffff;stroke:#ffffff;stroke-width:0.8;\" x=\"33.2875\" xlink:href=\"#m33f16d6c03\" y=\"39.603314\"/>\r\n      </g>\r\n     </g>\r\n     <g id=\"text_9\">\r\n      <!-- 90 -->\r\n      <g style=\"fill:#ffffff;\" transform=\"translate(13.5625 43.402533)scale(0.1 -0.1)\">\r\n       <defs>\r\n        <path d=\"M 703 97 \r\nL 703 672 \r\nQ 941 559 1184 500 \r\nQ 1428 441 1663 441 \r\nQ 2288 441 2617 861 \r\nQ 2947 1281 2994 2138 \r\nQ 2813 1869 2534 1725 \r\nQ 2256 1581 1919 1581 \r\nQ 1219 1581 811 2004 \r\nQ 403 2428 403 3163 \r\nQ 403 3881 828 4315 \r\nQ 1253 4750 1959 4750 \r\nQ 2769 4750 3195 4129 \r\nQ 3622 3509 3622 2328 \r\nQ 3622 1225 3098 567 \r\nQ 2575 -91 1691 -91 \r\nQ 1453 -91 1209 -44 \r\nQ 966 3 703 97 \r\nz\r\nM 1959 2075 \r\nQ 2384 2075 2632 2365 \r\nQ 2881 2656 2881 3163 \r\nQ 2881 3666 2632 3958 \r\nQ 2384 4250 1959 4250 \r\nQ 1534 4250 1286 3958 \r\nQ 1038 3666 1038 3163 \r\nQ 1038 2656 1286 2365 \r\nQ 1534 2075 1959 2075 \r\nz\r\n\" id=\"DejaVuSans-39\" transform=\"scale(0.015625)\"/>\r\n       </defs>\r\n       <use xlink:href=\"#DejaVuSans-39\"/>\r\n       <use x=\"63.623047\" xlink:href=\"#DejaVuSans-30\"/>\r\n      </g>\r\n     </g>\r\n    </g>\r\n    <g id=\"ytick_9\">\r\n     <g id=\"line2d_10\">\r\n      <g>\r\n       <use style=\"fill:#ffffff;stroke:#ffffff;stroke-width:0.8;\" x=\"33.2875\" xlink:href=\"#m33f16d6c03\" y=\"14.58145\"/>\r\n      </g>\r\n     </g>\r\n     <g id=\"text_10\">\r\n      <!-- 100 -->\r\n      <g style=\"fill:#ffffff;\" transform=\"translate(7.2 18.380669)scale(0.1 -0.1)\">\r\n       <defs>\r\n        <path d=\"M 794 531 \r\nL 1825 531 \r\nL 1825 4091 \r\nL 703 3866 \r\nL 703 4441 \r\nL 1819 4666 \r\nL 2450 4666 \r\nL 2450 531 \r\nL 3481 531 \r\nL 3481 0 \r\nL 794 0 \r\nL 794 531 \r\nz\r\n\" id=\"DejaVuSans-31\" transform=\"scale(0.015625)\"/>\r\n       </defs>\r\n       <use xlink:href=\"#DejaVuSans-31\"/>\r\n       <use x=\"63.623047\" xlink:href=\"#DejaVuSans-30\"/>\r\n       <use x=\"127.246094\" xlink:href=\"#DejaVuSans-30\"/>\r\n      </g>\r\n     </g>\r\n    </g>\r\n   </g>\r\n   <g id=\"line2d_11\">\r\n    <path clip-path=\"url(#pd4485c007c)\" d=\"M 175.5775 104.660161 \r\nL 225.7975 104.660161 \r\nL 225.7975 64.625178 \r\nL 175.5775 64.625178 \r\nL 175.5775 104.660161 \r\n\" style=\"fill:none;stroke:#8dd3c7;stroke-linecap:square;\"/>\r\n   </g>\r\n   <g id=\"line2d_12\">\r\n    <path clip-path=\"url(#pd4485c007c)\" d=\"M 200.6875 104.660161 \r\nL 200.6875 164.712635 \r\n\" style=\"fill:none;stroke:#8dd3c7;stroke-linecap:square;\"/>\r\n   </g>\r\n   <g id=\"line2d_13\">\r\n    <path clip-path=\"url(#pd4485c007c)\" d=\"M 200.6875 64.625178 \r\nL 200.6875 17.083636 \r\n\" style=\"fill:none;stroke:#8dd3c7;stroke-linecap:square;\"/>\r\n   </g>\r\n   <g id=\"line2d_14\">\r\n    <path clip-path=\"url(#pd4485c007c)\" d=\"M 188.1325 164.712635 \r\nL 213.2425 164.712635 \r\n\" style=\"fill:none;stroke:#8dd3c7;stroke-linecap:square;\"/>\r\n   </g>\r\n   <g id=\"line2d_15\">\r\n    <path clip-path=\"url(#pd4485c007c)\" d=\"M 188.1325 17.083636 \r\nL 213.2425 17.083636 \r\n\" style=\"fill:none;stroke:#8dd3c7;stroke-linecap:square;\"/>\r\n   </g>\r\n   <g id=\"line2d_16\">\r\n    <defs>\r\n     <path d=\"M 0 3 \r\nC 0.795609 3 1.55874 2.683901 2.12132 2.12132 \r\nC 2.683901 1.55874 3 0.795609 3 0 \r\nC 3 -0.795609 2.683901 -1.55874 2.12132 -2.12132 \r\nC 1.55874 -2.683901 0.795609 -3 0 -3 \r\nC -0.795609 -3 -1.55874 -2.683901 -2.12132 -2.12132 \r\nC -2.683901 -1.55874 -3 -0.795609 -3 0 \r\nC -3 0.795609 -2.683901 1.55874 -2.12132 2.12132 \r\nC -1.55874 2.683901 -0.795609 3 0 3 \r\nz\r\n\" id=\"mdc0ebe6419\" style=\"stroke:#ffffff;\"/>\r\n    </defs>\r\n    <g clip-path=\"url(#pd4485c007c)\">\r\n     <use style=\"fill-opacity:0;stroke:#ffffff;\" x=\"200.6875\" xlink:href=\"#mdc0ebe6419\" y=\"167.214822\"/>\r\n     <use style=\"fill-opacity:0;stroke:#ffffff;\" x=\"200.6875\" xlink:href=\"#mdc0ebe6419\" y=\"167.214822\"/>\r\n     <use style=\"fill-opacity:0;stroke:#ffffff;\" x=\"200.6875\" xlink:href=\"#mdc0ebe6419\" y=\"167.214822\"/>\r\n     <use style=\"fill-opacity:0;stroke:#ffffff;\" x=\"200.6875\" xlink:href=\"#mdc0ebe6419\" y=\"167.214822\"/>\r\n     <use style=\"fill-opacity:0;stroke:#ffffff;\" x=\"200.6875\" xlink:href=\"#mdc0ebe6419\" y=\"167.214822\"/>\r\n     <use style=\"fill-opacity:0;stroke:#ffffff;\" x=\"200.6875\" xlink:href=\"#mdc0ebe6419\" y=\"167.214822\"/>\r\n     <use style=\"fill-opacity:0;stroke:#ffffff;\" x=\"200.6875\" xlink:href=\"#mdc0ebe6419\" y=\"167.214822\"/>\r\n     <use style=\"fill-opacity:0;stroke:#ffffff;\" x=\"200.6875\" xlink:href=\"#mdc0ebe6419\" y=\"167.214822\"/>\r\n     <use style=\"fill-opacity:0;stroke:#ffffff;\" x=\"200.6875\" xlink:href=\"#mdc0ebe6419\" y=\"167.214822\"/>\r\n     <use style=\"fill-opacity:0;stroke:#ffffff;\" x=\"200.6875\" xlink:href=\"#mdc0ebe6419\" y=\"167.214822\"/>\r\n     <use style=\"fill-opacity:0;stroke:#ffffff;\" x=\"200.6875\" xlink:href=\"#mdc0ebe6419\" y=\"167.214822\"/>\r\n     <use style=\"fill-opacity:0;stroke:#ffffff;\" x=\"200.6875\" xlink:href=\"#mdc0ebe6419\" y=\"167.214822\"/>\r\n     <use style=\"fill-opacity:0;stroke:#ffffff;\" x=\"200.6875\" xlink:href=\"#mdc0ebe6419\" y=\"167.214822\"/>\r\n     <use style=\"fill-opacity:0;stroke:#ffffff;\" x=\"200.6875\" xlink:href=\"#mdc0ebe6419\" y=\"167.214822\"/>\r\n     <use style=\"fill-opacity:0;stroke:#ffffff;\" x=\"200.6875\" xlink:href=\"#mdc0ebe6419\" y=\"167.214822\"/>\r\n     <use style=\"fill-opacity:0;stroke:#ffffff;\" x=\"200.6875\" xlink:href=\"#mdc0ebe6419\" y=\"167.214822\"/>\r\n     <use style=\"fill-opacity:0;stroke:#ffffff;\" x=\"200.6875\" xlink:href=\"#mdc0ebe6419\" y=\"167.214822\"/>\r\n     <use style=\"fill-opacity:0;stroke:#ffffff;\" x=\"200.6875\" xlink:href=\"#mdc0ebe6419\" y=\"167.214822\"/>\r\n     <use style=\"fill-opacity:0;stroke:#ffffff;\" x=\"200.6875\" xlink:href=\"#mdc0ebe6419\" y=\"167.214822\"/>\r\n     <use style=\"fill-opacity:0;stroke:#ffffff;\" x=\"200.6875\" xlink:href=\"#mdc0ebe6419\" y=\"167.214822\"/>\r\n     <use style=\"fill-opacity:0;stroke:#ffffff;\" x=\"200.6875\" xlink:href=\"#mdc0ebe6419\" y=\"167.214822\"/>\r\n     <use style=\"fill-opacity:0;stroke:#ffffff;\" x=\"200.6875\" xlink:href=\"#mdc0ebe6419\" y=\"167.214822\"/>\r\n     <use style=\"fill-opacity:0;stroke:#ffffff;\" x=\"200.6875\" xlink:href=\"#mdc0ebe6419\" y=\"167.214822\"/>\r\n     <use style=\"fill-opacity:0;stroke:#ffffff;\" x=\"200.6875\" xlink:href=\"#mdc0ebe6419\" y=\"167.214822\"/>\r\n     <use style=\"fill-opacity:0;stroke:#ffffff;\" x=\"200.6875\" xlink:href=\"#mdc0ebe6419\" y=\"167.214822\"/>\r\n     <use style=\"fill-opacity:0;stroke:#ffffff;\" x=\"200.6875\" xlink:href=\"#mdc0ebe6419\" y=\"167.214822\"/>\r\n     <use style=\"fill-opacity:0;stroke:#ffffff;\" x=\"200.6875\" xlink:href=\"#mdc0ebe6419\" y=\"167.214822\"/>\r\n     <use style=\"fill-opacity:0;stroke:#ffffff;\" x=\"200.6875\" xlink:href=\"#mdc0ebe6419\" y=\"167.214822\"/>\r\n     <use style=\"fill-opacity:0;stroke:#ffffff;\" x=\"200.6875\" xlink:href=\"#mdc0ebe6419\" y=\"167.214822\"/>\r\n     <use style=\"fill-opacity:0;stroke:#ffffff;\" x=\"200.6875\" xlink:href=\"#mdc0ebe6419\" y=\"167.214822\"/>\r\n     <use style=\"fill-opacity:0;stroke:#ffffff;\" x=\"200.6875\" xlink:href=\"#mdc0ebe6419\" y=\"167.214822\"/>\r\n     <use style=\"fill-opacity:0;stroke:#ffffff;\" x=\"200.6875\" xlink:href=\"#mdc0ebe6419\" y=\"167.214822\"/>\r\n     <use style=\"fill-opacity:0;stroke:#ffffff;\" x=\"200.6875\" xlink:href=\"#mdc0ebe6419\" y=\"167.214822\"/>\r\n     <use style=\"fill-opacity:0;stroke:#ffffff;\" x=\"200.6875\" xlink:href=\"#mdc0ebe6419\" y=\"167.214822\"/>\r\n     <use style=\"fill-opacity:0;stroke:#ffffff;\" x=\"200.6875\" xlink:href=\"#mdc0ebe6419\" y=\"167.214822\"/>\r\n     <use style=\"fill-opacity:0;stroke:#ffffff;\" x=\"200.6875\" xlink:href=\"#mdc0ebe6419\" y=\"167.214822\"/>\r\n     <use style=\"fill-opacity:0;stroke:#ffffff;\" x=\"200.6875\" xlink:href=\"#mdc0ebe6419\" y=\"167.214822\"/>\r\n     <use style=\"fill-opacity:0;stroke:#ffffff;\" x=\"200.6875\" xlink:href=\"#mdc0ebe6419\" y=\"167.214822\"/>\r\n     <use style=\"fill-opacity:0;stroke:#ffffff;\" x=\"200.6875\" xlink:href=\"#mdc0ebe6419\" y=\"167.214822\"/>\r\n     <use style=\"fill-opacity:0;stroke:#ffffff;\" x=\"200.6875\" xlink:href=\"#mdc0ebe6419\" y=\"167.214822\"/>\r\n     <use style=\"fill-opacity:0;stroke:#ffffff;\" x=\"200.6875\" xlink:href=\"#mdc0ebe6419\" y=\"167.214822\"/>\r\n     <use style=\"fill-opacity:0;stroke:#ffffff;\" x=\"200.6875\" xlink:href=\"#mdc0ebe6419\" y=\"167.214822\"/>\r\n     <use style=\"fill-opacity:0;stroke:#ffffff;\" x=\"200.6875\" xlink:href=\"#mdc0ebe6419\" y=\"167.214822\"/>\r\n     <use style=\"fill-opacity:0;stroke:#ffffff;\" x=\"200.6875\" xlink:href=\"#mdc0ebe6419\" y=\"167.214822\"/>\r\n     <use style=\"fill-opacity:0;stroke:#ffffff;\" x=\"200.6875\" xlink:href=\"#mdc0ebe6419\" y=\"167.214822\"/>\r\n     <use style=\"fill-opacity:0;stroke:#ffffff;\" x=\"200.6875\" xlink:href=\"#mdc0ebe6419\" y=\"167.214822\"/>\r\n     <use style=\"fill-opacity:0;stroke:#ffffff;\" x=\"200.6875\" xlink:href=\"#mdc0ebe6419\" y=\"167.214822\"/>\r\n     <use style=\"fill-opacity:0;stroke:#ffffff;\" x=\"200.6875\" xlink:href=\"#mdc0ebe6419\" y=\"167.214822\"/>\r\n     <use style=\"fill-opacity:0;stroke:#ffffff;\" x=\"200.6875\" xlink:href=\"#mdc0ebe6419\" y=\"167.214822\"/>\r\n     <use style=\"fill-opacity:0;stroke:#ffffff;\" x=\"200.6875\" xlink:href=\"#mdc0ebe6419\" y=\"167.214822\"/>\r\n     <use style=\"fill-opacity:0;stroke:#ffffff;\" x=\"200.6875\" xlink:href=\"#mdc0ebe6419\" y=\"169.717008\"/>\r\n     <use style=\"fill-opacity:0;stroke:#ffffff;\" x=\"200.6875\" xlink:href=\"#mdc0ebe6419\" y=\"169.717008\"/>\r\n     <use style=\"fill-opacity:0;stroke:#ffffff;\" x=\"200.6875\" xlink:href=\"#mdc0ebe6419\" y=\"169.717008\"/>\r\n     <use style=\"fill-opacity:0;stroke:#ffffff;\" x=\"200.6875\" xlink:href=\"#mdc0ebe6419\" y=\"169.717008\"/>\r\n     <use style=\"fill-opacity:0;stroke:#ffffff;\" x=\"200.6875\" xlink:href=\"#mdc0ebe6419\" y=\"169.717008\"/>\r\n     <use style=\"fill-opacity:0;stroke:#ffffff;\" x=\"200.6875\" xlink:href=\"#mdc0ebe6419\" y=\"169.717008\"/>\r\n     <use style=\"fill-opacity:0;stroke:#ffffff;\" x=\"200.6875\" xlink:href=\"#mdc0ebe6419\" y=\"169.717008\"/>\r\n     <use style=\"fill-opacity:0;stroke:#ffffff;\" x=\"200.6875\" xlink:href=\"#mdc0ebe6419\" y=\"169.717008\"/>\r\n     <use style=\"fill-opacity:0;stroke:#ffffff;\" x=\"200.6875\" xlink:href=\"#mdc0ebe6419\" y=\"169.717008\"/>\r\n     <use style=\"fill-opacity:0;stroke:#ffffff;\" x=\"200.6875\" xlink:href=\"#mdc0ebe6419\" y=\"169.717008\"/>\r\n     <use style=\"fill-opacity:0;stroke:#ffffff;\" x=\"200.6875\" xlink:href=\"#mdc0ebe6419\" y=\"169.717008\"/>\r\n     <use style=\"fill-opacity:0;stroke:#ffffff;\" x=\"200.6875\" xlink:href=\"#mdc0ebe6419\" y=\"169.717008\"/>\r\n     <use style=\"fill-opacity:0;stroke:#ffffff;\" x=\"200.6875\" xlink:href=\"#mdc0ebe6419\" y=\"169.717008\"/>\r\n     <use style=\"fill-opacity:0;stroke:#ffffff;\" x=\"200.6875\" xlink:href=\"#mdc0ebe6419\" y=\"169.717008\"/>\r\n     <use style=\"fill-opacity:0;stroke:#ffffff;\" x=\"200.6875\" xlink:href=\"#mdc0ebe6419\" y=\"169.717008\"/>\r\n     <use style=\"fill-opacity:0;stroke:#ffffff;\" x=\"200.6875\" xlink:href=\"#mdc0ebe6419\" y=\"169.717008\"/>\r\n     <use style=\"fill-opacity:0;stroke:#ffffff;\" x=\"200.6875\" xlink:href=\"#mdc0ebe6419\" y=\"169.717008\"/>\r\n     <use style=\"fill-opacity:0;stroke:#ffffff;\" x=\"200.6875\" xlink:href=\"#mdc0ebe6419\" y=\"169.717008\"/>\r\n     <use style=\"fill-opacity:0;stroke:#ffffff;\" x=\"200.6875\" xlink:href=\"#mdc0ebe6419\" y=\"169.717008\"/>\r\n     <use style=\"fill-opacity:0;stroke:#ffffff;\" x=\"200.6875\" xlink:href=\"#mdc0ebe6419\" y=\"169.717008\"/>\r\n     <use style=\"fill-opacity:0;stroke:#ffffff;\" x=\"200.6875\" xlink:href=\"#mdc0ebe6419\" y=\"169.717008\"/>\r\n     <use style=\"fill-opacity:0;stroke:#ffffff;\" x=\"200.6875\" xlink:href=\"#mdc0ebe6419\" y=\"169.717008\"/>\r\n     <use style=\"fill-opacity:0;stroke:#ffffff;\" x=\"200.6875\" xlink:href=\"#mdc0ebe6419\" y=\"169.717008\"/>\r\n     <use style=\"fill-opacity:0;stroke:#ffffff;\" x=\"200.6875\" xlink:href=\"#mdc0ebe6419\" y=\"169.717008\"/>\r\n     <use style=\"fill-opacity:0;stroke:#ffffff;\" x=\"200.6875\" xlink:href=\"#mdc0ebe6419\" y=\"169.717008\"/>\r\n     <use style=\"fill-opacity:0;stroke:#ffffff;\" x=\"200.6875\" xlink:href=\"#mdc0ebe6419\" y=\"169.717008\"/>\r\n     <use style=\"fill-opacity:0;stroke:#ffffff;\" x=\"200.6875\" xlink:href=\"#mdc0ebe6419\" y=\"169.717008\"/>\r\n     <use style=\"fill-opacity:0;stroke:#ffffff;\" x=\"200.6875\" xlink:href=\"#mdc0ebe6419\" y=\"169.717008\"/>\r\n     <use style=\"fill-opacity:0;stroke:#ffffff;\" x=\"200.6875\" xlink:href=\"#mdc0ebe6419\" y=\"169.717008\"/>\r\n     <use style=\"fill-opacity:0;stroke:#ffffff;\" x=\"200.6875\" xlink:href=\"#mdc0ebe6419\" y=\"169.717008\"/>\r\n     <use style=\"fill-opacity:0;stroke:#ffffff;\" x=\"200.6875\" xlink:href=\"#mdc0ebe6419\" y=\"169.717008\"/>\r\n     <use style=\"fill-opacity:0;stroke:#ffffff;\" x=\"200.6875\" xlink:href=\"#mdc0ebe6419\" y=\"169.717008\"/>\r\n     <use style=\"fill-opacity:0;stroke:#ffffff;\" x=\"200.6875\" xlink:href=\"#mdc0ebe6419\" y=\"169.717008\"/>\r\n     <use style=\"fill-opacity:0;stroke:#ffffff;\" x=\"200.6875\" xlink:href=\"#mdc0ebe6419\" y=\"169.717008\"/>\r\n     <use style=\"fill-opacity:0;stroke:#ffffff;\" x=\"200.6875\" xlink:href=\"#mdc0ebe6419\" y=\"169.717008\"/>\r\n     <use style=\"fill-opacity:0;stroke:#ffffff;\" x=\"200.6875\" xlink:href=\"#mdc0ebe6419\" y=\"169.717008\"/>\r\n     <use style=\"fill-opacity:0;stroke:#ffffff;\" x=\"200.6875\" xlink:href=\"#mdc0ebe6419\" y=\"169.717008\"/>\r\n     <use style=\"fill-opacity:0;stroke:#ffffff;\" x=\"200.6875\" xlink:href=\"#mdc0ebe6419\" y=\"169.717008\"/>\r\n     <use style=\"fill-opacity:0;stroke:#ffffff;\" x=\"200.6875\" xlink:href=\"#mdc0ebe6419\" y=\"169.717008\"/>\r\n     <use style=\"fill-opacity:0;stroke:#ffffff;\" x=\"200.6875\" xlink:href=\"#mdc0ebe6419\" y=\"169.717008\"/>\r\n     <use style=\"fill-opacity:0;stroke:#ffffff;\" x=\"200.6875\" xlink:href=\"#mdc0ebe6419\" y=\"169.717008\"/>\r\n     <use style=\"fill-opacity:0;stroke:#ffffff;\" x=\"200.6875\" xlink:href=\"#mdc0ebe6419\" y=\"169.717008\"/>\r\n     <use style=\"fill-opacity:0;stroke:#ffffff;\" x=\"200.6875\" xlink:href=\"#mdc0ebe6419\" y=\"169.717008\"/>\r\n     <use style=\"fill-opacity:0;stroke:#ffffff;\" x=\"200.6875\" xlink:href=\"#mdc0ebe6419\" y=\"169.717008\"/>\r\n     <use style=\"fill-opacity:0;stroke:#ffffff;\" x=\"200.6875\" xlink:href=\"#mdc0ebe6419\" y=\"169.717008\"/>\r\n     <use style=\"fill-opacity:0;stroke:#ffffff;\" x=\"200.6875\" xlink:href=\"#mdc0ebe6419\" y=\"169.717008\"/>\r\n     <use style=\"fill-opacity:0;stroke:#ffffff;\" x=\"200.6875\" xlink:href=\"#mdc0ebe6419\" y=\"169.717008\"/>\r\n     <use style=\"fill-opacity:0;stroke:#ffffff;\" x=\"200.6875\" xlink:href=\"#mdc0ebe6419\" y=\"169.717008\"/>\r\n     <use style=\"fill-opacity:0;stroke:#ffffff;\" x=\"200.6875\" xlink:href=\"#mdc0ebe6419\" y=\"169.717008\"/>\r\n     <use style=\"fill-opacity:0;stroke:#ffffff;\" x=\"200.6875\" xlink:href=\"#mdc0ebe6419\" y=\"172.219194\"/>\r\n     <use style=\"fill-opacity:0;stroke:#ffffff;\" x=\"200.6875\" xlink:href=\"#mdc0ebe6419\" y=\"172.219194\"/>\r\n     <use style=\"fill-opacity:0;stroke:#ffffff;\" x=\"200.6875\" xlink:href=\"#mdc0ebe6419\" y=\"172.219194\"/>\r\n     <use style=\"fill-opacity:0;stroke:#ffffff;\" x=\"200.6875\" xlink:href=\"#mdc0ebe6419\" y=\"172.219194\"/>\r\n     <use style=\"fill-opacity:0;stroke:#ffffff;\" x=\"200.6875\" xlink:href=\"#mdc0ebe6419\" y=\"172.219194\"/>\r\n     <use style=\"fill-opacity:0;stroke:#ffffff;\" x=\"200.6875\" xlink:href=\"#mdc0ebe6419\" y=\"172.219194\"/>\r\n     <use style=\"fill-opacity:0;stroke:#ffffff;\" x=\"200.6875\" xlink:href=\"#mdc0ebe6419\" y=\"172.219194\"/>\r\n     <use style=\"fill-opacity:0;stroke:#ffffff;\" x=\"200.6875\" xlink:href=\"#mdc0ebe6419\" y=\"172.219194\"/>\r\n     <use style=\"fill-opacity:0;stroke:#ffffff;\" x=\"200.6875\" xlink:href=\"#mdc0ebe6419\" y=\"172.219194\"/>\r\n     <use style=\"fill-opacity:0;stroke:#ffffff;\" x=\"200.6875\" xlink:href=\"#mdc0ebe6419\" y=\"172.219194\"/>\r\n     <use style=\"fill-opacity:0;stroke:#ffffff;\" x=\"200.6875\" xlink:href=\"#mdc0ebe6419\" y=\"172.219194\"/>\r\n     <use style=\"fill-opacity:0;stroke:#ffffff;\" x=\"200.6875\" xlink:href=\"#mdc0ebe6419\" y=\"172.219194\"/>\r\n     <use style=\"fill-opacity:0;stroke:#ffffff;\" x=\"200.6875\" xlink:href=\"#mdc0ebe6419\" y=\"172.219194\"/>\r\n     <use style=\"fill-opacity:0;stroke:#ffffff;\" x=\"200.6875\" xlink:href=\"#mdc0ebe6419\" y=\"172.219194\"/>\r\n     <use style=\"fill-opacity:0;stroke:#ffffff;\" x=\"200.6875\" xlink:href=\"#mdc0ebe6419\" y=\"172.219194\"/>\r\n     <use style=\"fill-opacity:0;stroke:#ffffff;\" x=\"200.6875\" xlink:href=\"#mdc0ebe6419\" y=\"172.219194\"/>\r\n     <use style=\"fill-opacity:0;stroke:#ffffff;\" x=\"200.6875\" xlink:href=\"#mdc0ebe6419\" y=\"172.219194\"/>\r\n     <use style=\"fill-opacity:0;stroke:#ffffff;\" x=\"200.6875\" xlink:href=\"#mdc0ebe6419\" y=\"172.219194\"/>\r\n     <use style=\"fill-opacity:0;stroke:#ffffff;\" x=\"200.6875\" xlink:href=\"#mdc0ebe6419\" y=\"172.219194\"/>\r\n     <use style=\"fill-opacity:0;stroke:#ffffff;\" x=\"200.6875\" xlink:href=\"#mdc0ebe6419\" y=\"172.219194\"/>\r\n     <use style=\"fill-opacity:0;stroke:#ffffff;\" x=\"200.6875\" xlink:href=\"#mdc0ebe6419\" y=\"172.219194\"/>\r\n     <use style=\"fill-opacity:0;stroke:#ffffff;\" x=\"200.6875\" xlink:href=\"#mdc0ebe6419\" y=\"172.219194\"/>\r\n     <use style=\"fill-opacity:0;stroke:#ffffff;\" x=\"200.6875\" xlink:href=\"#mdc0ebe6419\" y=\"172.219194\"/>\r\n     <use style=\"fill-opacity:0;stroke:#ffffff;\" x=\"200.6875\" xlink:href=\"#mdc0ebe6419\" y=\"172.219194\"/>\r\n     <use style=\"fill-opacity:0;stroke:#ffffff;\" x=\"200.6875\" xlink:href=\"#mdc0ebe6419\" y=\"172.219194\"/>\r\n     <use style=\"fill-opacity:0;stroke:#ffffff;\" x=\"200.6875\" xlink:href=\"#mdc0ebe6419\" y=\"172.219194\"/>\r\n     <use style=\"fill-opacity:0;stroke:#ffffff;\" x=\"200.6875\" xlink:href=\"#mdc0ebe6419\" y=\"172.219194\"/>\r\n     <use style=\"fill-opacity:0;stroke:#ffffff;\" x=\"200.6875\" xlink:href=\"#mdc0ebe6419\" y=\"172.219194\"/>\r\n     <use style=\"fill-opacity:0;stroke:#ffffff;\" x=\"200.6875\" xlink:href=\"#mdc0ebe6419\" y=\"172.219194\"/>\r\n     <use style=\"fill-opacity:0;stroke:#ffffff;\" x=\"200.6875\" xlink:href=\"#mdc0ebe6419\" y=\"172.219194\"/>\r\n     <use style=\"fill-opacity:0;stroke:#ffffff;\" x=\"200.6875\" xlink:href=\"#mdc0ebe6419\" y=\"172.219194\"/>\r\n     <use style=\"fill-opacity:0;stroke:#ffffff;\" x=\"200.6875\" xlink:href=\"#mdc0ebe6419\" y=\"172.219194\"/>\r\n     <use style=\"fill-opacity:0;stroke:#ffffff;\" x=\"200.6875\" xlink:href=\"#mdc0ebe6419\" y=\"172.219194\"/>\r\n     <use style=\"fill-opacity:0;stroke:#ffffff;\" x=\"200.6875\" xlink:href=\"#mdc0ebe6419\" y=\"172.219194\"/>\r\n     <use style=\"fill-opacity:0;stroke:#ffffff;\" x=\"200.6875\" xlink:href=\"#mdc0ebe6419\" y=\"172.219194\"/>\r\n     <use style=\"fill-opacity:0;stroke:#ffffff;\" x=\"200.6875\" xlink:href=\"#mdc0ebe6419\" y=\"174.721381\"/>\r\n     <use style=\"fill-opacity:0;stroke:#ffffff;\" x=\"200.6875\" xlink:href=\"#mdc0ebe6419\" y=\"174.721381\"/>\r\n     <use style=\"fill-opacity:0;stroke:#ffffff;\" x=\"200.6875\" xlink:href=\"#mdc0ebe6419\" y=\"174.721381\"/>\r\n     <use style=\"fill-opacity:0;stroke:#ffffff;\" x=\"200.6875\" xlink:href=\"#mdc0ebe6419\" y=\"174.721381\"/>\r\n     <use style=\"fill-opacity:0;stroke:#ffffff;\" x=\"200.6875\" xlink:href=\"#mdc0ebe6419\" y=\"174.721381\"/>\r\n     <use style=\"fill-opacity:0;stroke:#ffffff;\" x=\"200.6875\" xlink:href=\"#mdc0ebe6419\" y=\"174.721381\"/>\r\n     <use style=\"fill-opacity:0;stroke:#ffffff;\" x=\"200.6875\" xlink:href=\"#mdc0ebe6419\" y=\"174.721381\"/>\r\n     <use style=\"fill-opacity:0;stroke:#ffffff;\" x=\"200.6875\" xlink:href=\"#mdc0ebe6419\" y=\"174.721381\"/>\r\n     <use style=\"fill-opacity:0;stroke:#ffffff;\" x=\"200.6875\" xlink:href=\"#mdc0ebe6419\" y=\"174.721381\"/>\r\n     <use style=\"fill-opacity:0;stroke:#ffffff;\" x=\"200.6875\" xlink:href=\"#mdc0ebe6419\" y=\"174.721381\"/>\r\n     <use style=\"fill-opacity:0;stroke:#ffffff;\" x=\"200.6875\" xlink:href=\"#mdc0ebe6419\" y=\"174.721381\"/>\r\n     <use style=\"fill-opacity:0;stroke:#ffffff;\" x=\"200.6875\" xlink:href=\"#mdc0ebe6419\" y=\"174.721381\"/>\r\n     <use style=\"fill-opacity:0;stroke:#ffffff;\" x=\"200.6875\" xlink:href=\"#mdc0ebe6419\" y=\"174.721381\"/>\r\n     <use style=\"fill-opacity:0;stroke:#ffffff;\" x=\"200.6875\" xlink:href=\"#mdc0ebe6419\" y=\"174.721381\"/>\r\n     <use style=\"fill-opacity:0;stroke:#ffffff;\" x=\"200.6875\" xlink:href=\"#mdc0ebe6419\" y=\"174.721381\"/>\r\n     <use style=\"fill-opacity:0;stroke:#ffffff;\" x=\"200.6875\" xlink:href=\"#mdc0ebe6419\" y=\"174.721381\"/>\r\n     <use style=\"fill-opacity:0;stroke:#ffffff;\" x=\"200.6875\" xlink:href=\"#mdc0ebe6419\" y=\"174.721381\"/>\r\n     <use style=\"fill-opacity:0;stroke:#ffffff;\" x=\"200.6875\" xlink:href=\"#mdc0ebe6419\" y=\"174.721381\"/>\r\n     <use style=\"fill-opacity:0;stroke:#ffffff;\" x=\"200.6875\" xlink:href=\"#mdc0ebe6419\" y=\"174.721381\"/>\r\n     <use style=\"fill-opacity:0;stroke:#ffffff;\" x=\"200.6875\" xlink:href=\"#mdc0ebe6419\" y=\"174.721381\"/>\r\n     <use style=\"fill-opacity:0;stroke:#ffffff;\" x=\"200.6875\" xlink:href=\"#mdc0ebe6419\" y=\"174.721381\"/>\r\n     <use style=\"fill-opacity:0;stroke:#ffffff;\" x=\"200.6875\" xlink:href=\"#mdc0ebe6419\" y=\"174.721381\"/>\r\n     <use style=\"fill-opacity:0;stroke:#ffffff;\" x=\"200.6875\" xlink:href=\"#mdc0ebe6419\" y=\"174.721381\"/>\r\n     <use style=\"fill-opacity:0;stroke:#ffffff;\" x=\"200.6875\" xlink:href=\"#mdc0ebe6419\" y=\"174.721381\"/>\r\n     <use style=\"fill-opacity:0;stroke:#ffffff;\" x=\"200.6875\" xlink:href=\"#mdc0ebe6419\" y=\"174.721381\"/>\r\n     <use style=\"fill-opacity:0;stroke:#ffffff;\" x=\"200.6875\" xlink:href=\"#mdc0ebe6419\" y=\"174.721381\"/>\r\n     <use style=\"fill-opacity:0;stroke:#ffffff;\" x=\"200.6875\" xlink:href=\"#mdc0ebe6419\" y=\"174.721381\"/>\r\n     <use style=\"fill-opacity:0;stroke:#ffffff;\" x=\"200.6875\" xlink:href=\"#mdc0ebe6419\" y=\"174.721381\"/>\r\n     <use style=\"fill-opacity:0;stroke:#ffffff;\" x=\"200.6875\" xlink:href=\"#mdc0ebe6419\" y=\"174.721381\"/>\r\n     <use style=\"fill-opacity:0;stroke:#ffffff;\" x=\"200.6875\" xlink:href=\"#mdc0ebe6419\" y=\"174.721381\"/>\r\n     <use style=\"fill-opacity:0;stroke:#ffffff;\" x=\"200.6875\" xlink:href=\"#mdc0ebe6419\" y=\"174.721381\"/>\r\n     <use style=\"fill-opacity:0;stroke:#ffffff;\" x=\"200.6875\" xlink:href=\"#mdc0ebe6419\" y=\"174.721381\"/>\r\n     <use style=\"fill-opacity:0;stroke:#ffffff;\" x=\"200.6875\" xlink:href=\"#mdc0ebe6419\" y=\"174.721381\"/>\r\n     <use style=\"fill-opacity:0;stroke:#ffffff;\" x=\"200.6875\" xlink:href=\"#mdc0ebe6419\" y=\"174.721381\"/>\r\n     <use style=\"fill-opacity:0;stroke:#ffffff;\" x=\"200.6875\" xlink:href=\"#mdc0ebe6419\" y=\"174.721381\"/>\r\n     <use style=\"fill-opacity:0;stroke:#ffffff;\" x=\"200.6875\" xlink:href=\"#mdc0ebe6419\" y=\"174.721381\"/>\r\n     <use style=\"fill-opacity:0;stroke:#ffffff;\" x=\"200.6875\" xlink:href=\"#mdc0ebe6419\" y=\"174.721381\"/>\r\n     <use style=\"fill-opacity:0;stroke:#ffffff;\" x=\"200.6875\" xlink:href=\"#mdc0ebe6419\" y=\"177.223567\"/>\r\n     <use style=\"fill-opacity:0;stroke:#ffffff;\" x=\"200.6875\" xlink:href=\"#mdc0ebe6419\" y=\"177.223567\"/>\r\n     <use style=\"fill-opacity:0;stroke:#ffffff;\" x=\"200.6875\" xlink:href=\"#mdc0ebe6419\" y=\"177.223567\"/>\r\n     <use style=\"fill-opacity:0;stroke:#ffffff;\" x=\"200.6875\" xlink:href=\"#mdc0ebe6419\" y=\"177.223567\"/>\r\n     <use style=\"fill-opacity:0;stroke:#ffffff;\" x=\"200.6875\" xlink:href=\"#mdc0ebe6419\" y=\"177.223567\"/>\r\n     <use style=\"fill-opacity:0;stroke:#ffffff;\" x=\"200.6875\" xlink:href=\"#mdc0ebe6419\" y=\"177.223567\"/>\r\n     <use style=\"fill-opacity:0;stroke:#ffffff;\" x=\"200.6875\" xlink:href=\"#mdc0ebe6419\" y=\"177.223567\"/>\r\n     <use style=\"fill-opacity:0;stroke:#ffffff;\" x=\"200.6875\" xlink:href=\"#mdc0ebe6419\" y=\"177.223567\"/>\r\n     <use style=\"fill-opacity:0;stroke:#ffffff;\" x=\"200.6875\" xlink:href=\"#mdc0ebe6419\" y=\"177.223567\"/>\r\n     <use style=\"fill-opacity:0;stroke:#ffffff;\" x=\"200.6875\" xlink:href=\"#mdc0ebe6419\" y=\"177.223567\"/>\r\n     <use style=\"fill-opacity:0;stroke:#ffffff;\" x=\"200.6875\" xlink:href=\"#mdc0ebe6419\" y=\"177.223567\"/>\r\n     <use style=\"fill-opacity:0;stroke:#ffffff;\" x=\"200.6875\" xlink:href=\"#mdc0ebe6419\" y=\"177.223567\"/>\r\n     <use style=\"fill-opacity:0;stroke:#ffffff;\" x=\"200.6875\" xlink:href=\"#mdc0ebe6419\" y=\"177.223567\"/>\r\n     <use style=\"fill-opacity:0;stroke:#ffffff;\" x=\"200.6875\" xlink:href=\"#mdc0ebe6419\" y=\"177.223567\"/>\r\n     <use style=\"fill-opacity:0;stroke:#ffffff;\" x=\"200.6875\" xlink:href=\"#mdc0ebe6419\" y=\"177.223567\"/>\r\n     <use style=\"fill-opacity:0;stroke:#ffffff;\" x=\"200.6875\" xlink:href=\"#mdc0ebe6419\" y=\"177.223567\"/>\r\n     <use style=\"fill-opacity:0;stroke:#ffffff;\" x=\"200.6875\" xlink:href=\"#mdc0ebe6419\" y=\"177.223567\"/>\r\n     <use style=\"fill-opacity:0;stroke:#ffffff;\" x=\"200.6875\" xlink:href=\"#mdc0ebe6419\" y=\"177.223567\"/>\r\n     <use style=\"fill-opacity:0;stroke:#ffffff;\" x=\"200.6875\" xlink:href=\"#mdc0ebe6419\" y=\"177.223567\"/>\r\n     <use style=\"fill-opacity:0;stroke:#ffffff;\" x=\"200.6875\" xlink:href=\"#mdc0ebe6419\" y=\"177.223567\"/>\r\n     <use style=\"fill-opacity:0;stroke:#ffffff;\" x=\"200.6875\" xlink:href=\"#mdc0ebe6419\" y=\"177.223567\"/>\r\n     <use style=\"fill-opacity:0;stroke:#ffffff;\" x=\"200.6875\" xlink:href=\"#mdc0ebe6419\" y=\"177.223567\"/>\r\n     <use style=\"fill-opacity:0;stroke:#ffffff;\" x=\"200.6875\" xlink:href=\"#mdc0ebe6419\" y=\"177.223567\"/>\r\n     <use style=\"fill-opacity:0;stroke:#ffffff;\" x=\"200.6875\" xlink:href=\"#mdc0ebe6419\" y=\"177.223567\"/>\r\n     <use style=\"fill-opacity:0;stroke:#ffffff;\" x=\"200.6875\" xlink:href=\"#mdc0ebe6419\" y=\"177.223567\"/>\r\n     <use style=\"fill-opacity:0;stroke:#ffffff;\" x=\"200.6875\" xlink:href=\"#mdc0ebe6419\" y=\"177.223567\"/>\r\n     <use style=\"fill-opacity:0;stroke:#ffffff;\" x=\"200.6875\" xlink:href=\"#mdc0ebe6419\" y=\"177.223567\"/>\r\n     <use style=\"fill-opacity:0;stroke:#ffffff;\" x=\"200.6875\" xlink:href=\"#mdc0ebe6419\" y=\"177.223567\"/>\r\n     <use style=\"fill-opacity:0;stroke:#ffffff;\" x=\"200.6875\" xlink:href=\"#mdc0ebe6419\" y=\"177.223567\"/>\r\n     <use style=\"fill-opacity:0;stroke:#ffffff;\" x=\"200.6875\" xlink:href=\"#mdc0ebe6419\" y=\"177.223567\"/>\r\n     <use style=\"fill-opacity:0;stroke:#ffffff;\" x=\"200.6875\" xlink:href=\"#mdc0ebe6419\" y=\"179.725754\"/>\r\n     <use style=\"fill-opacity:0;stroke:#ffffff;\" x=\"200.6875\" xlink:href=\"#mdc0ebe6419\" y=\"179.725754\"/>\r\n     <use style=\"fill-opacity:0;stroke:#ffffff;\" x=\"200.6875\" xlink:href=\"#mdc0ebe6419\" y=\"179.725754\"/>\r\n     <use style=\"fill-opacity:0;stroke:#ffffff;\" x=\"200.6875\" xlink:href=\"#mdc0ebe6419\" y=\"179.725754\"/>\r\n     <use style=\"fill-opacity:0;stroke:#ffffff;\" x=\"200.6875\" xlink:href=\"#mdc0ebe6419\" y=\"179.725754\"/>\r\n     <use style=\"fill-opacity:0;stroke:#ffffff;\" x=\"200.6875\" xlink:href=\"#mdc0ebe6419\" y=\"179.725754\"/>\r\n     <use style=\"fill-opacity:0;stroke:#ffffff;\" x=\"200.6875\" xlink:href=\"#mdc0ebe6419\" y=\"179.725754\"/>\r\n     <use style=\"fill-opacity:0;stroke:#ffffff;\" x=\"200.6875\" xlink:href=\"#mdc0ebe6419\" y=\"179.725754\"/>\r\n     <use style=\"fill-opacity:0;stroke:#ffffff;\" x=\"200.6875\" xlink:href=\"#mdc0ebe6419\" y=\"179.725754\"/>\r\n     <use style=\"fill-opacity:0;stroke:#ffffff;\" x=\"200.6875\" xlink:href=\"#mdc0ebe6419\" y=\"179.725754\"/>\r\n     <use style=\"fill-opacity:0;stroke:#ffffff;\" x=\"200.6875\" xlink:href=\"#mdc0ebe6419\" y=\"179.725754\"/>\r\n     <use style=\"fill-opacity:0;stroke:#ffffff;\" x=\"200.6875\" xlink:href=\"#mdc0ebe6419\" y=\"179.725754\"/>\r\n     <use style=\"fill-opacity:0;stroke:#ffffff;\" x=\"200.6875\" xlink:href=\"#mdc0ebe6419\" y=\"179.725754\"/>\r\n     <use style=\"fill-opacity:0;stroke:#ffffff;\" x=\"200.6875\" xlink:href=\"#mdc0ebe6419\" y=\"179.725754\"/>\r\n     <use style=\"fill-opacity:0;stroke:#ffffff;\" x=\"200.6875\" xlink:href=\"#mdc0ebe6419\" y=\"179.725754\"/>\r\n     <use style=\"fill-opacity:0;stroke:#ffffff;\" x=\"200.6875\" xlink:href=\"#mdc0ebe6419\" y=\"179.725754\"/>\r\n     <use style=\"fill-opacity:0;stroke:#ffffff;\" x=\"200.6875\" xlink:href=\"#mdc0ebe6419\" y=\"179.725754\"/>\r\n     <use style=\"fill-opacity:0;stroke:#ffffff;\" x=\"200.6875\" xlink:href=\"#mdc0ebe6419\" y=\"179.725754\"/>\r\n     <use style=\"fill-opacity:0;stroke:#ffffff;\" x=\"200.6875\" xlink:href=\"#mdc0ebe6419\" y=\"179.725754\"/>\r\n     <use style=\"fill-opacity:0;stroke:#ffffff;\" x=\"200.6875\" xlink:href=\"#mdc0ebe6419\" y=\"179.725754\"/>\r\n     <use style=\"fill-opacity:0;stroke:#ffffff;\" x=\"200.6875\" xlink:href=\"#mdc0ebe6419\" y=\"182.22794\"/>\r\n     <use style=\"fill-opacity:0;stroke:#ffffff;\" x=\"200.6875\" xlink:href=\"#mdc0ebe6419\" y=\"182.22794\"/>\r\n     <use style=\"fill-opacity:0;stroke:#ffffff;\" x=\"200.6875\" xlink:href=\"#mdc0ebe6419\" y=\"182.22794\"/>\r\n     <use style=\"fill-opacity:0;stroke:#ffffff;\" x=\"200.6875\" xlink:href=\"#mdc0ebe6419\" y=\"182.22794\"/>\r\n     <use style=\"fill-opacity:0;stroke:#ffffff;\" x=\"200.6875\" xlink:href=\"#mdc0ebe6419\" y=\"182.22794\"/>\r\n     <use style=\"fill-opacity:0;stroke:#ffffff;\" x=\"200.6875\" xlink:href=\"#mdc0ebe6419\" y=\"182.22794\"/>\r\n     <use style=\"fill-opacity:0;stroke:#ffffff;\" x=\"200.6875\" xlink:href=\"#mdc0ebe6419\" y=\"182.22794\"/>\r\n     <use style=\"fill-opacity:0;stroke:#ffffff;\" x=\"200.6875\" xlink:href=\"#mdc0ebe6419\" y=\"182.22794\"/>\r\n     <use style=\"fill-opacity:0;stroke:#ffffff;\" x=\"200.6875\" xlink:href=\"#mdc0ebe6419\" y=\"182.22794\"/>\r\n     <use style=\"fill-opacity:0;stroke:#ffffff;\" x=\"200.6875\" xlink:href=\"#mdc0ebe6419\" y=\"182.22794\"/>\r\n     <use style=\"fill-opacity:0;stroke:#ffffff;\" x=\"200.6875\" xlink:href=\"#mdc0ebe6419\" y=\"182.22794\"/>\r\n     <use style=\"fill-opacity:0;stroke:#ffffff;\" x=\"200.6875\" xlink:href=\"#mdc0ebe6419\" y=\"182.22794\"/>\r\n     <use style=\"fill-opacity:0;stroke:#ffffff;\" x=\"200.6875\" xlink:href=\"#mdc0ebe6419\" y=\"182.22794\"/>\r\n     <use style=\"fill-opacity:0;stroke:#ffffff;\" x=\"200.6875\" xlink:href=\"#mdc0ebe6419\" y=\"182.22794\"/>\r\n     <use style=\"fill-opacity:0;stroke:#ffffff;\" x=\"200.6875\" xlink:href=\"#mdc0ebe6419\" y=\"182.22794\"/>\r\n     <use style=\"fill-opacity:0;stroke:#ffffff;\" x=\"200.6875\" xlink:href=\"#mdc0ebe6419\" y=\"182.22794\"/>\r\n     <use style=\"fill-opacity:0;stroke:#ffffff;\" x=\"200.6875\" xlink:href=\"#mdc0ebe6419\" y=\"182.22794\"/>\r\n     <use style=\"fill-opacity:0;stroke:#ffffff;\" x=\"200.6875\" xlink:href=\"#mdc0ebe6419\" y=\"182.22794\"/>\r\n     <use style=\"fill-opacity:0;stroke:#ffffff;\" x=\"200.6875\" xlink:href=\"#mdc0ebe6419\" y=\"182.22794\"/>\r\n     <use style=\"fill-opacity:0;stroke:#ffffff;\" x=\"200.6875\" xlink:href=\"#mdc0ebe6419\" y=\"182.22794\"/>\r\n     <use style=\"fill-opacity:0;stroke:#ffffff;\" x=\"200.6875\" xlink:href=\"#mdc0ebe6419\" y=\"184.730127\"/>\r\n     <use style=\"fill-opacity:0;stroke:#ffffff;\" x=\"200.6875\" xlink:href=\"#mdc0ebe6419\" y=\"184.730127\"/>\r\n     <use style=\"fill-opacity:0;stroke:#ffffff;\" x=\"200.6875\" xlink:href=\"#mdc0ebe6419\" y=\"184.730127\"/>\r\n     <use style=\"fill-opacity:0;stroke:#ffffff;\" x=\"200.6875\" xlink:href=\"#mdc0ebe6419\" y=\"184.730127\"/>\r\n     <use style=\"fill-opacity:0;stroke:#ffffff;\" x=\"200.6875\" xlink:href=\"#mdc0ebe6419\" y=\"184.730127\"/>\r\n     <use style=\"fill-opacity:0;stroke:#ffffff;\" x=\"200.6875\" xlink:href=\"#mdc0ebe6419\" y=\"184.730127\"/>\r\n     <use style=\"fill-opacity:0;stroke:#ffffff;\" x=\"200.6875\" xlink:href=\"#mdc0ebe6419\" y=\"184.730127\"/>\r\n     <use style=\"fill-opacity:0;stroke:#ffffff;\" x=\"200.6875\" xlink:href=\"#mdc0ebe6419\" y=\"184.730127\"/>\r\n     <use style=\"fill-opacity:0;stroke:#ffffff;\" x=\"200.6875\" xlink:href=\"#mdc0ebe6419\" y=\"184.730127\"/>\r\n     <use style=\"fill-opacity:0;stroke:#ffffff;\" x=\"200.6875\" xlink:href=\"#mdc0ebe6419\" y=\"184.730127\"/>\r\n     <use style=\"fill-opacity:0;stroke:#ffffff;\" x=\"200.6875\" xlink:href=\"#mdc0ebe6419\" y=\"184.730127\"/>\r\n     <use style=\"fill-opacity:0;stroke:#ffffff;\" x=\"200.6875\" xlink:href=\"#mdc0ebe6419\" y=\"184.730127\"/>\r\n     <use style=\"fill-opacity:0;stroke:#ffffff;\" x=\"200.6875\" xlink:href=\"#mdc0ebe6419\" y=\"184.730127\"/>\r\n     <use style=\"fill-opacity:0;stroke:#ffffff;\" x=\"200.6875\" xlink:href=\"#mdc0ebe6419\" y=\"184.730127\"/>\r\n     <use style=\"fill-opacity:0;stroke:#ffffff;\" x=\"200.6875\" xlink:href=\"#mdc0ebe6419\" y=\"184.730127\"/>\r\n     <use style=\"fill-opacity:0;stroke:#ffffff;\" x=\"200.6875\" xlink:href=\"#mdc0ebe6419\" y=\"184.730127\"/>\r\n     <use style=\"fill-opacity:0;stroke:#ffffff;\" x=\"200.6875\" xlink:href=\"#mdc0ebe6419\" y=\"184.730127\"/>\r\n     <use style=\"fill-opacity:0;stroke:#ffffff;\" x=\"200.6875\" xlink:href=\"#mdc0ebe6419\" y=\"184.730127\"/>\r\n     <use style=\"fill-opacity:0;stroke:#ffffff;\" x=\"200.6875\" xlink:href=\"#mdc0ebe6419\" y=\"184.730127\"/>\r\n     <use style=\"fill-opacity:0;stroke:#ffffff;\" x=\"200.6875\" xlink:href=\"#mdc0ebe6419\" y=\"184.730127\"/>\r\n     <use style=\"fill-opacity:0;stroke:#ffffff;\" x=\"200.6875\" xlink:href=\"#mdc0ebe6419\" y=\"184.730127\"/>\r\n     <use style=\"fill-opacity:0;stroke:#ffffff;\" x=\"200.6875\" xlink:href=\"#mdc0ebe6419\" y=\"184.730127\"/>\r\n     <use style=\"fill-opacity:0;stroke:#ffffff;\" x=\"200.6875\" xlink:href=\"#mdc0ebe6419\" y=\"184.730127\"/>\r\n     <use style=\"fill-opacity:0;stroke:#ffffff;\" x=\"200.6875\" xlink:href=\"#mdc0ebe6419\" y=\"184.730127\"/>\r\n     <use style=\"fill-opacity:0;stroke:#ffffff;\" x=\"200.6875\" xlink:href=\"#mdc0ebe6419\" y=\"184.730127\"/>\r\n     <use style=\"fill-opacity:0;stroke:#ffffff;\" x=\"200.6875\" xlink:href=\"#mdc0ebe6419\" y=\"184.730127\"/>\r\n     <use style=\"fill-opacity:0;stroke:#ffffff;\" x=\"200.6875\" xlink:href=\"#mdc0ebe6419\" y=\"184.730127\"/>\r\n     <use style=\"fill-opacity:0;stroke:#ffffff;\" x=\"200.6875\" xlink:href=\"#mdc0ebe6419\" y=\"187.232313\"/>\r\n     <use style=\"fill-opacity:0;stroke:#ffffff;\" x=\"200.6875\" xlink:href=\"#mdc0ebe6419\" y=\"187.232313\"/>\r\n     <use style=\"fill-opacity:0;stroke:#ffffff;\" x=\"200.6875\" xlink:href=\"#mdc0ebe6419\" y=\"187.232313\"/>\r\n     <use style=\"fill-opacity:0;stroke:#ffffff;\" x=\"200.6875\" xlink:href=\"#mdc0ebe6419\" y=\"187.232313\"/>\r\n     <use style=\"fill-opacity:0;stroke:#ffffff;\" x=\"200.6875\" xlink:href=\"#mdc0ebe6419\" y=\"187.232313\"/>\r\n     <use style=\"fill-opacity:0;stroke:#ffffff;\" x=\"200.6875\" xlink:href=\"#mdc0ebe6419\" y=\"187.232313\"/>\r\n     <use style=\"fill-opacity:0;stroke:#ffffff;\" x=\"200.6875\" xlink:href=\"#mdc0ebe6419\" y=\"187.232313\"/>\r\n     <use style=\"fill-opacity:0;stroke:#ffffff;\" x=\"200.6875\" xlink:href=\"#mdc0ebe6419\" y=\"187.232313\"/>\r\n     <use style=\"fill-opacity:0;stroke:#ffffff;\" x=\"200.6875\" xlink:href=\"#mdc0ebe6419\" y=\"187.232313\"/>\r\n     <use style=\"fill-opacity:0;stroke:#ffffff;\" x=\"200.6875\" xlink:href=\"#mdc0ebe6419\" y=\"187.232313\"/>\r\n     <use style=\"fill-opacity:0;stroke:#ffffff;\" x=\"200.6875\" xlink:href=\"#mdc0ebe6419\" y=\"189.734499\"/>\r\n     <use style=\"fill-opacity:0;stroke:#ffffff;\" x=\"200.6875\" xlink:href=\"#mdc0ebe6419\" y=\"189.734499\"/>\r\n     <use style=\"fill-opacity:0;stroke:#ffffff;\" x=\"200.6875\" xlink:href=\"#mdc0ebe6419\" y=\"189.734499\"/>\r\n     <use style=\"fill-opacity:0;stroke:#ffffff;\" x=\"200.6875\" xlink:href=\"#mdc0ebe6419\" y=\"189.734499\"/>\r\n     <use style=\"fill-opacity:0;stroke:#ffffff;\" x=\"200.6875\" xlink:href=\"#mdc0ebe6419\" y=\"189.734499\"/>\r\n     <use style=\"fill-opacity:0;stroke:#ffffff;\" x=\"200.6875\" xlink:href=\"#mdc0ebe6419\" y=\"189.734499\"/>\r\n     <use style=\"fill-opacity:0;stroke:#ffffff;\" x=\"200.6875\" xlink:href=\"#mdc0ebe6419\" y=\"189.734499\"/>\r\n     <use style=\"fill-opacity:0;stroke:#ffffff;\" x=\"200.6875\" xlink:href=\"#mdc0ebe6419\" y=\"189.734499\"/>\r\n     <use style=\"fill-opacity:0;stroke:#ffffff;\" x=\"200.6875\" xlink:href=\"#mdc0ebe6419\" y=\"189.734499\"/>\r\n     <use style=\"fill-opacity:0;stroke:#ffffff;\" x=\"200.6875\" xlink:href=\"#mdc0ebe6419\" y=\"189.734499\"/>\r\n     <use style=\"fill-opacity:0;stroke:#ffffff;\" x=\"200.6875\" xlink:href=\"#mdc0ebe6419\" y=\"189.734499\"/>\r\n     <use style=\"fill-opacity:0;stroke:#ffffff;\" x=\"200.6875\" xlink:href=\"#mdc0ebe6419\" y=\"189.734499\"/>\r\n     <use style=\"fill-opacity:0;stroke:#ffffff;\" x=\"200.6875\" xlink:href=\"#mdc0ebe6419\" y=\"192.236686\"/>\r\n     <use style=\"fill-opacity:0;stroke:#ffffff;\" x=\"200.6875\" xlink:href=\"#mdc0ebe6419\" y=\"192.236686\"/>\r\n     <use style=\"fill-opacity:0;stroke:#ffffff;\" x=\"200.6875\" xlink:href=\"#mdc0ebe6419\" y=\"192.236686\"/>\r\n     <use style=\"fill-opacity:0;stroke:#ffffff;\" x=\"200.6875\" xlink:href=\"#mdc0ebe6419\" y=\"192.236686\"/>\r\n     <use style=\"fill-opacity:0;stroke:#ffffff;\" x=\"200.6875\" xlink:href=\"#mdc0ebe6419\" y=\"192.236686\"/>\r\n     <use style=\"fill-opacity:0;stroke:#ffffff;\" x=\"200.6875\" xlink:href=\"#mdc0ebe6419\" y=\"192.236686\"/>\r\n     <use style=\"fill-opacity:0;stroke:#ffffff;\" x=\"200.6875\" xlink:href=\"#mdc0ebe6419\" y=\"192.236686\"/>\r\n     <use style=\"fill-opacity:0;stroke:#ffffff;\" x=\"200.6875\" xlink:href=\"#mdc0ebe6419\" y=\"192.236686\"/>\r\n     <use style=\"fill-opacity:0;stroke:#ffffff;\" x=\"200.6875\" xlink:href=\"#mdc0ebe6419\" y=\"192.236686\"/>\r\n     <use style=\"fill-opacity:0;stroke:#ffffff;\" x=\"200.6875\" xlink:href=\"#mdc0ebe6419\" y=\"192.236686\"/>\r\n     <use style=\"fill-opacity:0;stroke:#ffffff;\" x=\"200.6875\" xlink:href=\"#mdc0ebe6419\" y=\"194.738872\"/>\r\n     <use style=\"fill-opacity:0;stroke:#ffffff;\" x=\"200.6875\" xlink:href=\"#mdc0ebe6419\" y=\"194.738872\"/>\r\n     <use style=\"fill-opacity:0;stroke:#ffffff;\" x=\"200.6875\" xlink:href=\"#mdc0ebe6419\" y=\"194.738872\"/>\r\n     <use style=\"fill-opacity:0;stroke:#ffffff;\" x=\"200.6875\" xlink:href=\"#mdc0ebe6419\" y=\"194.738872\"/>\r\n     <use style=\"fill-opacity:0;stroke:#ffffff;\" x=\"200.6875\" xlink:href=\"#mdc0ebe6419\" y=\"194.738872\"/>\r\n     <use style=\"fill-opacity:0;stroke:#ffffff;\" x=\"200.6875\" xlink:href=\"#mdc0ebe6419\" y=\"194.738872\"/>\r\n     <use style=\"fill-opacity:0;stroke:#ffffff;\" x=\"200.6875\" xlink:href=\"#mdc0ebe6419\" y=\"194.738872\"/>\r\n     <use style=\"fill-opacity:0;stroke:#ffffff;\" x=\"200.6875\" xlink:href=\"#mdc0ebe6419\" y=\"194.738872\"/>\r\n     <use style=\"fill-opacity:0;stroke:#ffffff;\" x=\"200.6875\" xlink:href=\"#mdc0ebe6419\" y=\"194.738872\"/>\r\n     <use style=\"fill-opacity:0;stroke:#ffffff;\" x=\"200.6875\" xlink:href=\"#mdc0ebe6419\" y=\"194.738872\"/>\r\n     <use style=\"fill-opacity:0;stroke:#ffffff;\" x=\"200.6875\" xlink:href=\"#mdc0ebe6419\" y=\"197.241059\"/>\r\n     <use style=\"fill-opacity:0;stroke:#ffffff;\" x=\"200.6875\" xlink:href=\"#mdc0ebe6419\" y=\"197.241059\"/>\r\n     <use style=\"fill-opacity:0;stroke:#ffffff;\" x=\"200.6875\" xlink:href=\"#mdc0ebe6419\" y=\"197.241059\"/>\r\n     <use style=\"fill-opacity:0;stroke:#ffffff;\" x=\"200.6875\" xlink:href=\"#mdc0ebe6419\" y=\"197.241059\"/>\r\n     <use style=\"fill-opacity:0;stroke:#ffffff;\" x=\"200.6875\" xlink:href=\"#mdc0ebe6419\" y=\"197.241059\"/>\r\n     <use style=\"fill-opacity:0;stroke:#ffffff;\" x=\"200.6875\" xlink:href=\"#mdc0ebe6419\" y=\"197.241059\"/>\r\n     <use style=\"fill-opacity:0;stroke:#ffffff;\" x=\"200.6875\" xlink:href=\"#mdc0ebe6419\" y=\"197.241059\"/>\r\n     <use style=\"fill-opacity:0;stroke:#ffffff;\" x=\"200.6875\" xlink:href=\"#mdc0ebe6419\" y=\"197.241059\"/>\r\n     <use style=\"fill-opacity:0;stroke:#ffffff;\" x=\"200.6875\" xlink:href=\"#mdc0ebe6419\" y=\"199.743245\"/>\r\n     <use style=\"fill-opacity:0;stroke:#ffffff;\" x=\"200.6875\" xlink:href=\"#mdc0ebe6419\" y=\"199.743245\"/>\r\n     <use style=\"fill-opacity:0;stroke:#ffffff;\" x=\"200.6875\" xlink:href=\"#mdc0ebe6419\" y=\"199.743245\"/>\r\n     <use style=\"fill-opacity:0;stroke:#ffffff;\" x=\"200.6875\" xlink:href=\"#mdc0ebe6419\" y=\"199.743245\"/>\r\n     <use style=\"fill-opacity:0;stroke:#ffffff;\" x=\"200.6875\" xlink:href=\"#mdc0ebe6419\" y=\"199.743245\"/>\r\n     <use style=\"fill-opacity:0;stroke:#ffffff;\" x=\"200.6875\" xlink:href=\"#mdc0ebe6419\" y=\"199.743245\"/>\r\n     <use style=\"fill-opacity:0;stroke:#ffffff;\" x=\"200.6875\" xlink:href=\"#mdc0ebe6419\" y=\"199.743245\"/>\r\n     <use style=\"fill-opacity:0;stroke:#ffffff;\" x=\"200.6875\" xlink:href=\"#mdc0ebe6419\" y=\"199.743245\"/>\r\n     <use style=\"fill-opacity:0;stroke:#ffffff;\" x=\"200.6875\" xlink:href=\"#mdc0ebe6419\" y=\"199.743245\"/>\r\n     <use style=\"fill-opacity:0;stroke:#ffffff;\" x=\"200.6875\" xlink:href=\"#mdc0ebe6419\" y=\"199.743245\"/>\r\n     <use style=\"fill-opacity:0;stroke:#ffffff;\" x=\"200.6875\" xlink:href=\"#mdc0ebe6419\" y=\"199.743245\"/>\r\n     <use style=\"fill-opacity:0;stroke:#ffffff;\" x=\"200.6875\" xlink:href=\"#mdc0ebe6419\" y=\"199.743245\"/>\r\n     <use style=\"fill-opacity:0;stroke:#ffffff;\" x=\"200.6875\" xlink:href=\"#mdc0ebe6419\" y=\"199.743245\"/>\r\n     <use style=\"fill-opacity:0;stroke:#ffffff;\" x=\"200.6875\" xlink:href=\"#mdc0ebe6419\" y=\"199.743245\"/>\r\n     <use style=\"fill-opacity:0;stroke:#ffffff;\" x=\"200.6875\" xlink:href=\"#mdc0ebe6419\" y=\"202.245432\"/>\r\n     <use style=\"fill-opacity:0;stroke:#ffffff;\" x=\"200.6875\" xlink:href=\"#mdc0ebe6419\" y=\"202.245432\"/>\r\n     <use style=\"fill-opacity:0;stroke:#ffffff;\" x=\"200.6875\" xlink:href=\"#mdc0ebe6419\" y=\"202.245432\"/>\r\n     <use style=\"fill-opacity:0;stroke:#ffffff;\" x=\"200.6875\" xlink:href=\"#mdc0ebe6419\" y=\"202.245432\"/>\r\n     <use style=\"fill-opacity:0;stroke:#ffffff;\" x=\"200.6875\" xlink:href=\"#mdc0ebe6419\" y=\"202.245432\"/>\r\n     <use style=\"fill-opacity:0;stroke:#ffffff;\" x=\"200.6875\" xlink:href=\"#mdc0ebe6419\" y=\"202.245432\"/>\r\n     <use style=\"fill-opacity:0;stroke:#ffffff;\" x=\"200.6875\" xlink:href=\"#mdc0ebe6419\" y=\"202.245432\"/>\r\n     <use style=\"fill-opacity:0;stroke:#ffffff;\" x=\"200.6875\" xlink:href=\"#mdc0ebe6419\" y=\"202.245432\"/>\r\n     <use style=\"fill-opacity:0;stroke:#ffffff;\" x=\"200.6875\" xlink:href=\"#mdc0ebe6419\" y=\"202.245432\"/>\r\n     <use style=\"fill-opacity:0;stroke:#ffffff;\" x=\"200.6875\" xlink:href=\"#mdc0ebe6419\" y=\"204.747618\"/>\r\n     <use style=\"fill-opacity:0;stroke:#ffffff;\" x=\"200.6875\" xlink:href=\"#mdc0ebe6419\" y=\"204.747618\"/>\r\n     <use style=\"fill-opacity:0;stroke:#ffffff;\" x=\"200.6875\" xlink:href=\"#mdc0ebe6419\" y=\"204.747618\"/>\r\n     <use style=\"fill-opacity:0;stroke:#ffffff;\" x=\"200.6875\" xlink:href=\"#mdc0ebe6419\" y=\"204.747618\"/>\r\n     <use style=\"fill-opacity:0;stroke:#ffffff;\" x=\"200.6875\" xlink:href=\"#mdc0ebe6419\" y=\"204.747618\"/>\r\n     <use style=\"fill-opacity:0;stroke:#ffffff;\" x=\"200.6875\" xlink:href=\"#mdc0ebe6419\" y=\"204.747618\"/>\r\n     <use style=\"fill-opacity:0;stroke:#ffffff;\" x=\"200.6875\" xlink:href=\"#mdc0ebe6419\" y=\"204.747618\"/>\r\n     <use style=\"fill-opacity:0;stroke:#ffffff;\" x=\"200.6875\" xlink:href=\"#mdc0ebe6419\" y=\"207.249804\"/>\r\n     <use style=\"fill-opacity:0;stroke:#ffffff;\" x=\"200.6875\" xlink:href=\"#mdc0ebe6419\" y=\"207.249804\"/>\r\n     <use style=\"fill-opacity:0;stroke:#ffffff;\" x=\"200.6875\" xlink:href=\"#mdc0ebe6419\" y=\"207.249804\"/>\r\n     <use style=\"fill-opacity:0;stroke:#ffffff;\" x=\"200.6875\" xlink:href=\"#mdc0ebe6419\" y=\"207.249804\"/>\r\n     <use style=\"fill-opacity:0;stroke:#ffffff;\" x=\"200.6875\" xlink:href=\"#mdc0ebe6419\" y=\"207.249804\"/>\r\n     <use style=\"fill-opacity:0;stroke:#ffffff;\" x=\"200.6875\" xlink:href=\"#mdc0ebe6419\" y=\"209.751991\"/>\r\n     <use style=\"fill-opacity:0;stroke:#ffffff;\" x=\"200.6875\" xlink:href=\"#mdc0ebe6419\" y=\"209.751991\"/>\r\n     <use style=\"fill-opacity:0;stroke:#ffffff;\" x=\"200.6875\" xlink:href=\"#mdc0ebe6419\" y=\"212.254177\"/>\r\n     <use style=\"fill-opacity:0;stroke:#ffffff;\" x=\"200.6875\" xlink:href=\"#mdc0ebe6419\" y=\"214.756364\"/>\r\n     <use style=\"fill-opacity:0;stroke:#ffffff;\" x=\"200.6875\" xlink:href=\"#mdc0ebe6419\" y=\"214.756364\"/>\r\n    </g>\r\n   </g>\r\n   <g id=\"line2d_17\">\r\n    <path clip-path=\"url(#pd4485c007c)\" d=\"M 175.5775 84.64267 \r\nL 225.7975 84.64267 \r\n\" style=\"fill:none;stroke:#bfbbd9;stroke-linecap:square;\"/>\r\n   </g>\r\n   <g id=\"patch_3\">\r\n    <path d=\"M 33.2875 224.64 \r\nL 33.2875 7.2 \r\n\" style=\"fill:none;stroke:#ffffff;stroke-linecap:square;stroke-linejoin:miter;stroke-width:0.8;\"/>\r\n   </g>\r\n   <g id=\"patch_4\">\r\n    <path d=\"M 368.0875 224.64 \r\nL 368.0875 7.2 \r\n\" style=\"fill:none;stroke:#ffffff;stroke-linecap:square;stroke-linejoin:miter;stroke-width:0.8;\"/>\r\n   </g>\r\n   <g id=\"patch_5\">\r\n    <path d=\"M 33.2875 224.64 \r\nL 368.0875 224.64 \r\n\" style=\"fill:none;stroke:#ffffff;stroke-linecap:square;stroke-linejoin:miter;stroke-width:0.8;\"/>\r\n   </g>\r\n   <g id=\"patch_6\">\r\n    <path d=\"M 33.2875 7.2 \r\nL 368.0875 7.2 \r\n\" style=\"fill:none;stroke:#ffffff;stroke-linecap:square;stroke-linejoin:miter;stroke-width:0.8;\"/>\r\n   </g>\r\n  </g>\r\n </g>\r\n <defs>\r\n  <clipPath id=\"pd4485c007c\">\r\n   <rect height=\"217.44\" width=\"334.8\" x=\"33.2875\" y=\"7.2\"/>\r\n  </clipPath>\r\n </defs>\r\n</svg>\r\n",
      "text/plain": [
       "<Figure size 432x288 with 1 Axes>"
      ]
     },
     "metadata": {}
    }
   ],
   "metadata": {}
  },
  {
   "cell_type": "code",
   "execution_count": null,
   "source": [],
   "outputs": [],
   "metadata": {}
  }
 ],
 "metadata": {
  "orig_nbformat": 4,
  "language_info": {
   "name": "python",
   "version": "3.9.7",
   "mimetype": "text/x-python",
   "codemirror_mode": {
    "name": "ipython",
    "version": 3
   },
   "pygments_lexer": "ipython3",
   "nbconvert_exporter": "python",
   "file_extension": ".py"
  },
  "kernelspec": {
   "name": "python3",
   "display_name": "Python 3.9.7 64-bit ('automate': conda)"
  },
  "interpreter": {
   "hash": "6066184e1aa427624f0ae889597d012321960d0d1906496caae846833fdbecd3"
  }
 },
 "nbformat": 4,
 "nbformat_minor": 2
}