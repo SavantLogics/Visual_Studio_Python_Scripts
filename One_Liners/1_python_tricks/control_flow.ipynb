{
 "cells": [
  {
   "cell_type": "markdown",
   "metadata": {},
   "source": [
    "### Control Flow "
   ]
  },
  {
   "cell_type": "code",
   "execution_count": 1,
   "metadata": {},
   "outputs": [
    {
     "name": "stdout",
     "output_type": "stream",
     "text": [
      "That number is pretty small.\n"
     ]
    }
   ],
   "source": [
    "# if, else, and elif\n",
    "\n",
    "x = int(input(\"Pick a number: \"))\n",
    "if x > 10:\n",
    "    print(\"That's a big number!\")\n",
    "elif x == 10:\n",
    "    print(\"Nice! You picked the same number.\")\n",
    "else:\n",
    "    print(\"That number is pretty small.\")"
   ]
  }
 ],
 "metadata": {
  "interpreter": {
   "hash": "061251b63a9f497920bf10dad6036189a87a30f455ce3da0b9fca4969ac0e38b"
  },
  "kernelspec": {
   "display_name": "Python 3.9.7 64-bit ('data_analysis': conda)",
   "language": "python",
   "name": "python3"
  },
  "language_info": {
   "codemirror_mode": {
    "name": "ipython",
    "version": 3
   },
   "file_extension": ".py",
   "mimetype": "text/x-python",
   "name": "python",
   "nbconvert_exporter": "python",
   "pygments_lexer": "ipython3",
   "version": "3.9.7"
  },
  "orig_nbformat": 4
 },
 "nbformat": 4,
 "nbformat_minor": 2
}
