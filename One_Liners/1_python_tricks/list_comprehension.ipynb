{
 "cells": [
  {
   "cell_type": "markdown",
   "metadata": {},
   "source": [
    "LIST COMPREHENSION"
   ]
  },
  {
   "cell_type": "code",
   "execution_count": 1,
   "metadata": {},
   "outputs": [
    {
     "name": "stdout",
     "output_type": "stream",
     "text": [
      "[('Alice', 100000), ('Carol', 120000)]\n"
     ]
    }
   ],
   "source": [
    "# Normal way of writing a list comprehension\n",
    "employees = {\n",
    "    'Alice' : 100000,\n",
    "    'Bob' : 99000,\n",
    "    'Carol' : 120000,\n",
    "    'Frank' : 88000,\n",
    "    'Eve' : 95000}\n",
    "\n",
    "top_earners = []\n",
    "for key, val in employees.items():\n",
    "    if val >= 100000:\n",
    "        top_earners.append((key, val))\n",
    "print(top_earners)"
   ]
  },
  {
   "cell_type": "code",
   "execution_count": 2,
   "metadata": {},
   "outputs": [
    {
     "name": "stdout",
     "output_type": "stream",
     "text": [
      "[('Alice', 100000), ('Carol', 120000)]\n"
     ]
    }
   ],
   "source": [
    "# One liner way of writing a list comprehension\n",
    "employees = {\n",
    "    'Alice' : 100000,\n",
    "    'Bob' : 99000,\n",
    "    'Carol' : 120000,\n",
    "    'Frank' : 88000,\n",
    "    'Eve' : 95000}\n",
    "\n",
    "top_earners = [(k, v) for k, v in employees.items() if v >= 100000] # one liner\n",
    "print(top_earners)"
   ]
  },
  {
   "cell_type": "code",
   "execution_count": null,
   "metadata": {},
   "outputs": [],
   "source": []
  }
 ],
 "metadata": {
  "interpreter": {
   "hash": "6066184e1aa427624f0ae889597d012321960d0d1906496caae846833fdbecd3"
  },
  "kernelspec": {
   "display_name": "Python 3.9.7 64-bit ('automate': conda)",
   "language": "python",
   "name": "python3"
  },
  "language_info": {
   "codemirror_mode": {
    "name": "ipython",
    "version": 3
   },
   "file_extension": ".py",
   "mimetype": "text/x-python",
   "name": "python",
   "nbconvert_exporter": "python",
   "pygments_lexer": "ipython3",
   "version": "3.9.7"
  },
  "orig_nbformat": 4
 },
 "nbformat": 4,
 "nbformat_minor": 2
}
