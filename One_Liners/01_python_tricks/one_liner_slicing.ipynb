{
 "cells": [
  {
   "cell_type": "markdown",
   "metadata": {},
   "source": [
    "### Slicing, Broadcasting, and Array Types"
   ]
  },
  {
   "cell_type": "code",
   "execution_count": 2,
   "metadata": {},
   "outputs": [],
   "source": [
    "# You have data for a variety of professions, and you want to increase the salaries of just the data scientists by 10 percent every other year."
   ]
  },
  {
   "cell_type": "code",
   "execution_count": 3,
   "metadata": {},
   "outputs": [],
   "source": [
    "import numpy as np"
   ]
  },
  {
   "cell_type": "code",
   "execution_count": 4,
   "metadata": {},
   "outputs": [],
   "source": [
    "# Data: yearly salary in $(1000) [2025, 2026, 2027]\n",
    "dataScientist       = [130,132,137] \n",
    "productManager      = [127,140,145]\n",
    "designer            = [118,118,127]\n",
    "softwareEngineer    = [129,131,137] "
   ]
  },
  {
   "cell_type": "code",
   "execution_count": 8,
   "metadata": {},
   "outputs": [],
   "source": [
    "employees = np.array([dataScientist,\n",
    "                      productManager,\n",
    "                      designer,\n",
    "                      softwareEngineer])"
   ]
  },
  {
   "cell_type": "code",
   "execution_count": 9,
   "metadata": {},
   "outputs": [
    {
     "data": {
      "text/plain": [
       "array([[130, 132, 137],\n",
       "       [127, 140, 145],\n",
       "       [118, 118, 127],\n",
       "       [129, 131, 137]])"
      ]
     },
     "execution_count": 9,
     "metadata": {},
     "output_type": "execute_result"
    }
   ],
   "source": [
    "employees"
   ]
  },
  {
   "cell_type": "code",
   "execution_count": 10,
   "metadata": {},
   "outputs": [
    {
     "name": "stdout",
     "output_type": "stream",
     "text": [
      "[[143 132 150]\n",
      " [127 140 145]\n",
      " [118 118 127]\n",
      " [129 131 137]]\n"
     ]
    }
   ],
   "source": [
    "# One liner \n",
    "employees[0,::2] = employees[0,::2] * 1.1\n",
    "\n",
    "# Result\n",
    "print(employees)"
   ]
  }
 ],
 "metadata": {
  "interpreter": {
   "hash": "061251b63a9f497920bf10dad6036189a87a30f455ce3da0b9fca4969ac0e38b"
  },
  "kernelspec": {
   "display_name": "Python 3.9.7 64-bit ('data_analysis': conda)",
   "language": "python",
   "name": "python3"
  },
  "language_info": {
   "codemirror_mode": {
    "name": "ipython",
    "version": 3
   },
   "file_extension": ".py",
   "mimetype": "text/x-python",
   "name": "python",
   "nbconvert_exporter": "python",
   "pygments_lexer": "ipython3",
   "version": "3.9.7"
  },
  "orig_nbformat": 4
 },
 "nbformat": 4,
 "nbformat_minor": 2
}
